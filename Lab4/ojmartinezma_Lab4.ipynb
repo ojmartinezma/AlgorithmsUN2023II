{
  "cells": [
    {
      "cell_type": "markdown",
      "metadata": {
        "id": "view-in-github",
        "colab_type": "text"
      },
      "source": [
        "<a href=\"https://colab.research.google.com/github/ojmartinezma/AlgorithmsUN2024I/blob/main/Lab4/ojmartinezma_Lab4.ipynb\" target=\"_parent\"><img src=\"https://colab.research.google.com/assets/colab-badge.svg\" alt=\"Open In Colab\"/></a>"
      ]
    },
    {
      "cell_type": "code",
      "execution_count": 1,
      "metadata": {
        "id": "im-VVd1__7VU",
        "colab": {
          "base_uri": "https://localhost:8080/"
        },
        "outputId": "9e4648a6-4f91-498d-c903-42910aeb3d8c"
      },
      "outputs": [
        {
          "output_type": "stream",
          "name": "stdout",
          "text": [
            "processor\t: 0\n",
            "vendor_id\t: AuthenticAMD\n",
            "cpu family\t: 23\n",
            "model\t\t: 49\n",
            "model name\t: AMD EPYC 7B12\n",
            "stepping\t: 0\n",
            "microcode\t: 0xffffffff\n",
            "cpu MHz\t\t: 2249.998\n",
            "cache size\t: 512 KB\n",
            "physical id\t: 0\n",
            "siblings\t: 2\n",
            "core id\t\t: 0\n",
            "cpu cores\t: 1\n",
            "apicid\t\t: 0\n",
            "initial apicid\t: 0\n",
            "fpu\t\t: yes\n",
            "fpu_exception\t: yes\n",
            "cpuid level\t: 13\n",
            "wp\t\t: yes\n",
            "flags\t\t: fpu vme de pse tsc msr pae mce cx8 apic sep mtrr pge mca cmov pat pse36 clflush mmx fxsr sse sse2 ht syscall nx mmxext fxsr_opt pdpe1gb rdtscp lm constant_tsc rep_good nopl nonstop_tsc cpuid extd_apicid tsc_known_freq pni pclmulqdq ssse3 fma cx16 sse4_1 sse4_2 x2apic movbe popcnt aes xsave avx f16c rdrand hypervisor lahf_lm cmp_legacy cr8_legacy abm sse4a misalignsse 3dnowprefetch osvw topoext ssbd ibrs ibpb stibp vmmcall fsgsbase tsc_adjust bmi1 avx2 smep bmi2 rdseed adx smap clflushopt clwb sha_ni xsaveopt xsavec xgetbv1 clzero xsaveerptr arat npt nrip_save umip rdpid\n",
            "bugs\t\t: sysret_ss_attrs null_seg spectre_v1 spectre_v2 spec_store_bypass retbleed smt_rsb srso\n",
            "bogomips\t: 4499.99\n",
            "TLB size\t: 3072 4K pages\n",
            "clflush size\t: 64\n",
            "cache_alignment\t: 64\n",
            "address sizes\t: 48 bits physical, 48 bits virtual\n",
            "power management:\n",
            "\n",
            "processor\t: 1\n",
            "vendor_id\t: AuthenticAMD\n",
            "cpu family\t: 23\n",
            "model\t\t: 49\n",
            "model name\t: AMD EPYC 7B12\n",
            "stepping\t: 0\n",
            "microcode\t: 0xffffffff\n",
            "cpu MHz\t\t: 2249.998\n",
            "cache size\t: 512 KB\n",
            "physical id\t: 0\n",
            "siblings\t: 2\n",
            "core id\t\t: 0\n",
            "cpu cores\t: 1\n",
            "apicid\t\t: 1\n",
            "initial apicid\t: 1\n",
            "fpu\t\t: yes\n",
            "fpu_exception\t: yes\n",
            "cpuid level\t: 13\n",
            "wp\t\t: yes\n",
            "flags\t\t: fpu vme de pse tsc msr pae mce cx8 apic sep mtrr pge mca cmov pat pse36 clflush mmx fxsr sse sse2 ht syscall nx mmxext fxsr_opt pdpe1gb rdtscp lm constant_tsc rep_good nopl nonstop_tsc cpuid extd_apicid tsc_known_freq pni pclmulqdq ssse3 fma cx16 sse4_1 sse4_2 x2apic movbe popcnt aes xsave avx f16c rdrand hypervisor lahf_lm cmp_legacy cr8_legacy abm sse4a misalignsse 3dnowprefetch osvw topoext ssbd ibrs ibpb stibp vmmcall fsgsbase tsc_adjust bmi1 avx2 smep bmi2 rdseed adx smap clflushopt clwb sha_ni xsaveopt xsavec xgetbv1 clzero xsaveerptr arat npt nrip_save umip rdpid\n",
            "bugs\t\t: sysret_ss_attrs null_seg spectre_v1 spectre_v2 spec_store_bypass retbleed smt_rsb srso\n",
            "bogomips\t: 4499.99\n",
            "TLB size\t: 3072 4K pages\n",
            "clflush size\t: 64\n",
            "cache_alignment\t: 64\n",
            "address sizes\t: 48 bits physical, 48 bits virtual\n",
            "power management:\n",
            "\n"
          ]
        }
      ],
      "source": [
        "!cat /proc/cpuinfo"
      ]
    },
    {
      "cell_type": "markdown",
      "metadata": {
        "id": "N1ok_-56OjB1"
      },
      "source": [
        "# I Solving the Sum of Two Digits Programming Challenge"
      ]
    },
    {
      "cell_type": "markdown",
      "metadata": {
        "id": "MMY7kmDSO0KM"
      },
      "source": [
        "## C++"
      ]
    },
    {
      "cell_type": "code",
      "execution_count": 2,
      "metadata": {
        "colab": {
          "base_uri": "https://localhost:8080/"
        },
        "id": "2pGGf9BkPNIk",
        "outputId": "f341cf42-a250-413d-9b31-5f23cae928aa"
      },
      "outputs": [
        {
          "output_type": "stream",
          "name": "stdout",
          "text": [
            "Writing APlusB.cpp\n"
          ]
        }
      ],
      "source": [
        "%%writefile APlusB.cpp\n",
        "#include <iostream>\n",
        "\n",
        "int sum_of_two_digits(int first_digit, int second_digit) {\n",
        "    return first_digit + second_digit;\n",
        "}\n",
        "\n",
        "int main() {\n",
        "    int a = 0;\n",
        "    int b = 0;\n",
        "    std::cin >> a;\n",
        "    std::cin >> b;\n",
        "    std::cout << sum_of_two_digits(a, b);\n",
        "    return 0;\n",
        "}"
      ]
    },
    {
      "cell_type": "code",
      "execution_count": 3,
      "metadata": {
        "colab": {
          "base_uri": "https://localhost:8080/"
        },
        "id": "0G3ZKOYAPXSU",
        "outputId": "ab3aa1f9-a2c1-44bb-a931-97df888ad5ad"
      },
      "outputs": [
        {
          "output_type": "stream",
          "name": "stdout",
          "text": [
            "^C\n"
          ]
        }
      ],
      "source": [
        "!g++ APlusB.cpp -o APlusB -std=c++11\n",
        "!./APlusB"
      ]
    },
    {
      "cell_type": "markdown",
      "metadata": {
        "id": "iNkG2HqfTl9c"
      },
      "source": [
        "### Test input output files"
      ]
    },
    {
      "cell_type": "code",
      "execution_count": 240,
      "metadata": {
        "colab": {
          "base_uri": "https://localhost:8080/"
        },
        "id": "aTzU2efzMxly",
        "outputId": "276d8f6b-80f1-4816-f57d-572e71aef2ed"
      },
      "outputs": [
        {
          "output_type": "stream",
          "name": "stdout",
          "text": [
            "Overwriting input1.txt\n"
          ]
        }
      ],
      "source": [
        "%%writefile input1.txt\n",
        "4 8"
      ]
    },
    {
      "cell_type": "code",
      "execution_count": 5,
      "metadata": {
        "colab": {
          "base_uri": "https://localhost:8080/"
        },
        "id": "zBJ0Gc0NQRet",
        "outputId": "236e2a07-2105-4bec-d1af-4df1a344e6fd"
      },
      "outputs": [
        {
          "output_type": "stream",
          "name": "stdout",
          "text": [
            "Writing output1.txt\n"
          ]
        }
      ],
      "source": [
        "%%writefile output1.txt\n",
        "12"
      ]
    },
    {
      "cell_type": "code",
      "execution_count": 6,
      "metadata": {
        "colab": {
          "base_uri": "https://localhost:8080/"
        },
        "id": "IjEcIx63PJAN",
        "outputId": "07dec94b-a5c4-420d-cd89-cf4be2eeb4cb"
      },
      "outputs": [
        {
          "output_type": "stream",
          "name": "stdout",
          "text": [
            "Writing input2.txt\n"
          ]
        }
      ],
      "source": [
        "%%writefile input2.txt\n",
        "0 9"
      ]
    },
    {
      "cell_type": "code",
      "execution_count": 7,
      "metadata": {
        "colab": {
          "base_uri": "https://localhost:8080/"
        },
        "id": "Up9gOrxURTmd",
        "outputId": "d8884185-223c-44b0-a379-b78ab1d82e55"
      },
      "outputs": [
        {
          "output_type": "stream",
          "name": "stdout",
          "text": [
            "Writing output2.txt\n"
          ]
        }
      ],
      "source": [
        "%%writefile output2.txt\n",
        "9"
      ]
    },
    {
      "cell_type": "code",
      "execution_count": 8,
      "metadata": {
        "colab": {
          "base_uri": "https://localhost:8080/"
        },
        "id": "PST6G-s-Pwgc",
        "outputId": "ded6ba78-cc20-4940-9fdc-ccbd1b232316"
      },
      "outputs": [
        {
          "output_type": "stream",
          "name": "stdout",
          "text": [
            "12"
          ]
        }
      ],
      "source": [
        "!./APlusB < input1.txt"
      ]
    },
    {
      "cell_type": "code",
      "execution_count": 9,
      "metadata": {
        "colab": {
          "base_uri": "https://localhost:8080/"
        },
        "id": "cKxZOjSlRfIN",
        "outputId": "03d967b1-d068-4791-9310-4c8fe3e09de1"
      },
      "outputs": [
        {
          "output_type": "stream",
          "name": "stdout",
          "text": [
            "9"
          ]
        }
      ],
      "source": [
        "!./APlusB < input2.txt"
      ]
    },
    {
      "cell_type": "markdown",
      "metadata": {
        "id": "Qw2TQWCCUwqk"
      },
      "source": [
        "### Comparing files with grep\n",
        "\n",
        "https://askubuntu.com/questions/546796/comparing-two-text-files"
      ]
    },
    {
      "cell_type": "code",
      "execution_count": 10,
      "metadata": {
        "id": "WVIaAmMKU4QM"
      },
      "outputs": [],
      "source": [
        "!grep -xvFf output1.txt output1.txt"
      ]
    },
    {
      "cell_type": "code",
      "execution_count": 11,
      "metadata": {
        "id": "MQU8gPPjQuYO",
        "colab": {
          "base_uri": "https://localhost:8080/"
        },
        "outputId": "f35aaa2c-359d-471c-a869-666696797312"
      },
      "outputs": [
        {
          "output_type": "stream",
          "name": "stdout",
          "text": [
            "9\n"
          ]
        }
      ],
      "source": [
        "!grep -xvFf output1.txt output2.txt"
      ]
    },
    {
      "cell_type": "code",
      "execution_count": 12,
      "metadata": {
        "colab": {
          "base_uri": "https://localhost:8080/"
        },
        "id": "jYL9OuYBTD_l",
        "outputId": "ed9aa863-5caa-4503-c9d8-bcf2ae9f5d22"
      },
      "outputs": [
        {
          "output_type": "stream",
          "name": "stdout",
          "text": [
            "12\n"
          ]
        }
      ],
      "source": [
        "!grep -xvFf output2.txt output1.txt"
      ]
    },
    {
      "cell_type": "code",
      "execution_count": 13,
      "metadata": {
        "id": "Jlja0Xm4TX9M"
      },
      "outputs": [],
      "source": [
        "!./APlusB < input1.txt> ctest1.txt\n",
        "!grep -xvFf output1.txt ctest1.txt"
      ]
    },
    {
      "cell_type": "code",
      "execution_count": 14,
      "metadata": {
        "id": "g9OIUZA_QLCQ"
      },
      "outputs": [],
      "source": [
        "!./APlusB < input2.txt > ctest2.txt\n",
        "!grep -xvFf output2.txt ctest2.txt"
      ]
    },
    {
      "cell_type": "markdown",
      "metadata": {
        "id": "3BgOaDjUVJk6"
      },
      "source": [
        "## Python"
      ]
    },
    {
      "cell_type": "code",
      "execution_count": 15,
      "metadata": {
        "colab": {
          "base_uri": "https://localhost:8080/"
        },
        "id": "DBvl-T0CTN_8",
        "outputId": "b5896e17-0aff-4fe5-ceaf-59815fe2f643"
      },
      "outputs": [
        {
          "output_type": "stream",
          "name": "stdout",
          "text": [
            "Writing sum.py\n"
          ]
        }
      ],
      "source": [
        "%%writefile sum.py\n",
        "# python3\n",
        "\n",
        "def sum_of_two_digits(first_digit, second_digit):\n",
        "    return first_digit + second_digit\n",
        "\n",
        "if __name__ == '__main__':\n",
        "    a, b = map(int, input().split())\n",
        "    print(sum_of_two_digits(a, b))"
      ]
    },
    {
      "cell_type": "code",
      "execution_count": 16,
      "metadata": {
        "colab": {
          "base_uri": "https://localhost:8080/"
        },
        "id": "QKoKM11_WGyF",
        "outputId": "2634c217-c2ca-464e-8687-e0f0bba1620a"
      },
      "outputs": [
        {
          "output_type": "stream",
          "name": "stdout",
          "text": [
            "Traceback (most recent call last):\n",
            "  File \"/content/sum.py\", line 7, in <module>\n",
            "    a, b = map(int, input().split())\n",
            "KeyboardInterrupt\n",
            "^C\n"
          ]
        }
      ],
      "source": [
        "!python sum.py"
      ]
    },
    {
      "cell_type": "code",
      "execution_count": 17,
      "metadata": {
        "id": "cocFbPRTWrqt"
      },
      "outputs": [],
      "source": [
        "!python sum.py  < input1.txt> ptest1.txt\n",
        "!grep -xvFf output1.txt ptest1.txt"
      ]
    },
    {
      "cell_type": "code",
      "execution_count": 18,
      "metadata": {
        "id": "MorKTa-XXASN"
      },
      "outputs": [],
      "source": [
        "!python sum.py  < input2.txt> ptest2.txt\n",
        "!grep -xvFf output2.txt ptest2.txt"
      ]
    },
    {
      "cell_type": "markdown",
      "metadata": {
        "id": "uvP-mOubW_5F"
      },
      "source": [
        "# II Solving The Maximum Pairwise Product Programming Challenge in C++"
      ]
    },
    {
      "cell_type": "markdown",
      "metadata": {
        "id": "C12yoFR6Xonl"
      },
      "source": [
        "## C++\n",
        "\n",
        "$$ T(n) < 6 n^2 = O(n^2)$$"
      ]
    },
    {
      "cell_type": "code",
      "source": [
        "%%writefile max_pairwise_product_full.cpp\n",
        "#include <iostream>\n",
        "#include <vector>\n",
        "#include <algorithm>\n",
        "\n",
        "int MaxPairwiseProduct(const std::vector<int>& numbers) {\n",
        "    int max_product = 0;\n",
        "    int aux_product = 0;\n",
        "    int n = numbers.size();\n",
        "\n",
        "    for (int first = 0; first < n; ++first) {\n",
        "        for (int second = 0; second < n; ++second) {\n",
        "          if ( first != second ){\n",
        "                aux_product = numbers[first] * numbers[second];\n",
        "                if (aux_product > max_product)  max_product = aux_product;\n",
        "          }\n",
        "        }\n",
        "    }\n",
        "\n",
        "    return max_product;\n",
        "}\n",
        "\n",
        "int main() {\n",
        "    int n;\n",
        "    std::cin >> n;\n",
        "    std::vector<int> numbers(n);\n",
        "    for (int i = 0; i < n; ++i) {\n",
        "        std::cin >> numbers[i];\n",
        "    }\n",
        "\n",
        "    std::cout << MaxPairwiseProduct(numbers) << \"\\n\";\n",
        "    return 0;\n",
        "}"
      ],
      "metadata": {
        "colab": {
          "base_uri": "https://localhost:8080/"
        },
        "id": "3LpfoGv2Ae81",
        "outputId": "c722faae-0ef6-4364-8803-ca7e63295cf5"
      },
      "execution_count": 19,
      "outputs": [
        {
          "output_type": "stream",
          "name": "stdout",
          "text": [
            "Writing max_pairwise_product_full.cpp\n"
          ]
        }
      ]
    },
    {
      "cell_type": "markdown",
      "metadata": {
        "id": "m75IQQPbEHBS"
      },
      "source": [
        "#### Time Complexity\n",
        "$$\\left. \\begin{array}{llc}\n",
        " \\text{INSTRUCTION} & \\text{TYPE}& \\text{# EXECUTIONS}\\\\\n",
        "\\text{first != second} &  \\text{comparisons} &n^2 \\\\\n",
        "\\text{numbers[first] * numbers[second]}& \\ \\text{ products}  &n^2 - n \\\\\n",
        "\\text{max_product = aux_product} &  \\text{assigments} & [1, \\frac{n^2 - n}{2})  \n",
        "\\end{array}\\right\\}  =  O(n^2)$$"
      ]
    },
    {
      "cell_type": "code",
      "source": [
        "!g++ max_pairwise_product_full.cpp -o max_pairwise_product_full\n",
        "!./max_pairwise_product_full"
      ],
      "metadata": {
        "id": "PCVo1h6nCF9k",
        "colab": {
          "base_uri": "https://localhost:8080/"
        },
        "outputId": "23a99a63-84a1-4e31-e79d-655a48ad506b"
      },
      "execution_count": 20,
      "outputs": [
        {
          "output_type": "stream",
          "name": "stdout",
          "text": [
            "^C\n"
          ]
        }
      ]
    },
    {
      "cell_type": "markdown",
      "metadata": {
        "id": "e7KhxHGNS3i0"
      },
      "source": [
        "### Test 1: Small numbers"
      ]
    },
    {
      "cell_type": "code",
      "source": [
        "%%writefile input0.txt\n",
        "10\n",
        "0 0 0 0 0 0 0 0 0 0"
      ],
      "metadata": {
        "colab": {
          "base_uri": "https://localhost:8080/"
        },
        "id": "17npyXt7lYzA",
        "outputId": "2d3c42e0-83c8-43ee-91d7-b07475dcd30b"
      },
      "execution_count": 21,
      "outputs": [
        {
          "output_type": "stream",
          "name": "stdout",
          "text": [
            "Writing input0.txt\n"
          ]
        }
      ]
    },
    {
      "cell_type": "code",
      "source": [
        "!./max_pairwise_product_full < input0.txt"
      ],
      "metadata": {
        "colab": {
          "base_uri": "https://localhost:8080/"
        },
        "id": "c7jKCeQ5A1HY",
        "outputId": "4aa3e26f-1595-4805-f450-6967eeafc5c6"
      },
      "execution_count": 22,
      "outputs": [
        {
          "output_type": "stream",
          "name": "stdout",
          "text": [
            "0\n"
          ]
        }
      ]
    },
    {
      "cell_type": "code",
      "source": [
        "%%writefile output0.txt\n",
        "0"
      ],
      "metadata": {
        "colab": {
          "base_uri": "https://localhost:8080/"
        },
        "id": "NooGEkJylezm",
        "outputId": "9a2ecc22-7063-4a1d-f407-ff98cb40ed91"
      },
      "execution_count": 23,
      "outputs": [
        {
          "output_type": "stream",
          "name": "stdout",
          "text": [
            "Writing output0.txt\n"
          ]
        }
      ]
    },
    {
      "cell_type": "code",
      "source": [
        "!./max_pairwise_product_full< input0.txt > ctest0.txt\n",
        "!grep -xvFf output0.txt ctest0.txt"
      ],
      "metadata": {
        "id": "R0yFaAOrlqrE"
      },
      "execution_count": 24,
      "outputs": []
    },
    {
      "cell_type": "code",
      "execution_count": 25,
      "metadata": {
        "colab": {
          "base_uri": "https://localhost:8080/"
        },
        "id": "e1mmTzBgShT-",
        "outputId": "09e21120-c6f2-4f35-d44d-5efd777485ce"
      },
      "outputs": [
        {
          "output_type": "stream",
          "name": "stdout",
          "text": [
            "Overwriting input1.txt\n"
          ]
        }
      ],
      "source": [
        "%%writefile input1.txt\n",
        "10\n",
        "1 2 3 4 5 6 7 8 9 10"
      ]
    },
    {
      "cell_type": "code",
      "execution_count": 26,
      "metadata": {
        "colab": {
          "base_uri": "https://localhost:8080/"
        },
        "id": "vy_uI0x7TCId",
        "outputId": "abd349f9-cc5e-48d9-bd72-04597c648582"
      },
      "outputs": [
        {
          "output_type": "stream",
          "name": "stdout",
          "text": [
            "90\n"
          ]
        }
      ],
      "source": [
        "!./max_pairwise_product_full < input1.txt"
      ]
    },
    {
      "cell_type": "code",
      "execution_count": 27,
      "metadata": {
        "colab": {
          "base_uri": "https://localhost:8080/"
        },
        "id": "xaj6f9bxC6D6",
        "outputId": "4d1bec84-e6d2-454a-c6ee-288608a6cf88"
      },
      "outputs": [
        {
          "output_type": "stream",
          "name": "stdout",
          "text": [
            "Overwriting output1.txt\n"
          ]
        }
      ],
      "source": [
        "%%writefile output1.txt\n",
        "90"
      ]
    },
    {
      "cell_type": "code",
      "execution_count": 28,
      "metadata": {
        "id": "fYCjAdA_C-wy"
      },
      "outputs": [],
      "source": [
        "!./max_pairwise_product_full< input1.txt > ctest1.txt\n",
        "!grep -xvFf output1.txt ctest1.txt"
      ]
    },
    {
      "cell_type": "code",
      "source": [
        "%%writefile input2.txt\n",
        "10\n",
        "10 9 8 7 6 5 4 3 2 1"
      ],
      "metadata": {
        "colab": {
          "base_uri": "https://localhost:8080/"
        },
        "id": "ZPe40LY14_6f",
        "outputId": "deb1d1ca-17b9-4a70-b037-7973d7515054"
      },
      "execution_count": 29,
      "outputs": [
        {
          "output_type": "stream",
          "name": "stdout",
          "text": [
            "Overwriting input2.txt\n"
          ]
        }
      ]
    },
    {
      "cell_type": "code",
      "source": [
        "%%writefile output2.txt\n",
        "90"
      ],
      "metadata": {
        "colab": {
          "base_uri": "https://localhost:8080/"
        },
        "id": "xiHmF7HA5Faa",
        "outputId": "a7ebfb5c-91a6-499b-b2a9-b41588b4a635"
      },
      "execution_count": 30,
      "outputs": [
        {
          "output_type": "stream",
          "name": "stdout",
          "text": [
            "Overwriting output2.txt\n"
          ]
        }
      ]
    },
    {
      "cell_type": "code",
      "source": [
        "!./max_pairwise_product_full< input2.txt > ctest2.txt\n",
        "!grep -xvFf output2.txt ctest2.txt"
      ],
      "metadata": {
        "id": "jjwc9kwb5t_k"
      },
      "execution_count": 31,
      "outputs": []
    },
    {
      "cell_type": "markdown",
      "metadata": {
        "id": "IeZ3kTjpYmR9"
      },
      "source": [
        "### Test 2: largest input numbers 200000 200000 to check possible intger overflow"
      ]
    },
    {
      "cell_type": "code",
      "execution_count": 32,
      "metadata": {
        "colab": {
          "base_uri": "https://localhost:8080/"
        },
        "id": "LQNlZqaqYt7U",
        "outputId": "f27d0003-8dbd-4ffb-bf0d-8e49cf06f51e"
      },
      "outputs": [
        {
          "output_type": "stream",
          "name": "stdout",
          "text": [
            "Writing input3.txt\n"
          ]
        }
      ],
      "source": [
        "%%writefile input3.txt\n",
        "6\n",
        "1 3 200000 9 200000 23"
      ]
    },
    {
      "cell_type": "code",
      "execution_count": 33,
      "metadata": {
        "colab": {
          "base_uri": "https://localhost:8080/"
        },
        "id": "2Wad2VZUZDxR",
        "outputId": "cbf00670-c954-43e0-d5f7-6b18024eac8f"
      },
      "outputs": [
        {
          "output_type": "stream",
          "name": "stdout",
          "text": [
            "1345294336\n"
          ]
        }
      ],
      "source": [
        "!./max_pairwise_product_full < input3.txt"
      ]
    },
    {
      "cell_type": "code",
      "execution_count": 34,
      "metadata": {
        "colab": {
          "base_uri": "https://localhost:8080/"
        },
        "id": "EuS6n3jtDK5C",
        "outputId": "4f1dd7ec-1264-4e2c-d2b4-f108f5716d06"
      },
      "outputs": [
        {
          "output_type": "stream",
          "name": "stdout",
          "text": [
            "Writing output3.txt\n"
          ]
        }
      ],
      "source": [
        "%%writefile output3.txt\n",
        "1345294336"
      ]
    },
    {
      "cell_type": "code",
      "execution_count": 35,
      "metadata": {
        "id": "pEvp1ieyDJGq"
      },
      "outputs": [],
      "source": [
        "!./max_pairwise_product_full < input3.txt > ctest3.txt\n",
        "!grep -xvFf output3.txt ctest3.txt"
      ]
    },
    {
      "cell_type": "code",
      "source": [
        " %%writefile run_all_test.sh\n",
        "#!/bin/bash\n",
        "g++ max_pairwise_product_full.cpp -o max_pairwise_product_full\n",
        "for i in {0..3}\n",
        "do\n",
        "    ./max_pairwise_product_full < input$i.txt > ctest$i.txt\n",
        "    grep -xvFf output$i.txt ctest$i.txt\n",
        "done"
      ],
      "metadata": {
        "colab": {
          "base_uri": "https://localhost:8080/"
        },
        "id": "SrtJrKqM-God",
        "outputId": "e86c390b-8f56-40d0-fa92-c59867513530"
      },
      "execution_count": 36,
      "outputs": [
        {
          "output_type": "stream",
          "name": "stdout",
          "text": [
            "Writing run_all_test.sh\n"
          ]
        }
      ]
    },
    {
      "cell_type": "code",
      "source": [
        "!chmod u+x run_all_test.sh\n",
        "!./run_all_test.sh"
      ],
      "metadata": {
        "id": "wGWMHtzS-QnA"
      },
      "execution_count": 37,
      "outputs": []
    },
    {
      "cell_type": "markdown",
      "metadata": {
        "id": "H2SC0Qt5HCzz"
      },
      "source": [
        "### Changing the variables to long long"
      ]
    },
    {
      "cell_type": "code",
      "execution_count": 38,
      "metadata": {
        "colab": {
          "base_uri": "https://localhost:8080/"
        },
        "id": "MPcmsxiQZSfE",
        "outputId": "96f6a7a3-0fee-4084-ab3e-31814aa179f1"
      },
      "outputs": [
        {
          "output_type": "stream",
          "name": "stdout",
          "text": [
            "Writing max_pairwise_product_long_full.cpp\n"
          ]
        }
      ],
      "source": [
        "%%writefile max_pairwise_product_long_full.cpp\n",
        "#include <iostream>\n",
        "#include <vector>\n",
        "#include <algorithm>\n",
        "\n",
        "long long MaxPairwiseProduct(const std::vector<int>& numbers) {\n",
        "    long long max_product = 0LL;\n",
        "\t  long long aux_product = 0LL;\n",
        "    int n = numbers.size();\n",
        "\n",
        "    for (int first = 0; first < n; ++first) {\n",
        "        for (int second = 0; second < n; ++second) {\n",
        "          if ( first != second){\n",
        "                aux_product = (long long) numbers[first] * numbers[second];\n",
        "                if (aux_product > max_product)  max_product = aux_product;\n",
        "          }\n",
        "        }\n",
        "    }\n",
        "\n",
        "\n",
        "    return max_product;\n",
        "}\n",
        "\n",
        "int main() {\n",
        "    int n;\n",
        "    std::cin >> n;\n",
        "    std::vector<int> numbers(n);\n",
        "    for (int i = 0; i < n; ++i) {\n",
        "        std::cin >> numbers[i];\n",
        "    }\n",
        "\n",
        "    std::cout << MaxPairwiseProduct(numbers) << \"\\n\";\n",
        "    return 0;\n",
        "}\n"
      ]
    },
    {
      "cell_type": "code",
      "source": [
        "!g++ max_pairwise_product_long_full.cpp -o max_pairwise_product_long_full"
      ],
      "metadata": {
        "id": "W3xQpFXL6wjO"
      },
      "execution_count": 39,
      "outputs": []
    },
    {
      "cell_type": "code",
      "source": [
        "!./max_pairwise_product_long_full < input3.txt"
      ],
      "metadata": {
        "colab": {
          "base_uri": "https://localhost:8080/"
        },
        "id": "H5dvN9M3R9sV",
        "outputId": "1c89a406-b39d-4d3c-de08-0cd86f72d0d1"
      },
      "execution_count": 40,
      "outputs": [
        {
          "output_type": "stream",
          "name": "stdout",
          "text": [
            "40000000000\n"
          ]
        }
      ]
    },
    {
      "cell_type": "code",
      "source": [
        "%%writefile output3.txt\n",
        "40000000000"
      ],
      "metadata": {
        "colab": {
          "base_uri": "https://localhost:8080/"
        },
        "id": "H-QFZ0jcWtQA",
        "outputId": "52dad983-8862-4b54-802c-323c811b59d5"
      },
      "execution_count": 41,
      "outputs": [
        {
          "output_type": "stream",
          "name": "stdout",
          "text": [
            "Overwriting output3.txt\n"
          ]
        }
      ]
    },
    {
      "cell_type": "markdown",
      "source": [
        "### Runing multuple test with a bash shell"
      ],
      "metadata": {
        "id": "gx-sEYdfQ8f8"
      }
    },
    {
      "cell_type": "code",
      "source": [
        " %%writefile run_all_test.sh\n",
        "#!/bin/bash\n",
        "g++ max_pairwise_product_long_full.cpp -o max_pairwise_product_long_full\n",
        "for i in {1..3}\n",
        "do\n",
        "    ./max_pairwise_product_long_full < input$i.txt > ctest$i.txt\n",
        "    grep -xvFf output$i.txt ctest$i.txt\n",
        "done"
      ],
      "metadata": {
        "colab": {
          "base_uri": "https://localhost:8080/"
        },
        "id": "O9qsq2nn7elw",
        "outputId": "1224303d-0c7e-4cf1-b815-c2d14d2aa121"
      },
      "execution_count": 42,
      "outputs": [
        {
          "output_type": "stream",
          "name": "stdout",
          "text": [
            "Overwriting run_all_test.sh\n"
          ]
        }
      ]
    },
    {
      "cell_type": "code",
      "source": [
        "!chmod u+x run_all_test.sh\n",
        "!./run_all_test.sh"
      ],
      "metadata": {
        "id": "0g5kKVph7xIA"
      },
      "execution_count": 43,
      "outputs": []
    },
    {
      "cell_type": "markdown",
      "metadata": {
        "id": "XPVHkHxH6_7s"
      },
      "source": [
        "### Test 3  stress tests, 6 testing cases files input4.txt/output4.txt .. input10.txt/output10.txt\n",
        "\n",
        "---\n",
        "\n"
      ]
    },
    {
      "cell_type": "code",
      "execution_count": 44,
      "metadata": {
        "id": "PwqpBmYr69fu",
        "colab": {
          "base_uri": "https://localhost:8080/"
        },
        "outputId": "e70db54b-7301-4b20-8dc5-1c9e6d1e6798"
      },
      "outputs": [
        {
          "output_type": "stream",
          "name": "stdout",
          "text": [
            "Overwriting input3.txt\n"
          ]
        }
      ],
      "source": [
        "%%writefile input3.txt\n",
        "6\n",
        "1 5900 20690 6 200 23"
      ]
    },
    {
      "cell_type": "code",
      "execution_count": 45,
      "metadata": {
        "id": "jBCkMeR6Fw4y",
        "colab": {
          "base_uri": "https://localhost:8080/"
        },
        "outputId": "1fef8df3-3f36-42a0-cb31-107883aefffb"
      },
      "outputs": [
        {
          "output_type": "stream",
          "name": "stdout",
          "text": [
            "Writing input4.txt\n"
          ]
        }
      ],
      "source": [
        "%%writefile input4.txt\n",
        "7\n",
        "19 458 7714 101612 13845 163618 197421"
      ]
    },
    {
      "cell_type": "code",
      "source": [
        "%%writefile input5.txt\n",
        "5\n",
        "695 364 95 85 7556"
      ],
      "metadata": {
        "id": "zED8V8wu-eoM",
        "colab": {
          "base_uri": "https://localhost:8080/"
        },
        "outputId": "0c9962b8-1b6b-434a-818d-0a6a36707bbb"
      },
      "execution_count": 46,
      "outputs": [
        {
          "output_type": "stream",
          "name": "stdout",
          "text": [
            "Writing input5.txt\n"
          ]
        }
      ]
    },
    {
      "cell_type": "code",
      "source": [
        "%%writefile input6.txt\n",
        "8\n",
        "961 4856 3547 8741 6941 58 14850 963"
      ],
      "metadata": {
        "colab": {
          "base_uri": "https://localhost:8080/"
        },
        "id": "8ab_qmkGDEeu",
        "outputId": "99366b46-c1ad-4e59-8275-27e6ebed4645"
      },
      "execution_count": 47,
      "outputs": [
        {
          "output_type": "stream",
          "name": "stdout",
          "text": [
            "Writing input6.txt\n"
          ]
        }
      ]
    },
    {
      "cell_type": "code",
      "source": [
        "%%writefile input7.txt\n",
        "4\n",
        "155 9633 674 7441"
      ],
      "metadata": {
        "colab": {
          "base_uri": "https://localhost:8080/"
        },
        "id": "fPJ6_ryHDH3y",
        "outputId": "06f839d7-26d4-47d9-b72b-f388a50f0546"
      },
      "execution_count": 48,
      "outputs": [
        {
          "output_type": "stream",
          "name": "stdout",
          "text": [
            "Writing input7.txt\n"
          ]
        }
      ]
    },
    {
      "cell_type": "code",
      "source": [
        "%%writefile input8.txt\n",
        "5\n",
        "7844 625 324 874 199999"
      ],
      "metadata": {
        "colab": {
          "base_uri": "https://localhost:8080/"
        },
        "id": "MjyMhgpRDK2R",
        "outputId": "a3415c72-6e42-4603-cee2-21e6bd04729f"
      },
      "execution_count": 49,
      "outputs": [
        {
          "output_type": "stream",
          "name": "stdout",
          "text": [
            "Writing input8.txt\n"
          ]
        }
      ]
    },
    {
      "cell_type": "code",
      "source": [
        "%%writefile input9.txt\n",
        "6\n",
        "9 5638 74156 6 9745 21"
      ],
      "metadata": {
        "colab": {
          "base_uri": "https://localhost:8080/"
        },
        "id": "7NinAf1RDPkR",
        "outputId": "312cdfea-ae3d-4966-8df1-2aae95c32fd6"
      },
      "execution_count": 50,
      "outputs": [
        {
          "output_type": "stream",
          "name": "stdout",
          "text": [
            "Writing input9.txt\n"
          ]
        }
      ]
    },
    {
      "cell_type": "code",
      "source": [
        "%%writefile input10.txt\n",
        "6\n",
        "9614 5511 54584 21589 3258 6"
      ],
      "metadata": {
        "colab": {
          "base_uri": "https://localhost:8080/"
        },
        "id": "o7pWWQo3DR6e",
        "outputId": "db7a38c5-11fd-41b9-9847-8f3c4830e647"
      },
      "execution_count": 51,
      "outputs": [
        {
          "output_type": "stream",
          "name": "stdout",
          "text": [
            "Writing input10.txt\n"
          ]
        }
      ]
    },
    {
      "cell_type": "code",
      "source": [
        "!./max_pairwise_product_long_full < input1.txt\n",
        "!./max_pairwise_product_long_full < input2.txt\n",
        "!./max_pairwise_product_long_full < input3.txt > output3.txt\n",
        "!./max_pairwise_product_long_full < input4.txt > output4.txt\n",
        "!./max_pairwise_product_long_full < input5.txt > output5.txt\n",
        "!./max_pairwise_product_long_full < input6.txt > output6.txt\n",
        "!./max_pairwise_product_long_full < input7.txt > output7.txt\n",
        "!./max_pairwise_product_long_full < input8.txt > output8.txt\n",
        "!./max_pairwise_product_long_full < input9.txt > output9.txt\n",
        "!./max_pairwise_product_long_full < input10.txt > output10.txt"
      ],
      "metadata": {
        "colab": {
          "base_uri": "https://localhost:8080/"
        },
        "id": "7AQIrrLLDUQu",
        "outputId": "303c46ff-3ba8-4bfb-afbf-6b0b6aeaf644"
      },
      "execution_count": 52,
      "outputs": [
        {
          "output_type": "stream",
          "name": "stdout",
          "text": [
            "90\n",
            "90\n"
          ]
        }
      ]
    },
    {
      "cell_type": "markdown",
      "metadata": {
        "id": "9z9yr5QkeyJF"
      },
      "source": [
        "### Test 4  time test  measure the execution time running with the the largest worst cases input11.txt  (200000 increasing numbers) and input12.txt (199998 increasing numbers and  200000, 200000 at the end)"
      ]
    },
    {
      "cell_type": "code",
      "source": [
        "# input11.txt 200000 increasing numbers:  1 2 .. 200000\n",
        "\n",
        "%%writefile WriteTest.cpp\n",
        "\n",
        "#include <iostream>\n",
        "#include <fstream>\n",
        "#include <cstdlib>\n",
        "\n",
        "using namespace std;\n",
        "\n",
        "int main() {\n",
        "  // Create and open a text file\n",
        "  ofstream MyFile(\"input11.txt\");\n",
        "\n",
        " MyFile << 200000 <<\"\\n\";  // n\n",
        " for (int i=1; i <200001; i++){\n",
        "     MyFile << i <<\" \";\n",
        " }\n",
        "\n",
        "  // Close the file\n",
        "  MyFile.close();\n",
        "}"
      ],
      "metadata": {
        "colab": {
          "base_uri": "https://localhost:8080/"
        },
        "id": "UmB1ipWM_nSk",
        "outputId": "92164fea-e86c-4f46-c17c-a6d34799fdad"
      },
      "execution_count": 53,
      "outputs": [
        {
          "output_type": "stream",
          "name": "stdout",
          "text": [
            "Writing WriteTest.cpp\n"
          ]
        }
      ]
    },
    {
      "cell_type": "code",
      "execution_count": 54,
      "metadata": {
        "id": "EH25TkOkZfD9"
      },
      "outputs": [],
      "source": [
        "!g++ WriteTest.cpp -o WriteTest\n",
        "!./WriteTest"
      ]
    },
    {
      "cell_type": "code",
      "source": [
        "199999 * 200000"
      ],
      "metadata": {
        "colab": {
          "base_uri": "https://localhost:8080/"
        },
        "id": "j0mokSOnCCtZ",
        "outputId": "190713e5-0834-4573-9347-10818ec2cc49"
      },
      "execution_count": 55,
      "outputs": [
        {
          "output_type": "execute_result",
          "data": {
            "text/plain": [
              "39999800000"
            ]
          },
          "metadata": {},
          "execution_count": 55
        }
      ]
    },
    {
      "cell_type": "code",
      "source": [
        "%%writefile output11.txt\n",
        "39999800000"
      ],
      "metadata": {
        "id": "VoDhDV73B5Mo",
        "colab": {
          "base_uri": "https://localhost:8080/"
        },
        "outputId": "9f2056c7-7e0c-4a82-eea6-6a4cc0143a86"
      },
      "execution_count": 56,
      "outputs": [
        {
          "output_type": "stream",
          "name": "stdout",
          "text": [
            "Writing output11.txt\n"
          ]
        }
      ]
    },
    {
      "cell_type": "code",
      "execution_count": 57,
      "metadata": {
        "colab": {
          "base_uri": "https://localhost:8080/"
        },
        "id": "oLiMjbAIfPlX",
        "outputId": "5c2b386c-199a-4796-fb69-74f50d810d3d"
      },
      "outputs": [
        {
          "output_type": "stream",
          "name": "stdout",
          "text": [
            "Overwriting WriteTest.cpp\n"
          ]
        }
      ],
      "source": [
        "# input12.txt 200000 decreasing numbers and 200000, 199999 ...  2 1\n",
        "\n",
        "%%writefile WriteTest.cpp\n",
        "\n",
        "#include <iostream>\n",
        "#include <fstream>\n",
        "#include <cstdlib>\n",
        "\n",
        "using namespace std;\n",
        "\n",
        "int main() {\n",
        "  // Create and open a text file\n",
        "  ofstream MyFile(\"input12.txt\");\n",
        "\n",
        " MyFile << 200000 <<\"\\n\";  // n\n",
        " for (int i=1; i <200001; i++){\n",
        "     MyFile << 200001-i <<\" \";\n",
        " }\n",
        "\n",
        "  // Close the file\n",
        "  MyFile.close();\n",
        "}"
      ]
    },
    {
      "cell_type": "code",
      "source": [
        "!g++ WriteTest.cpp -o WriteTest\n",
        "!./WriteTest"
      ],
      "metadata": {
        "id": "oULNBr_zAd9c"
      },
      "execution_count": 58,
      "outputs": []
    },
    {
      "cell_type": "code",
      "source": [
        "%%writefile output12.txt\n",
        "39999800000"
      ],
      "metadata": {
        "colab": {
          "base_uri": "https://localhost:8080/"
        },
        "id": "PQLyocaFB-y4",
        "outputId": "59803d6d-11ef-466c-854e-5f1aa04b2019"
      },
      "execution_count": 59,
      "outputs": [
        {
          "output_type": "stream",
          "name": "stdout",
          "text": [
            "Writing output12.txt\n"
          ]
        }
      ]
    },
    {
      "cell_type": "markdown",
      "metadata": {
        "id": "JB6f03qO-lj9"
      },
      "source": [
        "### Measure time\n",
        "\n",
        "https://askubuntu.com/questions/53444/how-can-i-measure-the-execution-time-of-a-terminal-process"
      ]
    },
    {
      "cell_type": "code",
      "execution_count": 60,
      "metadata": {
        "colab": {
          "base_uri": "https://localhost:8080/"
        },
        "id": "6p2QLEr576zk",
        "outputId": "6660dd00-9406-4a3f-8e9b-a8de9fcec188"
      },
      "outputs": [
        {
          "output_type": "stream",
          "name": "stdout",
          "text": [
            "^C\n"
          ]
        }
      ],
      "source": [
        "!g++ max_pairwise_product_long_full.cpp -o max_pairwise_product_long_full\n",
        "!time ./max_pairwise_product_long_full< input11.txt"
      ]
    },
    {
      "cell_type": "code",
      "source": [
        "!g++ max_pairwise_product_long_full.cpp -o max_pairwise_product_long_full\n",
        "!time ./max_pairwise_product_long_full< input12.txt"
      ],
      "metadata": {
        "colab": {
          "base_uri": "https://localhost:8080/"
        },
        "id": "cnjCyeUdAnZj",
        "outputId": "fee5bd21-1287-4369-a0fe-486870077a6b"
      },
      "execution_count": 61,
      "outputs": [
        {
          "output_type": "stream",
          "name": "stdout",
          "text": [
            "^C\n"
          ]
        }
      ]
    },
    {
      "cell_type": "markdown",
      "metadata": {
        "id": "FXClpBsUJuXC"
      },
      "source": [
        "### Calculate the number or and upper bound to the number of instructions executed by the algorithm as a function of n, add in each line a comment with the number of instructions that are executed in that line."
      ]
    },
    {
      "cell_type": "code",
      "execution_count": 62,
      "metadata": {
        "colab": {
          "base_uri": "https://localhost:8080/"
        },
        "id": "uG6Mv-Pwlkii",
        "outputId": "4cb47296-c0e1-485d-a465-0c99c2484152"
      },
      "outputs": [
        {
          "output_type": "stream",
          "name": "stdout",
          "text": [
            "Overwriting max_pairwise_product_long_full.cpp\n"
          ]
        }
      ],
      "source": [
        "%%writefile max_pairwise_product_long_full.cpp\n",
        "#include <iostream>\n",
        "#include <vector>\n",
        "#include <algorithm>\n",
        "\n",
        "long long MaxPairwiseProduct(const std::vector<int>& numbers) {              //INSTRUCTIONS executed by line\n",
        "    long long max_product = 0LL;                                             //1\n",
        "\t  long long aux_product = 0LL;                                             //1\n",
        "    int n = numbers.size();                                                  //1\n",
        "\n",
        "    for (int first = 0; first < n; ++first) {                                //2+2n\n",
        "        for (int second = 0; second < n; ++second) {                         //2n + 2n**2\n",
        "          if ( first != second ){                                            //n**2\n",
        "                aux_product = numbers[first] * numbers[second];              //n**2 -n\n",
        "                if (aux_product > max_product)                               //n**2 -n\n",
        "                    max_product = aux_product;                               //[0, n**2/2 - n/2] upper bound\n",
        "          }\n",
        "        }\n",
        "    }\n",
        "\n",
        "                                                                             // --------------\n",
        "    return max_product;                                                      // 5 + 2*n + [5*n**2, 11*n**2/2  - n/2]  upper bound\n",
        "}\n",
        "\n",
        "int main() {                                              //INSTRUCTIONS executed by line\n",
        "    int n;                                                //1\n",
        "    std::cin >> n;                                        //1\n",
        "    std::vector<int> numbers(n);                          //n\n",
        "    for (int i = 0; i < n; ++i) {                         //2 + 2n\n",
        "        std::cin >> numbers[i];                           //n\n",
        "    }\n",
        "\n",
        "    std::cout << MaxPairwiseProduct(numbers) << \"\\n\";     //1 + 1  + 5 + 2*n + [5*n**2, 11*n**2/2  - n/2]\n",
        "\n",
        "    return 0;                                             // --------------\n",
        "}                                                         //  11 + 6*n + [5*n**2, 11*n**2/2  - n/2]  upper bound\n"
      ]
    },
    {
      "cell_type": "markdown",
      "metadata": {
        "id": "0vTsUg8OwcHs"
      },
      "source": [
        "### Count executed intructions in code"
      ]
    },
    {
      "cell_type": "code",
      "execution_count": 63,
      "metadata": {
        "colab": {
          "base_uri": "https://localhost:8080/"
        },
        "id": "CuRKkqQc137V",
        "outputId": "e1e20631-05a5-4afa-aff2-bc30bfa1e7d4"
      },
      "outputs": [
        {
          "output_type": "stream",
          "name": "stdout",
          "text": [
            "Writing max_pairwise_product_long_full_execints.cpp\n"
          ]
        }
      ],
      "source": [
        "%%writefile max_pairwise_product_long_full_execints.cpp\n",
        "#include <iostream>\n",
        "#include <vector>\n",
        "#include <algorithm>\n",
        "\n",
        "long long MaxPairwiseProduct(const std::vector<int>& numbers, long long &execints) {      //INSTRUCTIONS executed by line\n",
        "\n",
        "    long long max_product = 0LL;                                                          //1\n",
        "    execints++;\n",
        "\n",
        "\t  long long aux_product = 0LL;                                                          //1\n",
        "    execints++;\n",
        "\n",
        "    int n = numbers.size();                                                               //1\n",
        "    execints++;\n",
        "\n",
        "    execints++;\n",
        "    for (int first = 0; first < n; ++first) {                                             //2+2n\n",
        "        execints += 2;\n",
        "\n",
        "        execints++;\n",
        "        for (int second = 0; second < n; ++second) {                                       //2n + 2n**2\n",
        "          execints += 2;\n",
        "\n",
        "          execints++;\n",
        "          if ( first != second ){                                                         //n**2\n",
        "                aux_product = numbers[first] * numbers[second];                           //n**2 -n\n",
        "                execints++;\n",
        "\n",
        "                execints++;\n",
        "                if (aux_product > max_product){                                           //n**2 -n\n",
        "                    max_product = aux_product;                                            //[0,n**2/2 - n/2)  upper bound\n",
        "                    execints++;\n",
        "\n",
        "                }\n",
        "        }\n",
        "\n",
        "      }\n",
        "      execints++;\n",
        "    }\n",
        "    execints++;\n",
        "                                                                                        // --------------\n",
        "    return max_product;                                                                 // 5 + 2*n + [5*n**2, 11*n**2/2  - n/2] upper bound\n",
        "}\n",
        "\n",
        "int main() {                                                 //INSTRUCTIONS executed by line\n",
        "\n",
        "    long long execints =0LL;\n",
        "\n",
        "    int n;                                                   //1\n",
        "    execints++;\n",
        "\n",
        "    std::cin >> n;                                           //1\n",
        "    execints++;\n",
        "\n",
        "    std::vector<int> numbers(n);                             //n\n",
        "    execints += n;\n",
        "\n",
        "    execints++;\n",
        "    for (int i = 0; i < n; ++i) {                            //2 + 2n\n",
        "        execints += 2;\n",
        "\n",
        "        std::cin >> numbers[i];\n",
        "        execints++;                                          //n\n",
        "\n",
        "    }\n",
        "\n",
        "\n",
        "    //std::cout << MaxPairwiseProduct(numbers) << \"\\n\";      //1 + 1  + 5 + 2*n + [5*n**2, 11*n**2/2  - n/2] upper bound\n",
        "\n",
        "    execints++;\n",
        "    int M = MaxPairwiseProduct(numbers,execints);\n",
        "\n",
        "    execints++;\n",
        "    std::cout <<  execints << \"\\n\";\n",
        "    return 0;                                                // --------------\n",
        "}                                                            // 11 + 6*n + [5*n**2, 11*n**2/2  - n/2]"
      ]
    },
    {
      "cell_type": "code",
      "source": [
        "!g++ max_pairwise_product_long_full_execints.cpp -o max_pairwise_product_long_full_execints\n",
        "!./max_pairwise_product_long_full_execints < input1.txt\n",
        "!./max_pairwise_product_long_full_execints < input2.txt\n",
        "!./max_pairwise_product_long_full_execints < input3.txt"
      ],
      "metadata": {
        "id": "yz9rD4VaEJ8i",
        "colab": {
          "base_uri": "https://localhost:8080/"
        },
        "outputId": "09799a4f-e67d-4d41-b7db-15367185ca95"
      },
      "execution_count": 64,
      "outputs": [
        {
          "output_type": "stream",
          "name": "stdout",
          "text": [
            "600\n",
            "571\n",
            "229\n"
          ]
        }
      ]
    },
    {
      "cell_type": "markdown",
      "source": [
        "The number of instructions executed by the algooirithm with a list of size $n$ is  \n",
        "\n",
        "$$T (n) = 11 + 6n + \\left[5n^2, 11\\frac{n^2}{2}  - \\frac{n}{2}\\right)  >  6n^2 = O(n^2)$$\n",
        "\n",
        "It depends on the size of the lists and  the order of the list.\n",
        "\n",
        "For the input0.txt\n",
        "```\n",
        "10\n",
        "0 0 0 0 0 0 0 0 0 0\n",
        "```\n",
        "$$T = 11 + 6(10) + 5(10)^2   = 561 $$\n",
        "\n",
        "$$T(10) \\in [571, 621)  $$\n"
      ],
      "metadata": {
        "id": "cUjHtvtdDsmr"
      }
    },
    {
      "cell_type": "code",
      "source": [
        "!g++ max_pairwise_product_long_full_execints.cpp -o max_pairwise_product_long_full_execints\n",
        "!./max_pairwise_product_long_full_execints < input0.txt"
      ],
      "metadata": {
        "colab": {
          "base_uri": "https://localhost:8080/"
        },
        "id": "Om9Fevb0miAT",
        "outputId": "d99be312-fe1c-4cd5-e0ec-9c5d62a5ffd4"
      },
      "execution_count": 65,
      "outputs": [
        {
          "output_type": "stream",
          "name": "stdout",
          "text": [
            "570\n"
          ]
        }
      ]
    },
    {
      "cell_type": "markdown",
      "source": [
        "For the input1.txt\n",
        "```\n",
        "10\n",
        "1 2 3 4 5 6 7 8 9 10\n",
        "```\n",
        "$$T = 11 + 6(10) + 5(10)^2 +  9 + 5 + 4 + 3 + 2 + 2 + 2 + 2 + 1 + 0  = 601 $$\n",
        "\n",
        "$$T(10) \\in [572, 622)  $$\n"
      ],
      "metadata": {
        "id": "FwJzZ6VzmArY"
      }
    },
    {
      "cell_type": "code",
      "source": [
        "#The number of times that  max_product = aux_product; in the worst case is less than (n**2 -n)/2 -  upper bound\n",
        "\n",
        "#     1  2  3  4  5  6  7  8  9  10\n",
        "#  1  x  2  3  4  5  6  7  8  9  10         9\n",
        "#  2  2  x  6  8  10 12 14 16 18 20         5 14\n",
        "#  3  3  6  x  12 15 18 21 24 27 30         4 18\n",
        "#  4  4  8  12 x  20 24 28 32 36 40         3 21\n",
        "#  5  5  10 15 20 x  30 35 40 45 50         2 23\n",
        "#  6  6  12 18 24 30 x  42 48 54 60         2 25\n",
        "#  7  7  14 21 28 35 42 x  56 63 70         2 27\n",
        "#  8  8  18 27 36 45 54 63 72 x  90         1 30\n",
        "#  10 10 20 30 40 50 60 70 60 90 x          0"
      ],
      "metadata": {
        "id": "K59xQMWiBNFj"
      },
      "execution_count": 66,
      "outputs": []
    },
    {
      "cell_type": "code",
      "source": [
        "11 + 6*(10) + 5*(10)*(10) +  9 + 5 + 4 + 3 + 2 + 2 + 2 + 2 + 1 + 0"
      ],
      "metadata": {
        "colab": {
          "base_uri": "https://localhost:8080/"
        },
        "id": "E3O8dzFfEgir",
        "outputId": "6de0d7a5-89ed-468c-df97-cde98c8f5c2b"
      },
      "execution_count": 67,
      "outputs": [
        {
          "output_type": "execute_result",
          "data": {
            "text/plain": [
              "601"
            ]
          },
          "metadata": {},
          "execution_count": 67
        }
      ]
    },
    {
      "cell_type": "code",
      "source": [
        "n = 10\n",
        "print( \"[\", 11 + 6*n + 5*n**2,  \",\", 11 + 6*n  + 5.5*n**2, \")\")"
      ],
      "metadata": {
        "colab": {
          "base_uri": "https://localhost:8080/"
        },
        "id": "TCpdl5u_Gq1a",
        "outputId": "28737537-b2ee-451b-84d2-8fb08ba41acc"
      },
      "execution_count": 68,
      "outputs": [
        {
          "output_type": "stream",
          "name": "stdout",
          "text": [
            "[ 571 , 621.0 )\n"
          ]
        }
      ]
    },
    {
      "cell_type": "code",
      "execution_count": 69,
      "metadata": {
        "colab": {
          "base_uri": "https://localhost:8080/"
        },
        "id": "Kuvm1C05ly2a",
        "outputId": "b0e37c01-1d55-4e9a-bb24-484dd1501790"
      },
      "outputs": [
        {
          "output_type": "stream",
          "name": "stdout",
          "text": [
            "600\n"
          ]
        }
      ],
      "source": [
        "!g++ max_pairwise_product_long_full_execints.cpp -o max_pairwise_product_long_full_execints\n",
        "!./max_pairwise_product_long_full_execints < input1.txt"
      ]
    },
    {
      "cell_type": "markdown",
      "source": [
        "\n",
        "For the input2.txt\n",
        "```\n",
        "10\n",
        "10 9 8 7 6 5 4 3 2 1\n",
        "```\n",
        "$$T = 11 + 6*(10) + 5*(10)**2 +  1  = 571 $$"
      ],
      "metadata": {
        "id": "Yr_Lb7CaHfxB"
      }
    },
    {
      "cell_type": "code",
      "source": [
        "11 + 6*(10) + 5*(10)**2 +  1"
      ],
      "metadata": {
        "colab": {
          "base_uri": "https://localhost:8080/"
        },
        "id": "HOdqlwJiZUIp",
        "outputId": "39271a51-10ba-44a5-b785-57950ee28805"
      },
      "execution_count": 70,
      "outputs": [
        {
          "output_type": "execute_result",
          "data": {
            "text/plain": [
              "572"
            ]
          },
          "metadata": {},
          "execution_count": 70
        }
      ]
    },
    {
      "cell_type": "code",
      "source": [
        "!g++ max_pairwise_product_long_full_execints.cpp -o max_pairwise_product_long_full_execints\n",
        "!./max_pairwise_product_long_full_execints < input2.txt"
      ],
      "metadata": {
        "id": "_znzLectjFSe",
        "colab": {
          "base_uri": "https://localhost:8080/"
        },
        "outputId": "7d755565-d142-4ef1-af44-46625e6d0754"
      },
      "execution_count": 71,
      "outputs": [
        {
          "output_type": "stream",
          "name": "stdout",
          "text": [
            "571\n"
          ]
        }
      ]
    },
    {
      "cell_type": "markdown",
      "metadata": {
        "id": "NXW7QkoBL6xH"
      },
      "source": [
        "Calculate estimated time by instruction and number of instructions by second"
      ]
    },
    {
      "cell_type": "markdown",
      "source": [
        "For the input11.txt\n",
        "```\n",
        "200000\n",
        "1 2 ..  199999 2000\n",
        "```\n",
        "$$T = 11 + 6*(200000) + 5.5*(200000)**2  = 200001200012  $$"
      ],
      "metadata": {
        "id": "dlyRjaohz-YH"
      }
    },
    {
      "cell_type": "code",
      "source": [
        "!g++ max_pairwise_product_long_full_execints.cpp -o max_pairwise_product_long_full_execints\n",
        "!time ./max_pairwise_product_long_full_execints < input11.txt"
      ],
      "metadata": {
        "colab": {
          "base_uri": "https://localhost:8080/"
        },
        "id": "BMH8mF3EKn2w",
        "outputId": "9c40a41e-5ea0-4c90-a12c-28461f6a1674"
      },
      "execution_count": 72,
      "outputs": [
        {
          "output_type": "stream",
          "name": "stdout",
          "text": [
            "^C\n"
          ]
        }
      ]
    },
    {
      "cell_type": "code",
      "execution_count": 73,
      "metadata": {
        "colab": {
          "base_uri": "https://localhost:8080/"
        },
        "id": "pKqB3i7dIxnc",
        "outputId": "b9b7ef57-1213-4d74-ca59-76aded71afa9"
      },
      "outputs": [
        {
          "output_type": "execute_result",
          "data": {
            "text/plain": [
              "1.4749765693187072e-09"
            ]
          },
          "metadata": {},
          "execution_count": 73
        }
      ],
      "source": [
        "# Estimated time by instruction\n",
        "\n",
        "295/200003177092\n"
      ]
    },
    {
      "cell_type": "code",
      "execution_count": 74,
      "metadata": {
        "colab": {
          "base_uri": "https://localhost:8080/"
        },
        "id": "18N1ouqeMhE1",
        "outputId": "454fb1e0-3e22-4097-d50d-e8dc61c0a21e"
      },
      "outputs": [
        {
          "output_type": "execute_result",
          "data": {
            "text/plain": [
              "677976871.4983051"
            ]
          },
          "metadata": {},
          "execution_count": 74
        }
      ],
      "source": [
        "# Estimated number of instructions by second\n",
        "\n",
        "200003177092/295"
      ]
    },
    {
      "cell_type": "markdown",
      "source": [
        "### Estimate and verify the maximun n that can be solved in 1 second\n",
        "\n",
        "$$(5.5n^2 + 5.5n + 11) \\times 1.47*10^{-9} s = 1 s$$\n",
        "\n",
        "$$ n \\approx 11000$$\n"
      ],
      "metadata": {
        "id": "KyuxejFkL5X_"
      }
    },
    {
      "cell_type": "code",
      "source": [
        "# Verify input13.txt\n",
        "%%writefile WriteTest.cpp\n",
        "\n",
        "#include <iostream>\n",
        "#include <fstream>\n",
        "#include <cstdlib>\n",
        "\n",
        "using namespace std;\n",
        "\n",
        "int main() {\n",
        "  // Create and open a text file\n",
        "  ofstream MyFile(\"input13.txt\");\n",
        "\n",
        " MyFile << 11000 <<\"\\n\";  // n\n",
        " for (int i=1; i <11001; i++){\n",
        "     MyFile << i <<\" \";\n",
        " }\n",
        "\n",
        "  // Close the file\n",
        "  MyFile.close();\n",
        "}"
      ],
      "metadata": {
        "colab": {
          "base_uri": "https://localhost:8080/"
        },
        "id": "WXu5jp-DLTOI",
        "outputId": "52ec2ad4-6a30-4dcb-88a4-6e6c111392d2"
      },
      "execution_count": 75,
      "outputs": [
        {
          "output_type": "stream",
          "name": "stdout",
          "text": [
            "Overwriting WriteTest.cpp\n"
          ]
        }
      ]
    },
    {
      "cell_type": "code",
      "source": [
        "!g++ WriteTest.cpp -o WriteTest\n",
        "!./WriteTest"
      ],
      "metadata": {
        "id": "AQ8N52pUMCeT"
      },
      "execution_count": 76,
      "outputs": []
    },
    {
      "cell_type": "code",
      "source": [
        "10999 * 11000"
      ],
      "metadata": {
        "colab": {
          "base_uri": "https://localhost:8080/"
        },
        "id": "2iIOdbTrEtBx",
        "outputId": "7dc4ad5c-a80c-4f86-a17e-27dbbff424da"
      },
      "execution_count": 77,
      "outputs": [
        {
          "output_type": "execute_result",
          "data": {
            "text/plain": [
              "120989000"
            ]
          },
          "metadata": {},
          "execution_count": 77
        }
      ]
    },
    {
      "cell_type": "code",
      "source": [
        "!g++ max_pairwise_product_long_full.cpp -o max_pairwise_product_long_full\n",
        "!time ./max_pairwise_product_long_full< input13.txt"
      ],
      "metadata": {
        "colab": {
          "base_uri": "https://localhost:8080/"
        },
        "id": "ussuAokfM2du",
        "outputId": "984bb26e-fb32-4f94-89e5-fcf1affe08bf"
      },
      "execution_count": 78,
      "outputs": [
        {
          "output_type": "stream",
          "name": "stdout",
          "text": [
            "120989000\n",
            "\n",
            "real\t0m0.644s\n",
            "user\t0m0.634s\n",
            "sys\t0m0.002s\n"
          ]
        }
      ]
    },
    {
      "cell_type": "markdown",
      "metadata": {
        "id": "Tm_AVmt-QQH4"
      },
      "source": [
        "## Python"
      ]
    },
    {
      "cell_type": "code",
      "execution_count": 79,
      "metadata": {
        "id": "gRCCcd7IQTKZ",
        "colab": {
          "base_uri": "https://localhost:8080/"
        },
        "outputId": "38d628cd-09b7-4d80-9764-cf1a3cea7754"
      },
      "outputs": [
        {
          "output_type": "stream",
          "name": "stdout",
          "text": [
            "Writing max_pairwise_product_full.py\n"
          ]
        }
      ],
      "source": [
        "%%writefile max_pairwise_product_full.py\n",
        "n = int(input())                        #1\n",
        "list = input().split()                  #1\n",
        "list = [int(x) for x in list]           #n\n",
        "\n",
        "maxProduct = 0                          #1\n",
        "auxProduct = 0                          #1\n",
        "for i in range(0,n):                    #1+2n\n",
        "  for j in range(0,n):                  #n + 2n**2\n",
        "    if i!=j:                            #n**2\n",
        "      auxProduct = list[i]*list[j]      #n**2 -n\n",
        "    if maxProduct < auxProduct:         #n**2 -n\n",
        "      maxProduct = auxProduct           #[1, n**2/2 - n/2] upper bound\n",
        "\n",
        "                                        # --------------\n",
        "print(maxProduct)                       #5 + 3n + [5*n**2+1, 11*n**2/2  - n/2]  upper bound"
      ]
    },
    {
      "cell_type": "code",
      "execution_count": 80,
      "metadata": {
        "id": "kAEAoNZEQTCw",
        "colab": {
          "base_uri": "https://localhost:8080/"
        },
        "outputId": "d059ac28-b0be-49c6-a2cc-a6c8139cd5d0"
      },
      "outputs": [
        {
          "output_type": "stream",
          "name": "stdout",
          "text": [
            "chmod: cannot access 'max_pairwise_product_full_py': No such file or directory\n"
          ]
        }
      ],
      "source": [
        "!chmod +x max_pairwise_product_full_py\n",
        "\n",
        "!python max_pairwise_product_full.py < input3.txt > output3.txt\n",
        "!python max_pairwise_product_full.py < input4.txt > output4.txt\n",
        "!python max_pairwise_product_full.py < input5.txt > output5.txt\n",
        "!python max_pairwise_product_full.py < input6.txt > output6.txt\n",
        "!python max_pairwise_product_full.py < input7.txt > output7.txt\n",
        "!python max_pairwise_product_full.py < input8.txt > output8.txt\n",
        "!python max_pairwise_product_full.py < input9.txt > output9.txt\n",
        "!python max_pairwise_product_full.py < input10.txt > output10.txt"
      ]
    },
    {
      "cell_type": "code",
      "execution_count": 81,
      "metadata": {
        "id": "hjw7TJrDL0d-"
      },
      "outputs": [],
      "source": [
        "# Verify"
      ]
    },
    {
      "cell_type": "markdown",
      "source": [
        "# For the follwing solutions rquired  the same tests and analysis performed for the first solution"
      ],
      "metadata": {
        "id": "fEZR-3V4ZjCv"
      }
    },
    {
      "cell_type": "markdown",
      "metadata": {
        "id": "MKQKSC-vKePK"
      },
      "source": [
        "## Solutions in C++ and Python that uses\n",
        "$$\\frac{n^2 - n}{2} = O(n^2)\\ \\ \\text{products}$$"
      ]
    },
    {
      "cell_type": "markdown",
      "source": [
        "**C++**"
      ],
      "metadata": {
        "id": "_jChG3dMDZSH"
      }
    },
    {
      "cell_type": "code",
      "execution_count": 82,
      "metadata": {
        "id": "jkkHHoxSK65p",
        "colab": {
          "base_uri": "https://localhost:8080/"
        },
        "outputId": "a7be3c23-2fa8-4aaa-aff1-69fbfd2d333d"
      },
      "outputs": [
        {
          "output_type": "stream",
          "name": "stdout",
          "text": [
            "Writing max_pairwise_product.cpp\n"
          ]
        }
      ],
      "source": [
        "%%writefile max_pairwise_product.cpp\n",
        "#include <iostream>\n",
        "#include <vector>\n",
        "#include <algorithm>\n",
        "\n",
        "int MaxPairwiseProduct(const std::vector<int>& numbers) {\n",
        "    int max_product = 0;\n",
        "    int n = numbers.size();\n",
        "\n",
        "    for (int first = 0; first < n; ++first) {\n",
        "        for (int second = first + 1; second < n; ++second) {\n",
        "            max_product = std::max(max_product,\n",
        "                numbers[first] * numbers[second]);\n",
        "        }\n",
        "    }\n",
        "\n",
        "    return max_product;\n",
        "}\n",
        "\n",
        "int main() {\n",
        "    int n;\n",
        "    std::cin >> n;\n",
        "    std::vector<int> numbers(n);\n",
        "    for (int i = 0; i < n; ++i) {\n",
        "        std::cin >> numbers[i];\n",
        "    }\n",
        "\n",
        "    std::cout << MaxPairwiseProduct(numbers) << \"\\n\";\n",
        "    return 0;\n",
        "}"
      ]
    },
    {
      "cell_type": "code",
      "execution_count": 83,
      "metadata": {
        "id": "sU8-Ote7K8vz",
        "colab": {
          "base_uri": "https://localhost:8080/"
        },
        "outputId": "40d2fbc6-972d-4556-9cde-b5daf56f0144"
      },
      "outputs": [
        {
          "output_type": "stream",
          "name": "stdout",
          "text": [
            "Writing max_pairwise_product_long.cpp\n"
          ]
        }
      ],
      "source": [
        "%%writefile max_pairwise_product_long.cpp\n",
        "#include <iostream>\n",
        "#include <vector>\n",
        "#include <algorithm>\n",
        "\n",
        "long long MaxPairwiseProduct(const std::vector<int>& numbers,long long &execints) {              //INSTRUCTIONS executed by line\n",
        "    long long max_product = 0LL;\n",
        "    execints++;                                       //1\n",
        "\t  long long aux_product = 0LL;\n",
        "    execints++;                                           //1\n",
        "    int n = numbers.size();\n",
        "    execints++;                                             //1\n",
        "\n",
        "    for (int first = 0; first < n; ++first) {\n",
        "      execints+=2;                              //2+2n\n",
        "        for (int second = first + 1; second < n; ++second) {\n",
        "          execints++;             //2n + (n-1)n\n",
        "\t\t\t       aux_product =  (long long) numbers[first] * numbers[second];\n",
        "             execints++;   //(n-1)n/2\n",
        "            if (max_product < aux_product)  {                                //(n-1)n/2\n",
        "\t\t\t\t        max_product = aux_product;\n",
        "                execints++;                                  //[1,(n-1)n/2)  upper bound\n",
        "             }\n",
        "        }\n",
        "    }\n",
        "                                                                             // --------------\n",
        "    return max_product;                                                      // 5 + 4n + [2(n-1)n+1, 2.5 (n-1)n) upper bound\n",
        "}\n",
        "\n",
        "int main() {                                              //INSTRUCTIONS executed by line\n",
        "    long long execints =0LL;\n",
        "    int n;\n",
        "    execints++;                                             //1\n",
        "    std::cin >> n;\n",
        "    execints++;                                      //1\n",
        "    std::vector<int> numbers(n);\n",
        "    execints++;                          //n\n",
        "    for (int i = 0; i < n; ++i) {\n",
        "      execints+=2;                        //2 + 2n\n",
        "        std::cin >> numbers[i];\n",
        "        execints++;                        //n\n",
        "    }\n",
        "\n",
        "    //std::cout <<\"Max product: \"<< MaxPairwiseProduct(numbers) << \"\\n\";     //1 + 1  + 5 + 4n + [2(n-1)n+1, 2.5 (n-1)n) upper bound\n",
        "     int M = MaxPairwiseProduct(numbers,execints);\n",
        "\n",
        "    execints++;\n",
        "    std::cout << \"Number of instructions: \" <<execints << \"\\n\";\n",
        "    return 0;                                             // --------------\n",
        "}                                                         // 11 + 7n + [2(n-1)n+1, 2.5 (n-1)n) upper bound\n"
      ]
    },
    {
      "cell_type": "markdown",
      "source": [
        "The number of instructions executed by the algorithm with a list of size $n$ is\n",
        "\n",
        "$$T=11 + 7n + [2(n-1)n+1, 2.5 (n-1)n)$$\n",
        "\n",
        "\n",
        "It depends on the size of the lists and the order of the list.\n",
        "\n",
        "For the input1.txt\n",
        "\n",
        "10\n",
        "\n",
        "\n",
        "1 2 3 4 5 6 7 8 9 10\n",
        "\n",
        "$$T(10)\\in [109,306]$$"
      ],
      "metadata": {
        "id": "jpg119DGDi3S"
      }
    },
    {
      "cell_type": "code",
      "execution_count": 84,
      "metadata": {
        "id": "5QWT3fneK8nw",
        "colab": {
          "base_uri": "https://localhost:8080/"
        },
        "outputId": "865fbfd1-6900-444d-dccf-fb767696b607"
      },
      "outputs": [
        {
          "output_type": "stream",
          "name": "stdout",
          "text": [
            "109 306.0\n"
          ]
        }
      ],
      "source": [
        "n = 10\n",
        "print(11 + 7*10+2*(n-1)+n,11 + 7*10+2.5*(n-1)*n)"
      ]
    },
    {
      "cell_type": "code",
      "execution_count": 85,
      "metadata": {
        "id": "mxIVvm1RK8dB",
        "colab": {
          "base_uri": "https://localhost:8080/"
        },
        "outputId": "2f78500a-bbf4-4880-b0df-62be416c7f28"
      },
      "outputs": [
        {
          "output_type": "stream",
          "name": "stdout",
          "text": [
            "Number of instructions: 177\n"
          ]
        }
      ],
      "source": [
        "!g++ max_pairwise_product_long.cpp -o max_pairwise_product_long\n",
        "!./max_pairwise_product_long < input1.txt"
      ]
    },
    {
      "cell_type": "markdown",
      "source": [
        "**Python**"
      ],
      "metadata": {
        "id": "zWjVO_X1DnC6"
      }
    },
    {
      "cell_type": "code",
      "source": [
        "%%writefile max_pairwise_product.py\n",
        "n = int(input())                        #1\n",
        "list = input().split()                  #1\n",
        "list = [int(x) for x in list]           #n\n",
        "\n",
        "maxProduct = 0                          #1\n",
        "auxProduct = 0                          #1\n",
        "for i in range(0,n):                    #1+2n\n",
        "  for j in range(i+1,n):                #((n**2)-n)/2\n",
        "    if i!=j:                            #((n**2)-n)/2\n",
        "      auxProduct = list[i]*list[j]      #((n**2)-n)/2\n",
        "    if maxProduct < auxProduct:         #((n**2)-n)/2\n",
        "      maxProduct = auxProduct           #[0,((n**2)-n)/2] upper bound\n",
        "\n",
        "                                        # --------------\n",
        "print(maxProduct)                       #5 + n + [5*n**2+1, 11*n**2/2  - n/2]"
      ],
      "metadata": {
        "id": "ZiQBpa6iDpqN",
        "colab": {
          "base_uri": "https://localhost:8080/"
        },
        "outputId": "693088c3-f05d-47ad-83c3-0dbf09f45b18"
      },
      "execution_count": 86,
      "outputs": [
        {
          "output_type": "stream",
          "name": "stdout",
          "text": [
            "Writing max_pairwise_product.py\n"
          ]
        }
      ]
    },
    {
      "cell_type": "markdown",
      "source": [
        "Creating big input"
      ],
      "metadata": {
        "id": "S0hY5M6-Dt1D"
      }
    },
    {
      "cell_type": "code",
      "source": [
        "fileName = \"inputPy.txt\"\n",
        "\n",
        "with open(fileName, \"w\") as file:\n",
        "    file.write(\"20000\"+ \"\\n\")\n",
        "    for i in range(1,20001):\n",
        "        file.write(str(i) + \" \")"
      ],
      "metadata": {
        "id": "0Qg8y4tqDvnL"
      },
      "execution_count": 87,
      "outputs": []
    },
    {
      "cell_type": "markdown",
      "source": [
        "Testing our code with previous examples"
      ],
      "metadata": {
        "id": "_xAdM8S1DwOT"
      }
    },
    {
      "cell_type": "code",
      "source": [
        "!chmod +x max_pairwise_product.py\n",
        "\n",
        "!python max_pairwise_product.py < input3.txt > output3.txt\n",
        "!python max_pairwise_product.py < input4.txt > output4.txt\n",
        "!python max_pairwise_product.py < input5.txt > output5.txt\n",
        "!python max_pairwise_product.py < input6.txt > output6.txt\n",
        "!python max_pairwise_product.py < input7.txt > output7.txt\n",
        "!python max_pairwise_product.py < input8.txt > output8.txt\n",
        "!python max_pairwise_product.py < input9.txt > output9.txt\n",
        "!python max_pairwise_product.py < input10.txt > output10.txt"
      ],
      "metadata": {
        "id": "-WOhbQoIDzC6"
      },
      "execution_count": 88,
      "outputs": []
    },
    {
      "cell_type": "code",
      "source": [
        "import time\n",
        "\n",
        "start_time = time.time()\n",
        "!python max_pairwise_product.py < inputPy.txt\n",
        "\n",
        "end_time = time.time()\n",
        "execution_time = end_time - start_time\n",
        "print(f\"Execution time: {execution_time} segs\")\n",
        "print(f\"Execution time: {execution_time/60} min\")"
      ],
      "metadata": {
        "id": "IDCnQ5joD2rL",
        "colab": {
          "base_uri": "https://localhost:8080/"
        },
        "outputId": "4cbe963d-4024-406a-f2e9-2817430fb9e8"
      },
      "execution_count": 89,
      "outputs": [
        {
          "output_type": "stream",
          "name": "stdout",
          "text": [
            "399980000\n",
            "Execution time: 30.893218517303467 segs\n",
            "Execution time: 0.5148869752883911 min\n"
          ]
        }
      ]
    },
    {
      "cell_type": "markdown",
      "source": [
        "Counting the steps for the python program"
      ],
      "metadata": {
        "id": "2duCTfw4D4RS"
      }
    },
    {
      "cell_type": "code",
      "source": [
        "%%writefile max_pairwise_product_count.py\n",
        "op = 0\n",
        "xd =0\n",
        "n = int(input())                        #1\n",
        "op+=1\n",
        "list = input().split()                  #1\n",
        "op+=1\n",
        "list = [int(x) for x in list]           #n\n",
        "op += n\n",
        "\n",
        "maxProduct = 0                          #1\n",
        "op+=1\n",
        "auxProduct = 0                          #1\n",
        "op+=1\n",
        "for i in range(0,n):                    #1+2n\n",
        "  op+=1\n",
        "  op+=2\n",
        "  for j in range(i+1,n):                #((n**2)-n)/2\n",
        "    op+=1\n",
        "    if i!=j:                            #((n**2)-n)/2\n",
        "      auxProduct = list[i]*list[j]      #((n**2)-n)/2\n",
        "      op+=1\n",
        "      op+=1\n",
        "    op+=1\n",
        "    if maxProduct < auxProduct:         #n * (n - 1) / 2\n",
        "      maxProduct = auxProduct           #n * (n - 1) / 3\n",
        "      op+=1\n",
        "\n",
        "                                        # --------------For worst case\n",
        "print(\"Result: \"+str(maxProduct))\n",
        "print(\"Number of instructions: \"+str(op))"
      ],
      "metadata": {
        "id": "615k0Yz7D6rq",
        "colab": {
          "base_uri": "https://localhost:8080/"
        },
        "outputId": "a294b45c-4e71-4288-a9b5-b6c39f414b04"
      },
      "execution_count": 90,
      "outputs": [
        {
          "output_type": "stream",
          "name": "stdout",
          "text": [
            "Writing max_pairwise_product_count.py\n"
          ]
        }
      ]
    },
    {
      "cell_type": "markdown",
      "source": [
        "The number of instructions executed by the algooirithm with a list of size $n$ is\n",
        "\n",
        "$$T=4 + 4n + 2(n(n-1))+(n(n-1)/3)$$\n",
        "\n",
        "It depends on the size of the lists and the order of the list.\n",
        "\n",
        "For the input1.txt\n",
        "\n",
        "10\n",
        "\n",
        "1 2 3 4 5 6 7 8 9 10\n",
        "\n",
        "$$T(10)=255$$"
      ],
      "metadata": {
        "id": "dn73d9J5D95T"
      }
    },
    {
      "cell_type": "code",
      "source": [
        "n = 10\n",
        "print(5 + 4*10+2*(n-1)*n + (n*(n-1)/3))"
      ],
      "metadata": {
        "id": "HTjeIvyXD_4a",
        "colab": {
          "base_uri": "https://localhost:8080/"
        },
        "outputId": "a3c43bff-6cd1-4583-b8b1-783b92588420"
      },
      "execution_count": 91,
      "outputs": [
        {
          "output_type": "stream",
          "name": "stdout",
          "text": [
            "255.0\n"
          ]
        }
      ]
    },
    {
      "cell_type": "code",
      "source": [
        "!python max_pairwise_product_count.py < input11.txt"
      ],
      "metadata": {
        "id": "cR87LAnmEB2i",
        "colab": {
          "base_uri": "https://localhost:8080/"
        },
        "outputId": "f3cbcc95-ed61-4bde-91c7-497e34e21d2e"
      },
      "execution_count": 92,
      "outputs": [
        {
          "output_type": "stream",
          "name": "stdout",
          "text": [
            "Traceback (most recent call last):\n",
            "  File \"/content/max_pairwise_product_count.py\", line 24, in <module>\n",
            "    if maxProduct < auxProduct:         #n * (n - 1) / 2\n",
            "KeyboardInterrupt\n",
            "^C\n"
          ]
        }
      ]
    },
    {
      "cell_type": "markdown",
      "source": [
        "### Estimate and verify the maximun n that can be solved in 1 second\n",
        "\n"
      ],
      "metadata": {
        "id": "zxCvxiB-XQJh"
      }
    },
    {
      "cell_type": "code",
      "source": [
        "%%time\n",
        "!g++ max_pairwise_product_long.cpp -o max_pairwise_product_long\n",
        "!./max_pairwise_product_long < input1.txt"
      ],
      "metadata": {
        "id": "el1zd3rqEVP3",
        "colab": {
          "base_uri": "https://localhost:8080/"
        },
        "outputId": "48627c82-ce94-424e-9e83-814281afca9a"
      },
      "execution_count": 93,
      "outputs": [
        {
          "output_type": "stream",
          "name": "stdout",
          "text": [
            "Number of instructions: 177\n",
            "CPU times: user 11.7 ms, sys: 1.27 ms, total: 13 ms\n",
            "Wall time: 711 ms\n"
          ]
        }
      ]
    },
    {
      "cell_type": "code",
      "source": [
        "%%time\n",
        "!python max_pairwise_product_count.py < input11.txt"
      ],
      "metadata": {
        "id": "0nul0pmbELIB",
        "colab": {
          "base_uri": "https://localhost:8080/"
        },
        "outputId": "3872d896-7fc0-43a2-c196-8d44fb29db21"
      },
      "execution_count": 94,
      "outputs": [
        {
          "output_type": "stream",
          "name": "stdout",
          "text": [
            "Traceback (most recent call last):\n",
            "  File \"/content/max_pairwise_product_count.py\", line 24, in <module>\n",
            "    if maxProduct < auxProduct:         #n * (n - 1) / 2\n",
            "KeyboardInterrupt\n",
            "^C\n",
            "CPU times: user 23.7 ms, sys: 7.5 ms, total: 31.2 ms\n",
            "Wall time: 3.8 s\n"
          ]
        }
      ]
    },
    {
      "cell_type": "code",
      "source": [
        "time_per_ins = 0.001111 / 231\n",
        "instructions_per_second = 1 / time_per_ins\n",
        "print(f\"Time per instruction Python: {time_per_ins}\")\n",
        "print(f\"Instructions per second Python: {instructions_per_second}\")\n",
        "time_per_ins = 0.00325/ 254\n",
        "instructions_per_second = 1 / time_per_ins\n",
        "print(f\"Time per instruction C++: {time_per_ins}\")\n",
        "print(f\"Instructions per second C++: {instructions_per_second}\")"
      ],
      "metadata": {
        "id": "peL0-4JKEOHi",
        "colab": {
          "base_uri": "https://localhost:8080/"
        },
        "outputId": "f8bdad4b-2339-4f3c-bf63-d38ce848da2a"
      },
      "execution_count": 95,
      "outputs": [
        {
          "output_type": "stream",
          "name": "stdout",
          "text": [
            "Time per instruction Python: 4.80952380952381e-06\n",
            "Instructions per second Python: 207920.7920792079\n",
            "Time per instruction C++: 1.279527559055118e-05\n",
            "Instructions per second C++: 78153.84615384616\n"
          ]
        }
      ]
    },
    {
      "cell_type": "markdown",
      "metadata": {
        "id": "1Hsbd-uHOb_j"
      },
      "source": [
        "# Sort solution in C++ and Python\n",
        "\n",
        "$$ O(n \\lg n)$$\n",
        "\n",
        "**Which sorting algorithm is used in GCC?**\n",
        "https://stackoverflow.com/questions/7221257/which-sorting-algorithm-is-used-in-gcc\n",
        "\n",
        "* ...  the algorithm is called introsort, a combination between Insertionsort, Quicksort & Heapsort. ...\n",
        "\n",
        "**Introsort**\n",
        "https://en.wikipedia.org/wiki/Introsort\n",
        "\n",
        "Introsort or introspective sort is a hybrid sorting algorithm that provides both fast average performance and (asymptotically) optimal worst-case performance. It begins with quicksort, it switches to heapsort when the recursion depth exceeds a level based on (the logarithm of) the number of elements being sorted and it switches to insertion sort when the number of elements is below some threshold\n",
        "\n",
        "*   Class\tSorting algorithm\n",
        "*   Data structure\tArray\n",
        "*   Worst-case performance\t$O(n \\lg n)$\n",
        "*   Average performance\t$O(n \\lg n)$\n",
        "\n",
        "**Tinsort**\n",
        "https://en.wikipedia.org/wiki/Timsort\n",
        "\n",
        "Timsort is a hybrid, stable sorting algorithm, derived from merge sort and insertion sort, designed to perform well on many kinds of real-world data. It was implemented by Tim Peters in 2002 for use in the Python programming language.\n",
        "\n",
        "*   Class\tSorting algorithm\n",
        "*   Data structure\tArray\n",
        "*   Worst-case performance\t$O(n \\lg n)$\n",
        "*   Best-case performance $O(n)$\n",
        "*   Average performance\t$O(n \\lg n)$\n",
        "*   Worst-case space complexity $O(n)$"
      ]
    },
    {
      "cell_type": "markdown",
      "metadata": {
        "id": "WMUthAXjOb_k"
      },
      "source": [
        "C++ Sort\n"
      ]
    },
    {
      "cell_type": "code",
      "source": [
        "%%writefile max_pairwise_product_sort.cpp\n",
        "#include <iostream>\n",
        "#include <vector>\n",
        "#include <algorithm>\n",
        "\n",
        "// Function to calculate the maximum pairwise product using sorting\n",
        "\n",
        "long long MaxPairwiseProduct(const std::vector<long long>& numbers) {\n",
        "    int n = numbers.size();\n",
        "\n",
        "    // Create a copy of the original vector to avoid modifying it\n",
        "    std::vector<long long> sorted_numbers(numbers);\n",
        "\n",
        "    // Sort the vector in ascending order\n",
        "    std::sort(sorted_numbers.begin(), sorted_numbers.end());\n",
        "\n",
        "    // Calculate the product of the two largest numbers\n",
        "    long long max_product = sorted_numbers[n - 1] * sorted_numbers[n - 2];\n",
        "\n",
        "    return max_product;\n",
        "}\n",
        "\n",
        "int main() {\n",
        "    int n;\n",
        "    std::cin >> n;\n",
        "    std::vector<long long> numbers(n);\n",
        "\n",
        "    // Input the numbers\n",
        "    for (int i = 0; i < n; ++i) {\n",
        "        std::cin >> numbers[i];\n",
        "    }\n",
        "\n",
        "    // Output the result\n",
        "    std::cout << MaxPairwiseProduct(numbers) << \"\\n\";\n",
        "    return 0;\n",
        "}\n"
      ],
      "metadata": {
        "id": "jnIRWyUEDu_C",
        "colab": {
          "base_uri": "https://localhost:8080/"
        },
        "outputId": "55ed65d7-8dd2-4df8-c3ad-9d4722a47edb"
      },
      "execution_count": 96,
      "outputs": [
        {
          "output_type": "stream",
          "name": "stdout",
          "text": [
            "Writing max_pairwise_product_sort.cpp\n"
          ]
        }
      ]
    },
    {
      "cell_type": "code",
      "source": [
        "!g++ -o max_pairwise_product_sort max_pairwise_product_sort.cpp\n",
        "!chmod +x max_pairwise_product_sort.cpp\n",
        "!ls -l max_pairwise_product_sort.cpp max_pairwise_product_sort\n"
      ],
      "metadata": {
        "colab": {
          "base_uri": "https://localhost:8080/"
        },
        "id": "hZuptQNmu8xj",
        "outputId": "197ca1f3-2e5d-405a-8725-75bcf7e417b2"
      },
      "execution_count": 97,
      "outputs": [
        {
          "output_type": "stream",
          "name": "stdout",
          "text": [
            "-rwxr-xr-x 1 root root 40888 Mar 13 13:37 max_pairwise_product_sort\n",
            "-rwxr-xr-x 1 root root   886 Mar 13 13:37 max_pairwise_product_sort.cpp\n"
          ]
        }
      ]
    },
    {
      "cell_type": "markdown",
      "metadata": {
        "id": "v8pdV9ABOb_k"
      },
      "source": [
        "Test with inputs 1 and 2\n",
        "\n"
      ]
    },
    {
      "cell_type": "code",
      "execution_count": 98,
      "metadata": {
        "id": "kdXAyLG4Ob_k",
        "colab": {
          "base_uri": "https://localhost:8080/"
        },
        "outputId": "8750b629-c5f2-459e-d2c1-1784a7330bd1"
      },
      "outputs": [
        {
          "output_type": "stream",
          "name": "stdout",
          "text": [
            "0\n"
          ]
        }
      ],
      "source": [
        "!./max_pairwise_product_sort < input0.txt"
      ]
    },
    {
      "cell_type": "code",
      "source": [
        "!./max_pairwise_product_sort < input1.txt"
      ],
      "metadata": {
        "colab": {
          "base_uri": "https://localhost:8080/"
        },
        "id": "YrBNVmp73pXd",
        "outputId": "d76c4a60-9533-4f5d-a326-187737a558b5"
      },
      "execution_count": 99,
      "outputs": [
        {
          "output_type": "stream",
          "name": "stdout",
          "text": [
            "90\n"
          ]
        }
      ]
    },
    {
      "cell_type": "code",
      "source": [
        "!./max_pairwise_product_sort < input2.txt"
      ],
      "metadata": {
        "colab": {
          "base_uri": "https://localhost:8080/"
        },
        "id": "kx7YCrZA3pUp",
        "outputId": "876129f9-9259-42a1-c638-4f5e80feeffe"
      },
      "execution_count": 100,
      "outputs": [
        {
          "output_type": "stream",
          "name": "stdout",
          "text": [
            "90\n"
          ]
        }
      ]
    },
    {
      "cell_type": "markdown",
      "metadata": {
        "id": "Sw-5X1q1Ob_k"
      },
      "source": [
        "Test and time it with input 3"
      ]
    },
    {
      "cell_type": "code",
      "execution_count": 101,
      "metadata": {
        "id": "ryHJ30WIOb_k",
        "colab": {
          "base_uri": "https://localhost:8080/"
        },
        "outputId": "61d9dec5-4c8e-4a1e-9914-8cd0e1970676"
      },
      "outputs": [
        {
          "output_type": "stream",
          "name": "stdout",
          "text": [
            "122071000\n",
            "\n",
            "real\t0m0.002s\n",
            "user\t0m0.000s\n",
            "sys\t0m0.002s\n"
          ]
        }
      ],
      "source": [
        "!time ./max_pairwise_product_sort < input3.txt"
      ]
    },
    {
      "cell_type": "markdown",
      "metadata": {
        "id": "oJGdPl1HOb_k"
      },
      "source": [
        "20 stress tests"
      ]
    },
    {
      "cell_type": "code",
      "source": [
        "import random\n",
        "import math\n",
        "\n",
        "# Number of stress tests\n",
        "num_tests = 10\n",
        "\n",
        "for test_number in range(11, 21):\n",
        "    # Determine the size of the input given the iteration\n",
        "    if test_number <= 16:\n",
        "        n = random.randint(2, 1000)\n",
        "    else:\n",
        "        n = random.randint(2, 10000)\n",
        "\n",
        "    # Generating random values\n",
        "    numbers = [random.randint(1, 99999) for _ in range(n)]\n",
        "\n",
        "    #Writing the input in a file\n",
        "    with open(f\"input{test_number}.txt\", \"w\") as file:\n",
        "        file.write(f\"{n}\\n\")\n",
        "        file.write(\" \".join(map(str, numbers)))\n",
        "\n",
        "    print(f\"Test {test_number}: N={n}\")\n"
      ],
      "metadata": {
        "colab": {
          "base_uri": "https://localhost:8080/"
        },
        "id": "aNv_VNRLB7cF",
        "outputId": "2796ac84-0479-4b6d-823d-5c15500a3622"
      },
      "execution_count": 241,
      "outputs": [
        {
          "output_type": "stream",
          "name": "stdout",
          "text": [
            "Test 11: N=326\n",
            "Test 12: N=804\n",
            "Test 13: N=535\n",
            "Test 14: N=656\n",
            "Test 15: N=681\n",
            "Test 16: N=583\n",
            "Test 17: N=1985\n",
            "Test 18: N=5224\n",
            "Test 19: N=625\n",
            "Test 20: N=9583\n"
          ]
        }
      ]
    },
    {
      "cell_type": "code",
      "execution_count": 103,
      "metadata": {
        "id": "pXHtO1dEOb_k",
        "colab": {
          "base_uri": "https://localhost:8080/"
        },
        "outputId": "b1cad43c-83df-4cc0-f698-76737107689d"
      },
      "outputs": [
        {
          "output_type": "stream",
          "name": "stdout",
          "text": [
            "90\n",
            "90\n",
            "122071000\n",
            "32301629178\n",
            "5251420\n",
            "129803850\n",
            "71679153\n",
            "1568792156\n",
            "722650220\n",
            "1178413976\n",
            "9966320560\n",
            "9849452690\n",
            "9949813272\n",
            "9975303042\n",
            "9985401485\n",
            "9982301352\n",
            "9995600259\n",
            "9986303432\n",
            "9998300066\n"
          ]
        }
      ],
      "source": [
        "!./max_pairwise_product_sort < input1.txt\n",
        "!./max_pairwise_product_sort < input2.txt\n",
        "!./max_pairwise_product_sort < input3.txt\n",
        "!./max_pairwise_product_sort < input4.txt\n",
        "!./max_pairwise_product_sort < input5.txt\n",
        "!./max_pairwise_product_sort < input6.txt\n",
        "!./max_pairwise_product_sort < input7.txt\n",
        "!./max_pairwise_product_sort < input8.txt\n",
        "!./max_pairwise_product_sort < input9.txt\n",
        "!./max_pairwise_product_sort < input10.txt\n",
        "!./max_pairwise_product_sort < input11.txt\n",
        "!./max_pairwise_product_sort < input12.txt\n",
        "!./max_pairwise_product_sort < input13.txt\n",
        "!./max_pairwise_product_sort < input14.txt\n",
        "!./max_pairwise_product_sort < input15.txt\n",
        "!./max_pairwise_product_sort < input16.txt\n",
        "!./max_pairwise_product_sort < input18.txt\n",
        "!./max_pairwise_product_sort < input19.txt\n",
        "!./max_pairwise_product_sort < input20.txt"
      ]
    },
    {
      "cell_type": "markdown",
      "metadata": {
        "id": "2beTmWFPOb_k"
      },
      "source": [
        "Count executed instructions in code and verify with inputs 1,2 and 3\n"
      ]
    },
    {
      "cell_type": "code",
      "execution_count": 104,
      "metadata": {
        "id": "iuByv4x1Ob_k",
        "colab": {
          "base_uri": "https://localhost:8080/"
        },
        "outputId": "15c62f91-ba07-4621-bdc9-e9c7344ea6eb"
      },
      "outputs": [
        {
          "output_type": "stream",
          "name": "stdout",
          "text": [
            "Overwriting max_pairwise_product_sort.cpp\n"
          ]
        }
      ],
      "source": [
        "%%writefile max_pairwise_product_sort.cpp\n",
        "#include <iostream>\n",
        "#include <vector>\n",
        "#include <algorithm>\n",
        "\n",
        "//\n",
        "//conteo:\n",
        "//\n",
        "long long MaxPairwiseProduct(const std::vector<long long>& numbers) {\n",
        "    int n = numbers.size();                                                     // 1\n",
        "\n",
        "    std::vector<long long> sorted_numbers(numbers);                             // n\n",
        "\n",
        "    std::sort(sorted_numbers.begin(), sorted_numbers.end());                    // n*log(n)\n",
        "\n",
        "    long long max_product = sorted_numbers[n - 1] * sorted_numbers[n - 2];      // 1\n",
        "\n",
        "    return max_product;                                                         // 1\n",
        "}\n",
        "\n",
        "int main() {\n",
        "    int n;                                                                      // 1\n",
        "    std::cin >> n;                                                              // 1\n",
        "\n",
        "    std::vector<long long> numbers(n);                                          // 1\n",
        "\n",
        "    for (int i = 0; i < n; ++i) {                                               // n\n",
        "        std::cin >> numbers[i];                                                 // n\n",
        "    }\n",
        "\n",
        "    std::cout << MaxPairwiseProduct(numbers) << \"\\n\";                           // 1\n",
        "\n",
        "    return 0;                                                                   // 1\n",
        "\n",
        "                                                                                // total pairwise: n+n*log(n)+3\n",
        "                                                                                // total: 3n+n*log(n)+8\n",
        "}\n",
        "\n"
      ]
    },
    {
      "cell_type": "code",
      "source": [
        "%%writefile max_pairwise_product_sort2.cpp\n",
        "#include <iostream>\n",
        "#include <vector>\n",
        "#include <algorithm>\n",
        "#include <cmath>\n",
        "\n",
        "long long MaxPairwiseProduct(const std::vector<long long>& numbers, long long &execints) {\n",
        "\n",
        "    int n = numbers.size();\n",
        "    execints++;\n",
        "\n",
        "    std::vector<long long> sorted_numbers(numbers);\n",
        "    execints++;\n",
        "\n",
        "    std::sort(sorted_numbers.begin(), sorted_numbers.end());\n",
        "    execints += n * log(n);\n",
        "\n",
        "    long long max_product = sorted_numbers[n - 1] * sorted_numbers[n - 2];\n",
        "    execints++;\n",
        "\n",
        "    return max_product;\n",
        "}\n",
        "\n",
        "int main() {\n",
        "\n",
        "    long long execints = 0LL;\n",
        "    execints++;\n",
        "\n",
        "    int n;\n",
        "    execints++;\n",
        "\n",
        "    std::cin >> n;\n",
        "    execints++;\n",
        "\n",
        "    std::vector<long long> numbers(n);\n",
        "    execints += n;\n",
        "\n",
        "    for (int i = 0; i < n; ++i) {\n",
        "        execints += 2;\n",
        "\n",
        "        std::cin >> numbers[i];\n",
        "        execints++;\n",
        "    }\n",
        "\n",
        "    int M = MaxPairwiseProduct(numbers, execints);\n",
        "\n",
        "    std::cout << execints << \"\\n\";\n",
        "    return 0;\n",
        "}\n",
        "\n"
      ],
      "metadata": {
        "colab": {
          "base_uri": "https://localhost:8080/"
        },
        "id": "F1zqql55PSJQ",
        "outputId": "d15584ee-af0f-4fb1-cb11-909e6435ff15"
      },
      "execution_count": 105,
      "outputs": [
        {
          "output_type": "stream",
          "name": "stdout",
          "text": [
            "Writing max_pairwise_product_sort2.cpp\n"
          ]
        }
      ]
    },
    {
      "cell_type": "code",
      "source": [
        "!g++ -o max_pairwise_product_sort2 max_pairwise_product_sort2.cpp\n",
        "!chmod +x max_pairwise_product_sort2.cpp\n",
        "!ls -l max_pairwise_product_sort2.cpp max_pairwise_product_sort2"
      ],
      "metadata": {
        "colab": {
          "base_uri": "https://localhost:8080/"
        },
        "id": "67AQsrlfH5V9",
        "outputId": "4fc4d9e5-3ed6-47e8-82c9-2121f667b248"
      },
      "execution_count": 106,
      "outputs": [
        {
          "output_type": "stream",
          "name": "stdout",
          "text": [
            "-rwxr-xr-x 1 root root 40928 Mar 13 13:37 max_pairwise_product_sort2\n",
            "-rwxr-xr-x 1 root root   897 Mar 13 13:37 max_pairwise_product_sort2.cpp\n"
          ]
        }
      ]
    },
    {
      "cell_type": "code",
      "source": [
        "n=10\n",
        "print((3 * n) + (n * math.log(n)) + 8)\n",
        "print(n+n * math.log(n)+3)"
      ],
      "metadata": {
        "colab": {
          "base_uri": "https://localhost:8080/"
        },
        "id": "nBYIDQsMI9cf",
        "outputId": "fd4d68e9-18b3-4591-c916-ef9159b3cdc2"
      },
      "execution_count": 107,
      "outputs": [
        {
          "output_type": "stream",
          "name": "stdout",
          "text": [
            "61.02585092994046\n",
            "36.02585092994046\n"
          ]
        }
      ]
    },
    {
      "cell_type": "code",
      "source": [
        "!./max_pairwise_product_sort2 < input1.txt"
      ],
      "metadata": {
        "colab": {
          "base_uri": "https://localhost:8080/"
        },
        "id": "JUV5WqQWVpwR",
        "outputId": "cf2a7db6-207d-4642-c894-27388c4ac991"
      },
      "execution_count": 108,
      "outputs": [
        {
          "output_type": "stream",
          "name": "stdout",
          "text": [
            "69\n"
          ]
        }
      ]
    },
    {
      "cell_type": "code",
      "source": [
        "!./max_pairwise_product_sort2 < input2.txt"
      ],
      "metadata": {
        "colab": {
          "base_uri": "https://localhost:8080/"
        },
        "id": "lVweqi0BW2mL",
        "outputId": "063c0579-20e7-4b19-a0b4-866d71eec8ba"
      },
      "execution_count": 109,
      "outputs": [
        {
          "output_type": "stream",
          "name": "stdout",
          "text": [
            "69\n"
          ]
        }
      ]
    },
    {
      "cell_type": "code",
      "source": [
        "n=6\n",
        "print((3 * n) + (n * math.log(n)) + 8)\n",
        "print(n+n * math.log(n)+3)"
      ],
      "metadata": {
        "colab": {
          "base_uri": "https://localhost:8080/"
        },
        "id": "dykDKydKW6-6",
        "outputId": "faf18d80-8b8e-4dff-8806-34681ef43315"
      },
      "execution_count": 110,
      "outputs": [
        {
          "output_type": "stream",
          "name": "stdout",
          "text": [
            "36.75055681536833\n",
            "19.75055681536833\n"
          ]
        }
      ]
    },
    {
      "cell_type": "code",
      "source": [
        "!./max_pairwise_product_sort2 < input3.txt"
      ],
      "metadata": {
        "colab": {
          "base_uri": "https://localhost:8080/"
        },
        "id": "HSpkfDyZW84P",
        "outputId": "a9707919-8d36-4860-c78b-6c40dbd0a9a0"
      },
      "execution_count": 111,
      "outputs": [
        {
          "output_type": "stream",
          "name": "stdout",
          "text": [
            "40\n"
          ]
        }
      ]
    },
    {
      "cell_type": "markdown",
      "metadata": {
        "id": "x2CXhkwTOb_l"
      },
      "source": [
        "Calculate estimated time by instruction and number of instructions by second"
      ]
    },
    {
      "cell_type": "code",
      "source": [
        "n = 200000\n",
        "numbers = \" \".join(map(str, range(1, 200001)))\n",
        "with open('input21.txt', 'w') as file:\n",
        "    file.write(f\"{n}\\n{numbers}\\n\")"
      ],
      "metadata": {
        "id": "JWXXA2tGZ--L"
      },
      "execution_count": 112,
      "outputs": []
    },
    {
      "cell_type": "code",
      "source": [
        "!time ./max_pairwise_product_sort < input21.txt"
      ],
      "metadata": {
        "colab": {
          "base_uri": "https://localhost:8080/"
        },
        "id": "Fx2vGCRNZpXx",
        "outputId": "35634be9-d532-4f51-e0b3-243b571a802f"
      },
      "execution_count": 113,
      "outputs": [
        {
          "output_type": "stream",
          "name": "stdout",
          "text": [
            "39999800000\n",
            "\n",
            "real\t0m0.087s\n",
            "user\t0m0.083s\n",
            "sys\t0m0.003s\n"
          ]
        }
      ]
    },
    {
      "cell_type": "code",
      "source": [
        "!./max_pairwise_product_sort2 < input21.txt"
      ],
      "metadata": {
        "colab": {
          "base_uri": "https://localhost:8080/"
        },
        "id": "NbnRaYildMjr",
        "outputId": "c94eb0c6-bc3a-4713-9950-196f8d26f66a"
      },
      "execution_count": 114,
      "outputs": [
        {
          "output_type": "stream",
          "name": "stdout",
          "text": [
            "3241220\n"
          ]
        }
      ]
    },
    {
      "cell_type": "code",
      "source": [
        "n=200000\n",
        "print((3 * n) + (n * math.log(n)) + 8)"
      ],
      "metadata": {
        "colab": {
          "base_uri": "https://localhost:8080/"
        },
        "id": "KrJ__5KWdR_3",
        "outputId": "fdedde30-a6da-4c3f-9b67-16a8d05ff58c"
      },
      "execution_count": 115,
      "outputs": [
        {
          "output_type": "stream",
          "name": "stdout",
          "text": [
            "3041222.529106035\n"
          ]
        }
      ]
    },
    {
      "cell_type": "code",
      "execution_count": 116,
      "metadata": {
        "id": "nTjxyTMtOb_l",
        "colab": {
          "base_uri": "https://localhost:8080/"
        },
        "outputId": "d5cc94bf-63fb-424e-d6a4-70acc3f71a5d"
      },
      "outputs": [
        {
          "output_type": "execute_result",
          "data": {
            "text/plain": [
              "3.7023096241538675e-08"
            ]
          },
          "metadata": {},
          "execution_count": 116
        }
      ],
      "source": [
        "# Estimated time by instruction\n",
        "0.12/3241220"
      ]
    },
    {
      "cell_type": "code",
      "source": [
        "# Estimated number of instructions by second\n",
        "3241220/0.12"
      ],
      "metadata": {
        "colab": {
          "base_uri": "https://localhost:8080/"
        },
        "id": "i7O17NscZdOX",
        "outputId": "af663ba8-3f31-44ff-bdbe-022060c1c595"
      },
      "execution_count": 117,
      "outputs": [
        {
          "output_type": "execute_result",
          "data": {
            "text/plain": [
              "27010166.666666668"
            ]
          },
          "metadata": {},
          "execution_count": 117
        }
      ]
    },
    {
      "cell_type": "markdown",
      "source": [
        "### Estimate and verify the maximun n that can be solved in 1 second"
      ],
      "metadata": {
        "id": "CcgDYDQuaFeH"
      }
    },
    {
      "cell_type": "markdown",
      "source": [
        "$$(3n + n*log(n) + 8) \\times 3.7*10^{-8} s = 1 s$$\n",
        "\n",
        "$$ n \\approx 1.56×10^6 $$"
      ],
      "metadata": {
        "id": "45KxrMFchRas"
      }
    },
    {
      "cell_type": "code",
      "source": [
        "print(1560000*(1560000-1))"
      ],
      "metadata": {
        "colab": {
          "base_uri": "https://localhost:8080/"
        },
        "id": "Qt8YEHJ5jfhy",
        "outputId": "9b807fdf-5f2f-4402-86d2-40a4fb9aa20d"
      },
      "execution_count": 118,
      "outputs": [
        {
          "output_type": "stream",
          "name": "stdout",
          "text": [
            "2433598440000\n"
          ]
        }
      ]
    },
    {
      "cell_type": "code",
      "source": [
        "n = (1560000)\n",
        "numbers = \" \".join(map(str, range(1, n+1)))\n",
        "with open('input22.txt', 'w') as file:\n",
        "    file.write(f\"{n}\\n{numbers}\\n\")"
      ],
      "metadata": {
        "id": "fLztHReKaGFq"
      },
      "execution_count": 119,
      "outputs": []
    },
    {
      "cell_type": "code",
      "source": [
        "!time ./max_pairwise_product_sort < input22.txt"
      ],
      "metadata": {
        "colab": {
          "base_uri": "https://localhost:8080/"
        },
        "id": "EpIXdtM7kgbe",
        "outputId": "016d36e0-8efa-4868-dba2-a68cd301de9b"
      },
      "execution_count": 120,
      "outputs": [
        {
          "output_type": "stream",
          "name": "stdout",
          "text": [
            "2433598440000\n",
            "\n",
            "real\t0m1.049s\n",
            "user\t0m1.025s\n",
            "sys\t0m0.009s\n"
          ]
        }
      ]
    },
    {
      "cell_type": "markdown",
      "metadata": {
        "id": "nzUNeEL8JYqL"
      },
      "source": [
        "\n",
        "\n",
        "## Python sort solution\n",
        "\n",
        "\n",
        "\n"
      ]
    },
    {
      "cell_type": "markdown",
      "metadata": {
        "id": "QNTm1sB0JYqL"
      },
      "source": [
        "Add in each line a coment with the number of intstrcution that are executed in that line"
      ]
    },
    {
      "cell_type": "code",
      "execution_count": 121,
      "metadata": {
        "colab": {
          "base_uri": "https://localhost:8080/"
        },
        "outputId": "737fd7af-badf-471f-e4c9-eba96bb5f55e",
        "id": "ki5PTScqJYqL"
      },
      "outputs": [
        {
          "output_type": "stream",
          "name": "stdout",
          "text": [
            "Writing max_pairwise_product_sort.py\n"
          ]
        }
      ],
      "source": [
        "%%writefile max_pairwise_product_sort.py\n",
        "def maximum_pairwise_product(nums):\n",
        "    # Ordenar la lista en orden descendente\n",
        "    nums.sort(reverse=True)  # nlog(n)\n",
        "\n",
        "    # Tomar los dos primeros elementos después de ordenar\n",
        "    max1 = nums[0]  # 1\n",
        "    max2 = nums[1]  # 1\n",
        "\n",
        "    # Calcular el producto máximo\n",
        "    result = max1 * max2  # 1\n",
        "\n",
        "    return result  # 1\n",
        "\n",
        "\n",
        "n = int(input())  # 1\n",
        "input_numbers = list(map(int, input().split()))  # n\n",
        "result = maximum_pairwise_product(input_numbers)  # 1\n",
        "print(result)  # 1\n",
        "\n",
        "#total: n+n*log(n)+7"
      ]
    },
    {
      "cell_type": "markdown",
      "metadata": {
        "id": "eH-ZyhwOJYqL"
      },
      "source": [
        "Test with inputs 1 and 2\n",
        "\n"
      ]
    },
    {
      "cell_type": "code",
      "source": [
        "!chmod +x max_pairwise_product_sort.py\n",
        "!ls -l max_pairwise_product_sort.py"
      ],
      "metadata": {
        "colab": {
          "base_uri": "https://localhost:8080/"
        },
        "outputId": "655ec4ca-001b-4ec8-d370-dfb4a8a0dd49",
        "id": "GkYAeeBRJYqL"
      },
      "execution_count": 122,
      "outputs": [
        {
          "output_type": "stream",
          "name": "stdout",
          "text": [
            "-rwxr-xr-x 1 root root 489 Mar 13 13:37 max_pairwise_product_sort.py\n"
          ]
        }
      ]
    },
    {
      "cell_type": "code",
      "execution_count": 123,
      "metadata": {
        "colab": {
          "base_uri": "https://localhost:8080/"
        },
        "outputId": "93977ada-17a8-4047-c972-a8cae7926542",
        "id": "QBxplru2JYqM"
      },
      "outputs": [
        {
          "output_type": "stream",
          "name": "stdout",
          "text": [
            "0\n"
          ]
        }
      ],
      "source": [
        "!python max_pairwise_product_sort.py < input0.txt"
      ]
    },
    {
      "cell_type": "code",
      "source": [
        "!python max_pairwise_product_sort.py < input1.txt"
      ],
      "metadata": {
        "colab": {
          "base_uri": "https://localhost:8080/"
        },
        "outputId": "33ac8911-46c7-4367-eb8a-8fe0611a2d80",
        "id": "uPha1jyXJYqM"
      },
      "execution_count": 124,
      "outputs": [
        {
          "output_type": "stream",
          "name": "stdout",
          "text": [
            "90\n"
          ]
        }
      ]
    },
    {
      "cell_type": "code",
      "source": [
        "!python max_pairwise_product_sort.py < input2.txt"
      ],
      "metadata": {
        "colab": {
          "base_uri": "https://localhost:8080/"
        },
        "outputId": "8f49943c-1ead-4a61-c8d8-562bb3cd6778",
        "id": "xrxiFDMfJYqM"
      },
      "execution_count": 125,
      "outputs": [
        {
          "output_type": "stream",
          "name": "stdout",
          "text": [
            "90\n"
          ]
        }
      ]
    },
    {
      "cell_type": "markdown",
      "metadata": {
        "id": "5OOEzGHrJYqM"
      },
      "source": [
        "Test and time it with input 3"
      ]
    },
    {
      "cell_type": "code",
      "execution_count": 126,
      "metadata": {
        "colab": {
          "base_uri": "https://localhost:8080/"
        },
        "outputId": "b1b800ec-0298-4296-aab5-602880ce13b9",
        "id": "SmN5dxU-JYqM"
      },
      "outputs": [
        {
          "output_type": "stream",
          "name": "stdout",
          "text": [
            "90\n",
            "\n",
            "real\t0m0.030s\n",
            "user\t0m0.022s\n",
            "sys\t0m0.007s\n"
          ]
        }
      ],
      "source": [
        "!time python max_pairwise_product_sort.py < input2.txt"
      ]
    },
    {
      "cell_type": "markdown",
      "metadata": {
        "id": "CaNl1YnwJYqM"
      },
      "source": [
        "20 stress tests"
      ]
    },
    {
      "cell_type": "code",
      "execution_count": 127,
      "metadata": {
        "colab": {
          "base_uri": "https://localhost:8080/"
        },
        "outputId": "938e405f-9ca3-43c4-9225-ea22b196c9cb",
        "id": "ekARyCeCJYqN"
      },
      "outputs": [
        {
          "output_type": "stream",
          "name": "stdout",
          "text": [
            "90\n",
            "90\n",
            "122071000\n",
            "32301629178\n",
            "5251420\n",
            "129803850\n",
            "71679153\n",
            "1568792156\n",
            "722650220\n",
            "1178413976\n",
            "9966320560\n",
            "9849452690\n",
            "9949813272\n",
            "9975303042\n",
            "9985401485\n",
            "9982301352\n",
            "9913140950\n",
            "9995600259\n",
            "9986303432\n",
            "9998300066\n"
          ]
        }
      ],
      "source": [
        "!python max_pairwise_product_sort.py < input1.txt\n",
        "!python max_pairwise_product_sort.py < input2.txt\n",
        "!python max_pairwise_product_sort.py < input3.txt\n",
        "!python max_pairwise_product_sort.py < input4.txt\n",
        "!python max_pairwise_product_sort.py < input5.txt\n",
        "!python max_pairwise_product_sort.py < input6.txt\n",
        "!python max_pairwise_product_sort.py < input7.txt\n",
        "!python max_pairwise_product_sort.py < input8.txt\n",
        "!python max_pairwise_product_sort.py < input9.txt\n",
        "!python max_pairwise_product_sort.py < input10.txt\n",
        "!python max_pairwise_product_sort.py < input11.txt\n",
        "!python max_pairwise_product_sort.py < input12.txt\n",
        "!python max_pairwise_product_sort.py < input13.txt\n",
        "!python max_pairwise_product_sort.py < input14.txt\n",
        "!python max_pairwise_product_sort.py < input15.txt\n",
        "!python max_pairwise_product_sort.py < input16.txt\n",
        "!python max_pairwise_product_sort.py < input17.txt\n",
        "!python max_pairwise_product_sort.py < input18.txt\n",
        "!python max_pairwise_product_sort.py < input19.txt\n",
        "!python max_pairwise_product_sort.py < input20.txt"
      ]
    },
    {
      "cell_type": "markdown",
      "metadata": {
        "id": "VeOiyexeJYqN"
      },
      "source": [
        "Count executed instructions in code and verify with inputs 1,2 and 3\n"
      ]
    },
    {
      "cell_type": "code",
      "source": [
        "%%writefile max_pairwise_product_sort2.py\n",
        "import math\n",
        "execints = 0\n",
        "\n",
        "def maximum_pairwise_product(nums):\n",
        "    global execints\n",
        "\n",
        "    nums.sort(reverse=True)\n",
        "    execints += n*math.log10(n)\n",
        "\n",
        "    max1 = nums[0]\n",
        "    max2 = nums[1]\n",
        "    execints += 2\n",
        "\n",
        "    result = max1 * max2  # O(1)\n",
        "    execints += 1\n",
        "\n",
        "    execints += 1\n",
        "    return result\n",
        "\n",
        "n = int(input())\n",
        "execints += 1\n",
        "\n",
        "input_numbers = list(map(int, input().split()))\n",
        "execints += n\n",
        "\n",
        "result = maximum_pairwise_product(input_numbers)\n",
        "execints += 1\n",
        "print(result)\n",
        "execints += 1\n",
        "\n",
        "print(execints)"
      ],
      "metadata": {
        "colab": {
          "base_uri": "https://localhost:8080/"
        },
        "outputId": "6aead946-d1af-467c-eafd-a3ad07141c28",
        "id": "wgBNKbjIJYqN"
      },
      "execution_count": 128,
      "outputs": [
        {
          "output_type": "stream",
          "name": "stdout",
          "text": [
            "Writing max_pairwise_product_sort2.py\n"
          ]
        }
      ]
    },
    {
      "cell_type": "code",
      "execution_count": 129,
      "metadata": {
        "colab": {
          "base_uri": "https://localhost:8080/"
        },
        "outputId": "69846a6e-516c-4343-cb67-0fc2e14e03b0",
        "id": "HfbuKYO5JYqN"
      },
      "outputs": [
        {
          "output_type": "stream",
          "name": "stdout",
          "text": [
            "-rwxr-xr-x 1 root root 493 Mar 13 13:37 max_pairwise_product_sort2.py\n"
          ]
        }
      ],
      "source": [
        "!chmod +x max_pairwise_product_sort2.py\n",
        "!ls -l max_pairwise_product_sort2.py"
      ]
    },
    {
      "cell_type": "code",
      "source": [
        "n=10\n",
        "print(n+(n*math.log10(n))+7)"
      ],
      "metadata": {
        "colab": {
          "base_uri": "https://localhost:8080/"
        },
        "outputId": "53b89186-65df-45e4-c73f-44aa27ec182f",
        "id": "UOPbSq_ZJYqN"
      },
      "execution_count": 130,
      "outputs": [
        {
          "output_type": "stream",
          "name": "stdout",
          "text": [
            "27.0\n"
          ]
        }
      ]
    },
    {
      "cell_type": "code",
      "source": [
        "!python max_pairwise_product_sort2.py < input1.txt"
      ],
      "metadata": {
        "colab": {
          "base_uri": "https://localhost:8080/"
        },
        "outputId": "f0fd6aa7-982d-4ae3-9b45-7645eab90115",
        "id": "FJtEvmc0JYqN"
      },
      "execution_count": 131,
      "outputs": [
        {
          "output_type": "stream",
          "name": "stdout",
          "text": [
            "90\n",
            "27.0\n"
          ]
        }
      ]
    },
    {
      "cell_type": "code",
      "source": [
        "!python max_pairwise_product_sort2.py < input2.txt"
      ],
      "metadata": {
        "colab": {
          "base_uri": "https://localhost:8080/"
        },
        "outputId": "27ce1e27-e6b9-4265-b41c-10875f6aec4c",
        "id": "wmIi_bcoJYqO"
      },
      "execution_count": 132,
      "outputs": [
        {
          "output_type": "stream",
          "name": "stdout",
          "text": [
            "90\n",
            "27.0\n"
          ]
        }
      ]
    },
    {
      "cell_type": "code",
      "source": [
        "!python max_pairwise_product_sort2.py < input3.txt"
      ],
      "metadata": {
        "colab": {
          "base_uri": "https://localhost:8080/"
        },
        "outputId": "5d10fe47-4006-4f46-ebce-d148528c8d5f",
        "id": "QZA5vNncJYqO"
      },
      "execution_count": 133,
      "outputs": [
        {
          "output_type": "stream",
          "name": "stdout",
          "text": [
            "122071000\n",
            "17.668907502301863\n"
          ]
        }
      ]
    },
    {
      "cell_type": "markdown",
      "metadata": {
        "id": "jjdcnFS5JYqO"
      },
      "source": [
        "Calculate estimated time by instruction and number of instructions by second"
      ]
    },
    {
      "cell_type": "code",
      "execution_count": 134,
      "metadata": {
        "colab": {
          "base_uri": "https://localhost:8080/"
        },
        "outputId": "4cf62b7f-4f51-4732-9ce0-616c8c2b265a",
        "id": "Ga_rlCXZJYqO"
      },
      "outputs": [
        {
          "output_type": "stream",
          "name": "stdout",
          "text": [
            "39999800000\n",
            "1260212.9991327962\n",
            "\n",
            "real\t0m0.059s\n",
            "user\t0m0.040s\n",
            "sys\t0m0.019s\n"
          ]
        }
      ],
      "source": [
        "!time python ./max_pairwise_product_sort2.py < input21.txt"
      ]
    },
    {
      "cell_type": "code",
      "source": [
        "n=200000\n",
        "print(n+(n*math.log10(n))+7)"
      ],
      "metadata": {
        "colab": {
          "base_uri": "https://localhost:8080/"
        },
        "outputId": "f62f805d-3689-4c0f-df89-cffc7a62cea5",
        "id": "LWP7aVoiJYqO"
      },
      "execution_count": 135,
      "outputs": [
        {
          "output_type": "stream",
          "name": "stdout",
          "text": [
            "1260212.9991327962\n"
          ]
        }
      ]
    },
    {
      "cell_type": "code",
      "source": [
        "# Estimated time by instruction\n",
        "0.182/1260212.9991327962"
      ],
      "metadata": {
        "colab": {
          "base_uri": "https://localhost:8080/"
        },
        "outputId": "036065a1-1ad6-4310-fcf5-dab31154d1c5",
        "id": "E5ZWUr8KJYqO"
      },
      "execution_count": 136,
      "outputs": [
        {
          "output_type": "execute_result",
          "data": {
            "text/plain": [
              "1.4442003068151304e-07"
            ]
          },
          "metadata": {},
          "execution_count": 136
        }
      ]
    },
    {
      "cell_type": "code",
      "source": [
        "# Estimated number of instructions by second\n",
        "1260212.9991327962/0.12"
      ],
      "metadata": {
        "colab": {
          "base_uri": "https://localhost:8080/"
        },
        "outputId": "c4f60077-069b-4276-c7d4-3eac270204c4",
        "id": "VQ1dk4YcJYqO"
      },
      "execution_count": 137,
      "outputs": [
        {
          "output_type": "execute_result",
          "data": {
            "text/plain": [
              "10501774.992773302"
            ]
          },
          "metadata": {},
          "execution_count": 137
        }
      ]
    },
    {
      "cell_type": "markdown",
      "source": [
        "### Estimate and verify the maximun n that can be solved in 1 second"
      ],
      "metadata": {
        "id": "aSUfvZ93JYqO"
      }
    },
    {
      "cell_type": "markdown",
      "source": [
        "$$(n + n*log(n) + 7) \\times 1.44*10^{-7} s = 1 s$$\n",
        "\n",
        "$$ n \\approx 5×10^5 $$"
      ],
      "metadata": {
        "id": "yu6v2k0vJYqO"
      }
    },
    {
      "cell_type": "markdown",
      "source": [
        "*T*(N)=(n+n∗log(n)+7) is not the actual function of the code, given that the execution time is less than 1 second with the given n, the value of n that results in an execution time of 1 second is: $$ \\approx 2*10 ^6$$"
      ],
      "metadata": {
        "id": "pjQjolprJYqP"
      }
    },
    {
      "cell_type": "code",
      "source": [
        "print(2000000*(2000000-1))"
      ],
      "metadata": {
        "colab": {
          "base_uri": "https://localhost:8080/"
        },
        "outputId": "64d600b7-d904-472f-c5ef-6c55bd410b7a",
        "id": "6nRWyw4NJYqP"
      },
      "execution_count": 138,
      "outputs": [
        {
          "output_type": "stream",
          "name": "stdout",
          "text": [
            "3999998000000\n"
          ]
        }
      ]
    },
    {
      "cell_type": "code",
      "source": [
        "n = (2000000)\n",
        "numbers = \" \".join(map(str, range(1, n+1)))\n",
        "with open('input22.txt', 'w') as file:\n",
        "    file.write(f\"{n}\\n{numbers}\\n\")"
      ],
      "metadata": {
        "id": "jQVVVGUNJYqP"
      },
      "execution_count": 139,
      "outputs": []
    },
    {
      "cell_type": "code",
      "source": [
        "!time python ./max_pairwise_product_sort.py < input22.txt"
      ],
      "metadata": {
        "colab": {
          "base_uri": "https://localhost:8080/"
        },
        "outputId": "e2735859-31f4-41a6-ae1d-ad3c77d532ff",
        "id": "J-QTSVdwJYqP"
      },
      "execution_count": 140,
      "outputs": [
        {
          "output_type": "stream",
          "name": "stdout",
          "text": [
            "3999998000000\n",
            "\n",
            "real\t0m0.346s\n",
            "user\t0m0.255s\n",
            "sys\t0m0.083s\n"
          ]
        }
      ]
    },
    {
      "cell_type": "markdown",
      "metadata": {
        "id": "aoQI8Gh4JzLy"
      },
      "source": [
        "## Efficient solution with largest and second-largest in an list, array or vector in Python\n",
        "\n",
        " $$T(n) < 10 n  = O(n)$$\n",
        "\n",
        "\n",
        "\n"
      ]
    },
    {
      "cell_type": "markdown",
      "metadata": {
        "id": "k0PKGHcMJzL4"
      },
      "source": [
        "Add in each line a coment with the number of intstrcution that are executed in that line"
      ]
    },
    {
      "cell_type": "code",
      "execution_count": 141,
      "metadata": {
        "colab": {
          "base_uri": "https://localhost:8080/"
        },
        "outputId": "c4b621e1-2a5e-4419-d588-dcf602b74019",
        "id": "emBV_IW5JzL5"
      },
      "outputs": [
        {
          "output_type": "stream",
          "name": "stdout",
          "text": [
            "Writing max_pairwise_product_efficient.py\n"
          ]
        }
      ],
      "source": [
        "%%writefile max_pairwise_product_efficient.py\n",
        "def max_pairwise_product(numbers):\n",
        "    max1 = float('-inf')  # 1\n",
        "    max2 = float('-inf')  # 1\n",
        "\n",
        "    for num in numbers:  # n\n",
        "        if num > max1:  # n\n",
        "            max2 = max1  # n\n",
        "            max1 = num  # n\n",
        "        elif num > max2:  # n\n",
        "            max2 = num  # n\n",
        "\n",
        "    return max1 * max2  # 1\n",
        "\n",
        "n = int(input())  # 1\n",
        "\n",
        "input_numbers = list(map(int, input().split()))  # n\n",
        "\n",
        "result = max_pairwise_product(input_numbers)  # 1\n",
        "\n",
        "print(result)  # 1\n",
        "\n",
        "#total: 7*n+6"
      ]
    },
    {
      "cell_type": "markdown",
      "metadata": {
        "id": "cWnB9pvFJzL5"
      },
      "source": [
        "Test with inputs 1 and 2\n",
        "\n"
      ]
    },
    {
      "cell_type": "code",
      "source": [
        "!chmod +x max_pairwise_product_efficient.py\n",
        "!ls -l max_pairwise_product_efficient.py"
      ],
      "metadata": {
        "colab": {
          "base_uri": "https://localhost:8080/"
        },
        "outputId": "328d3f79-515a-4fe9-adb0-dbe1cbbbdb3a",
        "id": "pfW_BO8cJzL5"
      },
      "execution_count": 142,
      "outputs": [
        {
          "output_type": "stream",
          "name": "stdout",
          "text": [
            "-rwxr-xr-x 1 root root 460 Mar 13 13:37 max_pairwise_product_efficient.py\n"
          ]
        }
      ]
    },
    {
      "cell_type": "code",
      "execution_count": 143,
      "metadata": {
        "colab": {
          "base_uri": "https://localhost:8080/"
        },
        "outputId": "fd0f6a56-617a-42a5-a0fb-23e9ed22177b",
        "id": "VXkEI-gfJzL5"
      },
      "outputs": [
        {
          "output_type": "stream",
          "name": "stdout",
          "text": [
            "0\n",
            "90\n",
            "90\n"
          ]
        }
      ],
      "source": [
        "!python ./max_pairwise_product_efficient.py < input0.txt\n",
        "!python ./max_pairwise_product_efficient.py < input1.txt\n",
        "!python ./max_pairwise_product_efficient.py < input2.txt"
      ]
    },
    {
      "cell_type": "markdown",
      "metadata": {
        "id": "yDacCi2jJzL6"
      },
      "source": [
        "Test and time it with input 3"
      ]
    },
    {
      "cell_type": "code",
      "execution_count": 144,
      "metadata": {
        "colab": {
          "base_uri": "https://localhost:8080/"
        },
        "outputId": "cbc66bc7-859b-4b17-ec96-fe2ab9282f9a",
        "id": "WLi5qF-zJzL6"
      },
      "outputs": [
        {
          "output_type": "stream",
          "name": "stdout",
          "text": [
            "122071000\n",
            "\n",
            "real\t0m0.030s\n",
            "user\t0m0.024s\n",
            "sys\t0m0.004s\n"
          ]
        }
      ],
      "source": [
        "!time python max_pairwise_product_efficient.py < input3.txt"
      ]
    },
    {
      "cell_type": "markdown",
      "metadata": {
        "id": "qG-xIba1JzL6"
      },
      "source": [
        "20 stress tests"
      ]
    },
    {
      "cell_type": "code",
      "execution_count": 145,
      "metadata": {
        "colab": {
          "base_uri": "https://localhost:8080/"
        },
        "outputId": "d7fe3b93-018b-48f4-9909-57e8590aca2c",
        "id": "R06nOylrJzL6"
      },
      "outputs": [
        {
          "output_type": "stream",
          "name": "stdout",
          "text": [
            "90\n",
            "90\n",
            "122071000\n",
            "32301629178\n",
            "5251420\n",
            "129803850\n",
            "71679153\n",
            "1568792156\n",
            "722650220\n",
            "1178413976\n",
            "9966320560\n",
            "9849452690\n",
            "9949813272\n",
            "9975303042\n",
            "9985401485\n",
            "9982301352\n",
            "9913140950\n",
            "9995600259\n",
            "9986303432\n",
            "9998300066\n"
          ]
        }
      ],
      "source": [
        "!python max_pairwise_product_efficient.py < input1.txt\n",
        "!python max_pairwise_product_efficient.py < input2.txt\n",
        "!python max_pairwise_product_efficient.py < input3.txt\n",
        "!python max_pairwise_product_efficient.py < input4.txt\n",
        "!python max_pairwise_product_efficient.py < input5.txt\n",
        "!python max_pairwise_product_efficient.py < input6.txt\n",
        "!python max_pairwise_product_efficient.py < input7.txt\n",
        "!python max_pairwise_product_efficient.py < input8.txt\n",
        "!python max_pairwise_product_efficient.py < input9.txt\n",
        "!python max_pairwise_product_efficient.py < input10.txt\n",
        "!python max_pairwise_product_efficient.py < input11.txt\n",
        "!python max_pairwise_product_efficient.py < input12.txt\n",
        "!python max_pairwise_product_efficient.py < input13.txt\n",
        "!python max_pairwise_product_efficient.py < input14.txt\n",
        "!python max_pairwise_product_efficient.py < input15.txt\n",
        "!python max_pairwise_product_efficient.py < input16.txt\n",
        "!python max_pairwise_product_efficient.py < input17.txt\n",
        "!python max_pairwise_product_efficient.py < input18.txt\n",
        "!python max_pairwise_product_efficient.py < input19.txt\n",
        "!python max_pairwise_product_efficient.py < input20.txt"
      ]
    },
    {
      "cell_type": "markdown",
      "metadata": {
        "id": "PHDRUQ7NJzL7"
      },
      "source": [
        "Count executed instructions in code and verify with inputs 1,2 and 3\n"
      ]
    },
    {
      "cell_type": "code",
      "source": [
        "%%writefile max_pairwise_product_sort2.py\n",
        "def max_pairwise_product(numbers):\n",
        "    max1 = float('-inf')  # 1\n",
        "    max2 = float('-inf')  # 1\n",
        "    execints = 2  # Inicialización con el número de instrucciones hasta el bucle for\n",
        "\n",
        "    for num in numbers:  # n\n",
        "        if num > max1:  # n\n",
        "            max2 = max1  # n\n",
        "            max1 = num  # n\n",
        "            execints += 3  # 3 instrucciones: comparación, asignación de max2, asignación de max1\n",
        "        elif num > max2:  # n\n",
        "            max2 = num  # n\n",
        "            execints += 1  # 1 instrucción: asignación de max2\n",
        "\n",
        "    return max1 * max2, execints  # 1 instrucción: retorno del producto y del número de instrucciones\n",
        "\n",
        "n = int(input())  # 1\n",
        "execints = 1  # Inicialización con el número de instrucciones hasta la lectura de n\n",
        "\n",
        "input_numbers = list(map(int, input().split()))  # n\n",
        "execints += n  # Incremento del contador de instrucciones por la creación de la lista\n",
        "\n",
        "result, execints_func = max_pairwise_product(input_numbers)  # 1 (la función se ejecuta)\n",
        "execints += execints_func  # Incremento del contador de instrucciones por la ejecución de la función\n",
        "\n",
        "print(result)  # 1\n",
        "execints += 1  # Incremento del contador de instrucciones por la impresión del resultado\n",
        "\n",
        "print(\"Número total de instrucciones ejecutadas:\", execints)  # 1\n"
      ],
      "metadata": {
        "colab": {
          "base_uri": "https://localhost:8080/"
        },
        "outputId": "18fd3b1e-9495-431b-fb0d-f2bb0ca1ce99",
        "id": "-Ne5oW6RJzL7"
      },
      "execution_count": 146,
      "outputs": [
        {
          "output_type": "stream",
          "name": "stdout",
          "text": [
            "Overwriting max_pairwise_product_sort2.py\n"
          ]
        }
      ]
    },
    {
      "cell_type": "code",
      "execution_count": 147,
      "metadata": {
        "colab": {
          "base_uri": "https://localhost:8080/"
        },
        "outputId": "8c7bc9a1-c7cf-4a92-bc1f-3aaaea85a5cd",
        "id": "eqo6dkwtJzL7"
      },
      "outputs": [
        {
          "output_type": "stream",
          "name": "stdout",
          "text": [
            "-rwxr-xr-x 1 root root 1248 Mar 13 13:37 max_pairwise_product_sort2.py\n"
          ]
        }
      ],
      "source": [
        "!chmod +x max_pairwise_product_sort2.py\n",
        "!ls -l max_pairwise_product_sort2.py"
      ]
    },
    {
      "cell_type": "code",
      "source": [
        "n=10\n",
        "print(n+(n*math.log10(n))+7)"
      ],
      "metadata": {
        "colab": {
          "base_uri": "https://localhost:8080/"
        },
        "outputId": "9a91acb5-d44e-4196-8079-d707ed14dc36",
        "id": "DMOsnEQjJzL7"
      },
      "execution_count": 148,
      "outputs": [
        {
          "output_type": "stream",
          "name": "stdout",
          "text": [
            "27.0\n"
          ]
        }
      ]
    },
    {
      "cell_type": "code",
      "source": [
        "!python max_pairwise_product_sort2.py < input1.txt"
      ],
      "metadata": {
        "colab": {
          "base_uri": "https://localhost:8080/"
        },
        "outputId": "e0b68e55-3ec0-4f78-af7e-7d018bed26d2",
        "id": "jekIzWo1JzL7"
      },
      "execution_count": 149,
      "outputs": [
        {
          "output_type": "stream",
          "name": "stdout",
          "text": [
            "90\n",
            "Número total de instrucciones ejecutadas: 44\n"
          ]
        }
      ]
    },
    {
      "cell_type": "code",
      "source": [
        "!python max_pairwise_product_sort2.py < input2.txt"
      ],
      "metadata": {
        "colab": {
          "base_uri": "https://localhost:8080/"
        },
        "outputId": "047e51ec-31a6-4056-c4c3-f98b3db2f7a2",
        "id": "dO5FxkFSJzL7"
      },
      "execution_count": 150,
      "outputs": [
        {
          "output_type": "stream",
          "name": "stdout",
          "text": [
            "90\n",
            "Número total de instrucciones ejecutadas: 18\n"
          ]
        }
      ]
    },
    {
      "cell_type": "code",
      "source": [
        "!python max_pairwise_product_sort2.py < input3.txt"
      ],
      "metadata": {
        "colab": {
          "base_uri": "https://localhost:8080/"
        },
        "outputId": "57115202-1772-4d22-ef0d-30083f0ef123",
        "id": "y60BfMYnJzL7"
      },
      "execution_count": 151,
      "outputs": [
        {
          "output_type": "stream",
          "name": "stdout",
          "text": [
            "122071000\n",
            "Número total de instrucciones ejecutadas: 19\n"
          ]
        }
      ]
    },
    {
      "cell_type": "markdown",
      "metadata": {
        "id": "0uUQRys-JzL7"
      },
      "source": [
        "Calculate estimated time by instruction and number of instructions by second"
      ]
    },
    {
      "cell_type": "code",
      "source": [
        "n = 200000\n",
        "numbers = \" \".join(map(str, range(1, 200001)))\n",
        "with open('input21.txt', 'w') as file:\n",
        "    file.write(f\"{n}\\n{numbers}\\n\")"
      ],
      "metadata": {
        "id": "ZnqodLMFVlok"
      },
      "execution_count": 152,
      "outputs": []
    },
    {
      "cell_type": "code",
      "execution_count": 153,
      "metadata": {
        "colab": {
          "base_uri": "https://localhost:8080/"
        },
        "outputId": "10bfa754-c295-4467-d479-f6f7e96e2563",
        "id": "FJpz_EHvJzL8"
      },
      "outputs": [
        {
          "output_type": "stream",
          "name": "stdout",
          "text": [
            "39999800000\n",
            "Número total de instrucciones ejecutadas: 800004\n",
            "\n",
            "real\t0m0.070s\n",
            "user\t0m0.053s\n",
            "sys\t0m0.016s\n"
          ]
        }
      ],
      "source": [
        "!time python ./max_pairwise_product_sort2.py < input21.txt"
      ]
    },
    {
      "cell_type": "code",
      "source": [
        "n=200000\n",
        "print(n+(n*math.log10(n))+7)"
      ],
      "metadata": {
        "colab": {
          "base_uri": "https://localhost:8080/"
        },
        "outputId": "a943a2e6-3f38-4f31-acab-db8f77c901e3",
        "id": "OaQ4MOz3JzL8"
      },
      "execution_count": 154,
      "outputs": [
        {
          "output_type": "stream",
          "name": "stdout",
          "text": [
            "1260212.9991327962\n"
          ]
        }
      ]
    },
    {
      "cell_type": "code",
      "source": [
        "# Estimated time by instruction\n",
        "0.182/1260212.9991327962"
      ],
      "metadata": {
        "colab": {
          "base_uri": "https://localhost:8080/"
        },
        "outputId": "8ae08a59-01b6-4423-acf9-c9c96d580d62",
        "id": "QGSzuJirJzL8"
      },
      "execution_count": 155,
      "outputs": [
        {
          "output_type": "execute_result",
          "data": {
            "text/plain": [
              "1.4442003068151304e-07"
            ]
          },
          "metadata": {},
          "execution_count": 155
        }
      ]
    },
    {
      "cell_type": "code",
      "source": [
        "# Estimated number of instructions by second\n",
        "1260212.9991327962/0.12"
      ],
      "metadata": {
        "colab": {
          "base_uri": "https://localhost:8080/"
        },
        "outputId": "0c965264-16a3-448d-9557-39577fbcf3c7",
        "id": "MaPX8rp2JzL8"
      },
      "execution_count": 156,
      "outputs": [
        {
          "output_type": "execute_result",
          "data": {
            "text/plain": [
              "10501774.992773302"
            ]
          },
          "metadata": {},
          "execution_count": 156
        }
      ]
    },
    {
      "cell_type": "markdown",
      "source": [
        "### Estimate and verify the maximun n that can be solved in 1 second"
      ],
      "metadata": {
        "id": "HQhZ2ELBJzL8"
      }
    },
    {
      "cell_type": "markdown",
      "source": [
        "$$(n + n*log(n) + 7) \\times 1.44*10^{-7} s = 1 s$$\n",
        "\n",
        "$$ n \\approx 5×10^5 $$"
      ],
      "metadata": {
        "id": "PSobguBPJzL8"
      }
    },
    {
      "cell_type": "markdown",
      "source": [
        "*T*(N)=(n+n∗log(n)+7) is not the actual function of the code, given that the execution time is less than 1 second with the given n, the value of n that results in an execution time of 1 second is: $$ \\approx 2*10 ^6$$"
      ],
      "metadata": {
        "id": "bfHGrQKtJzL8"
      }
    },
    {
      "cell_type": "code",
      "source": [
        "print(2000000*(2000000-1))"
      ],
      "metadata": {
        "colab": {
          "base_uri": "https://localhost:8080/"
        },
        "outputId": "4787ca45-747f-4f05-c84a-30979972f87a",
        "id": "8GWv_yvbJzL8"
      },
      "execution_count": 157,
      "outputs": [
        {
          "output_type": "stream",
          "name": "stdout",
          "text": [
            "3999998000000\n"
          ]
        }
      ]
    },
    {
      "cell_type": "code",
      "source": [
        "n = (2000000)\n",
        "numbers = \" \".join(map(str, range(1, n+1)))\n",
        "with open('input22.txt', 'w') as file:\n",
        "    file.write(f\"{n}\\n{numbers}\\n\")"
      ],
      "metadata": {
        "id": "-BMTbLAYJzL8"
      },
      "execution_count": 158,
      "outputs": []
    },
    {
      "cell_type": "code",
      "source": [
        "!time python ./max_pairwise_product_sort.py < input22.txt"
      ],
      "metadata": {
        "colab": {
          "base_uri": "https://localhost:8080/"
        },
        "outputId": "e611b36b-d3c4-4971-d5c7-f89e9381b4bc",
        "id": "95kPWlpHJzL9"
      },
      "execution_count": 159,
      "outputs": [
        {
          "output_type": "stream",
          "name": "stdout",
          "text": [
            "3999998000000\n",
            "\n",
            "real\t0m0.534s\n",
            "user\t0m0.331s\n",
            "sys\t0m0.145s\n"
          ]
        }
      ]
    },
    {
      "cell_type": "markdown",
      "metadata": {
        "id": "i2c4tGYyJBFp"
      },
      "source": [
        "## Efficient solution with largest and second-largest in an list, array or vector in C++\n",
        "\n",
        " $$T(n) < 10 n  = O(n)$$\n",
        "\n",
        "\n",
        "\n"
      ]
    },
    {
      "cell_type": "markdown",
      "metadata": {
        "id": "nLcKBwbU0QsE"
      },
      "source": [
        "Add in each line a coment with the number of intstrcution that are executed in that line"
      ]
    },
    {
      "cell_type": "code",
      "execution_count": 160,
      "metadata": {
        "id": "knls5Fh3NSt_",
        "colab": {
          "base_uri": "https://localhost:8080/"
        },
        "outputId": "a582c47a-e8d9-4b95-ad05-1b63085e9fe8"
      },
      "outputs": [
        {
          "output_type": "stream",
          "name": "stdout",
          "text": [
            "Writing max_pairwise_product_efficient.cpp\n"
          ]
        }
      ],
      "source": [
        "%%writefile max_pairwise_product_efficient.cpp\n",
        "#include <iostream>\n",
        "#include <vector>\n",
        "using namespace std;\n",
        "\n",
        "int main() {\n",
        "    long long n;  // 1\n",
        "    cin >> n;     // 1\n",
        "\n",
        "    vector<long long> numbers(n);  // 2\n",
        "\n",
        "    cin >> numbers[0];  // 1\n",
        "    cin >> numbers[1];  // 1\n",
        "    long long max1 = max(numbers[0], numbers[1]);  // 1\n",
        "    long long max2 = min(numbers[0], numbers[1]);  // 1\n",
        "\n",
        "    // Iteración a partir del tercer elemento\n",
        "    for (int i = 2; i < n; ++i) {  // n-1\n",
        "        cin >> numbers[i];  // 1\n",
        "        if (numbers[i] > max1) {  // n-1\n",
        "            max2 = max1;  // n-1 (ocurre)\n",
        "            max1 = numbers[i];  // n-1\n",
        "        } else if (numbers[i] > max2) {  // n-1 (ocurre en el peor caso)\n",
        "            max2 = numbers[i];  // n-1\n",
        "        }\n",
        "    }\n",
        "\n",
        "    cout << max1 * max2 << endl;  // 1\n",
        "\n",
        "    return 0;\n",
        "    //total:6n+5\n",
        "}\n",
        "\n"
      ]
    },
    {
      "cell_type": "markdown",
      "metadata": {
        "id": "-JCijbWxNSii"
      },
      "source": [
        "Test with inputs 1 and 2\n",
        "\n"
      ]
    },
    {
      "cell_type": "code",
      "source": [
        "!g++ -o max_pairwise_product_efficient max_pairwise_product_efficient.cpp\n",
        "!chmod +x max_pairwise_product_efficient.cpp\n",
        "!ls -l max_pairwise_product_efficient.cpp max_pairwise_product_efficient"
      ],
      "metadata": {
        "colab": {
          "base_uri": "https://localhost:8080/"
        },
        "id": "CMl32aLDxdy-",
        "outputId": "cfc372c4-106e-4dd7-8e2f-0c1c404ea576"
      },
      "execution_count": 161,
      "outputs": [
        {
          "output_type": "stream",
          "name": "stdout",
          "text": [
            "-rwxr-xr-x 1 root root 20864 Mar 13 13:37 max_pairwise_product_efficient\n",
            "-rwxr-xr-x 1 root root   779 Mar 13 13:37 max_pairwise_product_efficient.cpp\n"
          ]
        }
      ]
    },
    {
      "cell_type": "code",
      "execution_count": 162,
      "metadata": {
        "id": "TrTGAfqlNVXT",
        "colab": {
          "base_uri": "https://localhost:8080/"
        },
        "outputId": "91b85d55-66b7-4ed3-dc24-8be8c14756b3"
      },
      "outputs": [
        {
          "output_type": "stream",
          "name": "stdout",
          "text": [
            "90\n",
            "90\n"
          ]
        }
      ],
      "source": [
        "! ./max_pairwise_product_efficient < input1.txt\n",
        "! ./max_pairwise_product_efficient < input2.txt"
      ]
    },
    {
      "cell_type": "markdown",
      "metadata": {
        "id": "PRX51wADNR8b"
      },
      "source": [
        "Test and time it with input 3"
      ]
    },
    {
      "cell_type": "code",
      "execution_count": 163,
      "metadata": {
        "id": "v4z7-Is_NRt7",
        "colab": {
          "base_uri": "https://localhost:8080/"
        },
        "outputId": "95d203b3-0a90-442d-cb8b-0f229bbb8e37"
      },
      "outputs": [
        {
          "output_type": "stream",
          "name": "stdout",
          "text": [
            "/bin/bash: line 1: ./max_pairwise_product_superefficient: No such file or directory\n",
            "\n",
            "real\t0m0.001s\n",
            "user\t0m0.000s\n",
            "sys\t0m0.000s\n"
          ]
        }
      ],
      "source": [
        "!time ./max_pairwise_product_superefficient < input3.txt"
      ]
    },
    {
      "cell_type": "markdown",
      "metadata": {
        "id": "rpdfs0_TNZJf"
      },
      "source": [
        "20 stress tests"
      ]
    },
    {
      "cell_type": "code",
      "source": [
        "for i in range(20,41):\n",
        "  new_file=open(f\"input{i}\",\"w\")"
      ],
      "metadata": {
        "id": "jhzccrFCPeLm"
      },
      "execution_count": 164,
      "outputs": []
    },
    {
      "cell_type": "code",
      "execution_count": 165,
      "metadata": {
        "id": "Lu4tYcKzNcTT",
        "colab": {
          "base_uri": "https://localhost:8080/"
        },
        "outputId": "e29e2ee7-6d67-45db-fbf8-87ffa6179ec1"
      },
      "outputs": [
        {
          "output_type": "stream",
          "name": "stdout",
          "text": [
            "Writing randomGenerator.cpp\n"
          ]
        }
      ],
      "source": [
        "%%writefile randomGenerator.cpp\n",
        "#include <iostream>\n",
        "#include <stdio.h>\n",
        "#include <unistd.h>\n",
        "using namespace std;\n",
        "int main (){\n",
        "  int n, number;\n",
        "  srand(getpid());\n",
        "  n = 2+rand()%(51-2);\n",
        "  cout<<n<<\"\\n\";\n",
        "  for(int i=0;i<n;i++){\n",
        "    number = rand();\n",
        "    cout<<number<<\" \";\n",
        "  }\n",
        "  return 0;\n",
        "}\n"
      ]
    },
    {
      "cell_type": "code",
      "source": [
        "!g++ -o randomGenerator randomGenerator.cpp\n",
        "!chmod +x randomGenerator.cpp\n",
        "!ls -l randomGenerator.cpp randomGenerator"
      ],
      "metadata": {
        "colab": {
          "base_uri": "https://localhost:8080/"
        },
        "id": "Q-bFNAMiPi6E",
        "outputId": "7adbf1b1-185b-48a5-ff1d-391780a07be7"
      },
      "execution_count": 166,
      "outputs": [
        {
          "output_type": "stream",
          "name": "stdout",
          "text": [
            "-rwxr-xr-x 1 root root 16544 Mar 13 13:37 randomGenerator\n",
            "-rwxr-xr-x 1 root root   255 Mar 13 13:37 randomGenerator.cpp\n"
          ]
        }
      ]
    },
    {
      "cell_type": "code",
      "source": [
        "! ./randomGenerator > input20.txt\n",
        "! ./randomGenerator > input21.txt\n",
        "! ./randomGenerator > input22.txt\n",
        "! ./randomGenerator > input23.txt\n",
        "! ./randomGenerator > input24.txt\n",
        "! ./randomGenerator > input25.txt\n",
        "! ./randomGenerator > input26.txt\n",
        "! ./randomGenerator > input27.txt\n",
        "! ./randomGenerator > input28.txt\n",
        "! ./randomGenerator > input29.txt\n",
        "! ./randomGenerator > input30.txt\n",
        "! ./randomGenerator > input31.txt\n",
        "! ./randomGenerator > input32.txt\n",
        "! ./randomGenerator > input33.txt\n",
        "! ./randomGenerator > input34.txt\n",
        "! ./randomGenerator > input35.txt\n",
        "! ./randomGenerator > input36.txt\n",
        "! ./randomGenerator > input37.txt\n",
        "! ./randomGenerator > input38.txt\n",
        "! ./randomGenerator > input39.txt\n",
        "! ./randomGenerator > input40.txt"
      ],
      "metadata": {
        "id": "B37Gei1YPnF_"
      },
      "execution_count": 167,
      "outputs": []
    },
    {
      "cell_type": "code",
      "source": [
        "! ./max_pairwise_product_efficient < input20.txt\n",
        "! ./max_pairwise_product_efficient < input21.txt\n",
        "! ./max_pairwise_product_efficient < input22.txt\n",
        "! ./max_pairwise_product_efficient < input23.txt\n",
        "! ./max_pairwise_product_efficient < input24.txt\n",
        "! ./max_pairwise_product_efficient < input25.txt\n",
        "! ./max_pairwise_product_efficient < input26.txt\n",
        "! ./max_pairwise_product_efficient < input27.txt\n",
        "! ./max_pairwise_product_efficient < input28.txt\n",
        "! ./max_pairwise_product_efficient < input29.txt\n",
        "! ./max_pairwise_product_efficient < input30.txt\n",
        "! ./max_pairwise_product_efficient < input31.txt\n",
        "! ./max_pairwise_product_efficient < input32.txt\n",
        "! ./max_pairwise_product_efficient < input33.txt\n",
        "! ./max_pairwise_product_efficient < input34.txt\n",
        "! ./max_pairwise_product_efficient < input35.txt\n",
        "! ./max_pairwise_product_efficient < input36.txt\n",
        "! ./max_pairwise_product_efficient < input37.txt\n",
        "! ./max_pairwise_product_efficient < input38.txt\n",
        "! ./max_pairwise_product_efficient < input39.txt\n",
        "! ./max_pairwise_product_efficient < input40.txt"
      ],
      "metadata": {
        "colab": {
          "base_uri": "https://localhost:8080/"
        },
        "id": "tX5iCRraP-x5",
        "outputId": "b34f892e-7625-4f75-c7ba-5f8804d3d7fc"
      },
      "execution_count": 168,
      "outputs": [
        {
          "output_type": "stream",
          "name": "stdout",
          "text": [
            "4008991610039160015\n",
            "3244264801600193280\n",
            "3703137737510795976\n",
            "4371448480848500173\n",
            "4183222209453352800\n",
            "4529867612992977600\n",
            "4465291902434322160\n",
            "3525040867104517760\n",
            "4317780728845209249\n",
            "3408413166079098980\n",
            "3398931655976199885\n",
            "4505428703455933490\n",
            "1930270139402335640\n",
            "4183745850646262175\n",
            "4305468055421125488\n",
            "3518858188344746767\n",
            "4162407460183122738\n",
            "4513789199643758400\n",
            "4233356775772147848\n",
            "4388024314673155527\n",
            "4310920828896632784\n"
          ]
        }
      ]
    },
    {
      "cell_type": "markdown",
      "source": [
        "Count executed instructions in code and verify with inputs 1,2 and 3"
      ],
      "metadata": {
        "id": "-lNaEmICQKNO"
      }
    },
    {
      "cell_type": "code",
      "source": [
        "%%writefile max_pairwise_product_efficient2.cpp\n",
        "#include <iostream>\n",
        "#include <vector>\n",
        "using namespace std;\n",
        "\n",
        "int main() {\n",
        "    long long n;  // 1\n",
        "    cin >> n;     // 1\n",
        "\n",
        "    vector<long long> numbers(n);  // 2\n",
        "    int execints = 4;\n",
        "\n",
        "    cin >> numbers[0];  // 1\n",
        "    cin >> numbers[1];  // 1\n",
        "    long long max1 = max(numbers[0], numbers[1]);  // 1\n",
        "    long long max2 = min(numbers[0], numbers[1]);  // 1\n",
        "    execints += 4;\n",
        "\n",
        "    for (int i = 2; i < n; ++i) {  // n-1\n",
        "        cin >> numbers[i];  // 1\n",
        "        execints += 1;\n",
        "        if (numbers[i] > max1) {  // n-1\n",
        "            max2 = max1;  // n-1 (ocurre en el peor caso)\n",
        "            max1 = numbers[i];  // n-1\n",
        "            execints += 2;\n",
        "        } else if (numbers[i] > max2) {  // n-1 (ocurre en el peor caso)\n",
        "            max2 = numbers[i];  // n-1\n",
        "            execints += 1;\n",
        "        }\n",
        "    }\n",
        "\n",
        "    cout << max1 * max2 << endl;  // 1\n",
        "    execints += 1;\n",
        "\n",
        "    cout << execints << endl;  // 2\n",
        "\n",
        "    return 0;\n",
        "}\n",
        "\n"
      ],
      "metadata": {
        "colab": {
          "base_uri": "https://localhost:8080/"
        },
        "id": "umXMWiqP3sl9",
        "outputId": "6036bae5-ccf1-48b8-ea18-94ba40e75810"
      },
      "execution_count": 169,
      "outputs": [
        {
          "output_type": "stream",
          "name": "stdout",
          "text": [
            "Writing max_pairwise_product_efficient2.cpp\n"
          ]
        }
      ]
    },
    {
      "cell_type": "code",
      "execution_count": 170,
      "metadata": {
        "id": "dh85RM8vNhFz",
        "colab": {
          "base_uri": "https://localhost:8080/"
        },
        "outputId": "2b25d431-7940-40c0-98e1-d96595770fde"
      },
      "outputs": [
        {
          "output_type": "stream",
          "name": "stdout",
          "text": [
            "-rwxr-xr-x 1 root root 20912 Mar 13 13:37 max_pairwise_product_efficient2\n",
            "-rwxr-xr-x 1 root root   905 Mar 13 13:37 max_pairwise_product_efficient2.cpp\n"
          ]
        }
      ],
      "source": [
        "!g++ -o max_pairwise_product_efficient2 max_pairwise_product_efficient2.cpp\n",
        "!chmod +x max_pairwise_product_efficient2.cpp\n",
        "!ls -l max_pairwise_product_efficient2.cpp max_pairwise_product_efficient2"
      ]
    },
    {
      "cell_type": "code",
      "source": [
        "n=10\n",
        "print(6*n+5) #peor caso"
      ],
      "metadata": {
        "colab": {
          "base_uri": "https://localhost:8080/"
        },
        "id": "23iYpdfm6-io",
        "outputId": "c8e555e1-924e-43a8-ce00-14cc7e7d7896"
      },
      "execution_count": 171,
      "outputs": [
        {
          "output_type": "stream",
          "name": "stdout",
          "text": [
            "65\n"
          ]
        }
      ]
    },
    {
      "cell_type": "code",
      "source": [
        "! ./max_pairwise_product_efficient2 < input1.txt"
      ],
      "metadata": {
        "colab": {
          "base_uri": "https://localhost:8080/"
        },
        "id": "vzVv6m4A6hyi",
        "outputId": "6475f773-8f82-4a6b-9fd0-2010d2d0d744"
      },
      "execution_count": 172,
      "outputs": [
        {
          "output_type": "stream",
          "name": "stdout",
          "text": [
            "90\n",
            "33\n"
          ]
        }
      ]
    },
    {
      "cell_type": "code",
      "source": [
        "! ./max_pairwise_product_efficient2 < input2.txt"
      ],
      "metadata": {
        "colab": {
          "base_uri": "https://localhost:8080/"
        },
        "id": "mMr6d2gb6jR3",
        "outputId": "83195206-c3a6-46fe-ef42-a4910c524115"
      },
      "execution_count": 173,
      "outputs": [
        {
          "output_type": "stream",
          "name": "stdout",
          "text": [
            "90\n",
            "17\n"
          ]
        }
      ]
    },
    {
      "cell_type": "code",
      "source": [
        "! ./max_pairwise_product_efficient2 < input3.txt"
      ],
      "metadata": {
        "colab": {
          "base_uri": "https://localhost:8080/"
        },
        "id": "wUG8rB096jBp",
        "outputId": "af82c4bb-b2f3-4dad-ba2e-1e2d1c6a4e32"
      },
      "execution_count": 174,
      "outputs": [
        {
          "output_type": "stream",
          "name": "stdout",
          "text": [
            "122071000\n",
            "15\n"
          ]
        }
      ]
    },
    {
      "cell_type": "markdown",
      "metadata": {
        "id": "K6ybgCmpNygr"
      },
      "source": [
        "Calculate estimated time by instruction and number of instructions by second"
      ]
    },
    {
      "cell_type": "code",
      "source": [
        "n = 200000\n",
        "numbers = \" \".join(map(str, range(1, 200001)))\n",
        "with open('input21.txt', 'w') as file:\n",
        "    file.write(f\"{n}\\n{numbers}\\n\")"
      ],
      "metadata": {
        "id": "oyLbNYyhVvoL"
      },
      "execution_count": 175,
      "outputs": []
    },
    {
      "cell_type": "code",
      "execution_count": 176,
      "metadata": {
        "id": "kwe3G1O3Nz1w",
        "colab": {
          "base_uri": "https://localhost:8080/"
        },
        "outputId": "056928d9-3629-4bbd-8ee8-cff265883b19"
      },
      "outputs": [
        {
          "output_type": "stream",
          "name": "stdout",
          "text": [
            "39999800000\n",
            "600003\n",
            "\n",
            "real\t0m0.045s\n",
            "user\t0m0.042s\n",
            "sys\t0m0.003s\n"
          ]
        }
      ],
      "source": [
        "!time ./max_pairwise_product_efficient2 < input21.txt"
      ]
    },
    {
      "cell_type": "code",
      "source": [
        "n=200000\n",
        "print(6*n+5)"
      ],
      "metadata": {
        "colab": {
          "base_uri": "https://localhost:8080/"
        },
        "id": "FzGoBiRy8r0i",
        "outputId": "7818aac6-6e6a-495a-a54e-ae5d81db56e7"
      },
      "execution_count": 177,
      "outputs": [
        {
          "output_type": "stream",
          "name": "stdout",
          "text": [
            "1200005\n"
          ]
        }
      ]
    },
    {
      "cell_type": "code",
      "source": [
        "# Estimated time by instruction\n",
        "0.073/1200005"
      ],
      "metadata": {
        "colab": {
          "base_uri": "https://localhost:8080/"
        },
        "id": "HI3fQVU28ryf",
        "outputId": "869eafa9-3493-46ca-ca7a-cf7b26723ea8"
      },
      "execution_count": 178,
      "outputs": [
        {
          "output_type": "execute_result",
          "data": {
            "text/plain": [
              "6.083307986216724e-08"
            ]
          },
          "metadata": {},
          "execution_count": 178
        }
      ]
    },
    {
      "cell_type": "code",
      "source": [
        "# Estimated number of instructions by second\n",
        "1200005/0.073"
      ],
      "metadata": {
        "colab": {
          "base_uri": "https://localhost:8080/"
        },
        "id": "Fd6rbaWJ8_P_",
        "outputId": "20bae508-b981-4d9b-89e0-6d9ee77a5294"
      },
      "execution_count": 179,
      "outputs": [
        {
          "output_type": "execute_result",
          "data": {
            "text/plain": [
              "16438424.657534247"
            ]
          },
          "metadata": {},
          "execution_count": 179
        }
      ]
    },
    {
      "cell_type": "markdown",
      "source": [
        "### Estimate and verify the maximun n that can be solved in 1 second"
      ],
      "metadata": {
        "id": "v8GY6n_ZaJ4P"
      }
    },
    {
      "cell_type": "markdown",
      "source": [
        "$$(6*n+5) \\times 6.08*10^{-8} s = 1 s$$\n",
        "\n",
        "$$ n \\approx 2.74*10^{6} $$"
      ],
      "metadata": {
        "id": "zeQaArfkBQ0r"
      }
    },
    {
      "cell_type": "code",
      "source": [
        "print(2740000*(2740000-1))"
      ],
      "metadata": {
        "id": "z3xjzg1YaKk6",
        "colab": {
          "base_uri": "https://localhost:8080/"
        },
        "outputId": "70732788-d18a-48c8-cd00-1192575c0735"
      },
      "execution_count": 180,
      "outputs": [
        {
          "output_type": "stream",
          "name": "stdout",
          "text": [
            "7507597260000\n"
          ]
        }
      ]
    },
    {
      "cell_type": "code",
      "source": [
        "n = (2740000)\n",
        "numbers = \" \".join(map(str, range(1, n+1)))\n",
        "with open('input22.txt', 'w') as file:\n",
        "    file.write(f\"{n}\\n{numbers}\\n\")"
      ],
      "metadata": {
        "id": "NfLjQwAKDp-U"
      },
      "execution_count": 181,
      "outputs": []
    },
    {
      "cell_type": "code",
      "source": [
        "!time ./max_pairwise_product_efficient < input22.txt"
      ],
      "metadata": {
        "colab": {
          "base_uri": "https://localhost:8080/"
        },
        "id": "EMzQivSKEApt",
        "outputId": "367d1de3-2731-4a08-d8a8-adc3fb2d5768"
      },
      "execution_count": 182,
      "outputs": [
        {
          "output_type": "stream",
          "name": "stdout",
          "text": [
            "7507597260000\n",
            "\n",
            "real\t0m0.659s\n",
            "user\t0m0.634s\n",
            "sys\t0m0.018s\n"
          ]
        }
      ]
    },
    {
      "cell_type": "markdown",
      "metadata": {
        "id": "sUpIWcykOGpT"
      },
      "source": [
        "## Super efficient solution\n",
        "\n",
        "Whitout storing the list in memory, only stpring the largest and second largest and whitout calling a function, add in each line a coment with the number of instructions that are executed in that line\n",
        "\n",
        "in C++ and Python\n",
        "\n",
        "\n",
        " $$T(n) < 13 n  = O(n)$$\n"
      ]
    },
    {
      "cell_type": "code",
      "execution_count": 183,
      "metadata": {
        "id": "hBLt_xBQLy8E",
        "colab": {
          "base_uri": "https://localhost:8080/"
        },
        "outputId": "e17e18b1-6bd2-47b3-c0ae-0891d74a9e69"
      },
      "outputs": [
        {
          "output_type": "stream",
          "name": "stdout",
          "text": [
            "Writing max_pairwise_product_superefficient.cpp\n"
          ]
        }
      ],
      "source": [
        "%%writefile max_pairwise_product_superefficient.cpp\n",
        "#include <iostream>\n",
        "\n",
        "using namespace std;\n",
        "int main(){\n",
        "  long max, secondMax, input, n;\n",
        "\n",
        "  cin>>n;\n",
        "\n",
        "  cin>>max;\n",
        "  cin>>input;\n",
        "  if(input>max){\n",
        "    secondMax=max;\n",
        "    max=input;\n",
        "  }\n",
        "  else{\n",
        "    secondMax=input;\n",
        "  }\n",
        "  for(int i=0; i<n-2;i++){\n",
        "    cin>>input;\n",
        "    if(input>secondMax){\n",
        "      if(input>max){\n",
        "        secondMax=max;\n",
        "        max=input;\n",
        "      }\n",
        "      else{\n",
        "        secondMax=input;\n",
        "      }\n",
        "    }\n",
        "\n",
        "  }\n",
        "  cout<<max*secondMax<<\"\\n\";\n",
        "\n",
        "\n",
        " cout << \"Execution Time: \" << time << endl;\n",
        "  return 0;\n",
        "}\n"
      ]
    },
    {
      "cell_type": "code",
      "source": [
        "!g++ -o max_pairwise_product_superefficient max_pairwise_product_superefficient.cpp\n",
        "!chmod +x max_pairwise_product_superefficient.cpp\n",
        "!ls -l max_pairwise_product_superefficient.cpp max_pairwise_product_superefficient"
      ],
      "metadata": {
        "colab": {
          "base_uri": "https://localhost:8080/"
        },
        "id": "9QPQQm_Sd0ry",
        "outputId": "f746d70d-aa09-407d-84f4-17bc9eefc8ec"
      },
      "execution_count": 184,
      "outputs": [
        {
          "output_type": "stream",
          "name": "stdout",
          "text": [
            "-rwxr-xr-x 1 root root 16792 Mar 13 13:37 max_pairwise_product_superefficient\n",
            "-rwxr-xr-x 1 root root   498 Mar 13 13:37 max_pairwise_product_superefficient.cpp\n"
          ]
        }
      ]
    },
    {
      "cell_type": "markdown",
      "metadata": {
        "id": "683gc3roHqzb"
      },
      "source": [
        "Test with inputs 1 and 2\n",
        "\n",
        "\n"
      ]
    },
    {
      "cell_type": "code",
      "execution_count": 185,
      "metadata": {
        "id": "b7d4LA8OIc2_",
        "colab": {
          "base_uri": "https://localhost:8080/"
        },
        "outputId": "2e569d70-415c-4a52-8f97-d8f44da4eeff"
      },
      "outputs": [
        {
          "output_type": "stream",
          "name": "stdout",
          "text": [
            "90\n",
            "Execution Time: 1\n",
            "90\n",
            "Execution Time: 1\n"
          ]
        }
      ],
      "source": [
        "! ./max_pairwise_product_superefficient < input1.txt\n",
        "! ./max_pairwise_product_superefficient < input2.txt"
      ]
    },
    {
      "cell_type": "markdown",
      "metadata": {
        "id": "36Ugn1odIeJz"
      },
      "source": [
        "Test and time it with input 3"
      ]
    },
    {
      "cell_type": "code",
      "execution_count": 186,
      "metadata": {
        "id": "jDyMbCnxHqSN",
        "colab": {
          "base_uri": "https://localhost:8080/"
        },
        "outputId": "a49ec198-3307-40d2-f97e-1551daf30608"
      },
      "outputs": [
        {
          "output_type": "stream",
          "name": "stdout",
          "text": [
            "122071000\n",
            "Execution Time: 1\n",
            "\n",
            "real\t0m0.002s\n",
            "user\t0m0.001s\n",
            "sys\t0m0.001s\n"
          ]
        }
      ],
      "source": [
        "!time ./max_pairwise_product_superefficient < input3.txt\n"
      ]
    },
    {
      "cell_type": "markdown",
      "metadata": {
        "id": "bhqiKQG6fjKM"
      },
      "source": [
        "20 stress tests"
      ]
    },
    {
      "cell_type": "code",
      "source": [
        "for i in range(20,41):\n",
        "  new_file=open(f\"input{i}\",\"w\")"
      ],
      "metadata": {
        "id": "mMMFB947fIIK"
      },
      "execution_count": 187,
      "outputs": []
    },
    {
      "cell_type": "code",
      "execution_count": 188,
      "metadata": {
        "id": "2KsiXKhALzwm",
        "colab": {
          "base_uri": "https://localhost:8080/"
        },
        "outputId": "4faf6264-c294-4baf-f20b-5c76a933ea13"
      },
      "outputs": [
        {
          "output_type": "stream",
          "name": "stdout",
          "text": [
            "Overwriting randomGenerator.cpp\n"
          ]
        }
      ],
      "source": [
        "%%writefile randomGenerator.cpp\n",
        "#include <iostream>\n",
        "#include <stdio.h>\n",
        "#include <unistd.h>\n",
        "using namespace std;\n",
        "int main (){\n",
        "  int n, number;\n",
        "  srand(getpid());\n",
        "  n = 2+rand()%(51-2);\n",
        "  cout<<n<<\"\\n\";\n",
        "  for(int i=0;i<n;i++){\n",
        "    number = rand();\n",
        "    cout<<number<<\" \";\n",
        "  }\n",
        "  return 0;\n",
        "}"
      ]
    },
    {
      "cell_type": "code",
      "source": [
        "!g++ -o randomGenerator randomGenerator.cpp\n",
        "!chmod +x randomGenerator.cpp\n",
        "!ls -l randomGenerator.cpp randomGenerator"
      ],
      "metadata": {
        "colab": {
          "base_uri": "https://localhost:8080/"
        },
        "id": "Hemk4ulI-Yh5",
        "outputId": "e9b2c653-d3e6-48aa-cc4d-2adc5cc55736"
      },
      "execution_count": 189,
      "outputs": [
        {
          "output_type": "stream",
          "name": "stdout",
          "text": [
            "-rwxr-xr-x 1 root root 16544 Mar 13 13:37 randomGenerator\n",
            "-rwxr-xr-x 1 root root   255 Mar 13 13:37 randomGenerator.cpp\n"
          ]
        }
      ]
    },
    {
      "cell_type": "code",
      "source": [
        "! ./randomGenerator > input20.txt\n",
        "! ./randomGenerator > input21.txt\n",
        "! ./randomGenerator > input22.txt\n",
        "! ./randomGenerator > input23.txt\n",
        "! ./randomGenerator > input24.txt\n",
        "! ./randomGenerator > input25.txt\n",
        "! ./randomGenerator > input26.txt\n",
        "! ./randomGenerator > input27.txt\n",
        "! ./randomGenerator > input28.txt\n",
        "! ./randomGenerator > input29.txt\n",
        "! ./randomGenerator > input30.txt\n",
        "! ./randomGenerator > input31.txt\n",
        "! ./randomGenerator > input32.txt\n",
        "! ./randomGenerator > input33.txt\n",
        "! ./randomGenerator > input34.txt\n",
        "! ./randomGenerator > input35.txt\n",
        "! ./randomGenerator > input36.txt\n",
        "! ./randomGenerator > input37.txt\n",
        "! ./randomGenerator > input38.txt\n",
        "! ./randomGenerator > input39.txt\n",
        "! ./randomGenerator > input40.txt"
      ],
      "metadata": {
        "id": "qSZTVdiBjvzq"
      },
      "execution_count": 190,
      "outputs": []
    },
    {
      "cell_type": "code",
      "source": [
        "! ./max_pairwise_product_superefficient < input20.txt\n",
        "! ./max_pairwise_product_superefficient < input21.txt\n",
        "! ./max_pairwise_product_superefficient < input22.txt\n",
        "! ./max_pairwise_product_superefficient < input23.txt\n",
        "! ./max_pairwise_product_superefficient < input24.txt\n",
        "! ./max_pairwise_product_superefficient < input25.txt\n",
        "! ./max_pairwise_product_superefficient < input26.txt\n",
        "! ./max_pairwise_product_superefficient < input27.txt\n",
        "! ./max_pairwise_product_superefficient < input28.txt\n",
        "! ./max_pairwise_product_superefficient < input29.txt\n",
        "! ./max_pairwise_product_superefficient < input30.txt\n",
        "! ./max_pairwise_product_superefficient < input31.txt\n",
        "! ./max_pairwise_product_superefficient < input32.txt\n",
        "! ./max_pairwise_product_superefficient < input33.txt\n",
        "! ./max_pairwise_product_superefficient < input34.txt\n",
        "! ./max_pairwise_product_superefficient < input35.txt\n",
        "! ./max_pairwise_product_superefficient < input36.txt\n",
        "! ./max_pairwise_product_superefficient < input37.txt\n",
        "! ./max_pairwise_product_superefficient < input38.txt\n",
        "! ./max_pairwise_product_superefficient < input39.txt\n",
        "! ./max_pairwise_product_superefficient < input30.txt\n"
      ],
      "metadata": {
        "colab": {
          "base_uri": "https://localhost:8080/"
        },
        "id": "cP3SzPtZnaxA",
        "outputId": "f38c5a6c-9fce-437e-a4b9-a64a45599dd7"
      },
      "execution_count": 191,
      "outputs": [
        {
          "output_type": "stream",
          "name": "stdout",
          "text": [
            "4304057751048000396\n",
            "Execution Time: 1\n",
            "3121157381268100302\n",
            "Execution Time: 1\n",
            "4513777140240882099\n",
            "Execution Time: 1\n",
            "3288022190258902257\n",
            "Execution Time: 1\n",
            "4292119685336115906\n",
            "Execution Time: 1\n",
            "3891381869064567800\n",
            "Execution Time: 1\n",
            "4080806303967422792\n",
            "Execution Time: 1\n",
            "4427375183095234766\n",
            "Execution Time: 1\n",
            "4599974944229052102\n",
            "Execution Time: 1\n",
            "4213991615513656913\n",
            "Execution Time: 1\n",
            "4072167732753089029\n",
            "Execution Time: 1\n",
            "3034002023913699720\n",
            "Execution Time: 1\n",
            "4319897361146971646\n",
            "Execution Time: 1\n",
            "4384952337417067680\n",
            "Execution Time: 1\n",
            "4073583679638069654\n",
            "Execution Time: 1\n",
            "4316187150303821380\n",
            "Execution Time: 1\n",
            "3427060760960858010\n",
            "Execution Time: 1\n",
            "4399986551862123992\n",
            "Execution Time: 1\n",
            "4551763160868636555\n",
            "Execution Time: 1\n",
            "4278423138672401272\n",
            "Execution Time: 1\n",
            "4072167732753089029\n",
            "Execution Time: 1\n"
          ]
        }
      ]
    },
    {
      "cell_type": "markdown",
      "metadata": {
        "id": "fEXj8GHJH5p1"
      },
      "source": [
        "Count executed instructions in code and verify with inputs 1,2 and 3"
      ]
    },
    {
      "cell_type": "code",
      "execution_count": 192,
      "metadata": {
        "id": "LF1DHjKXIAsF",
        "colab": {
          "base_uri": "https://localhost:8080/"
        },
        "outputId": "195c3d54-b816-4439-82a0-4747bf656c94"
      },
      "outputs": [
        {
          "output_type": "stream",
          "name": "stdout",
          "text": [
            "Writing max_pairwise_product_superefficient2.cpp\n"
          ]
        }
      ],
      "source": [
        "%%writefile max_pairwise_product_superefficient2.cpp\n",
        "#include <iostream>\n",
        "using namespace std;\n",
        "int main(){\n",
        "  int execints=0;\n",
        "  long max, secondMax, input, n;\n",
        "  cin>>n;\n",
        "  execints++;\n",
        "  cin>>max;\n",
        "  execints++;\n",
        "  cin>>input;\n",
        "  execints++;\n",
        "  if(input>max){\n",
        "    secondMax=max;\n",
        "    execints++;\n",
        "    max=input;\n",
        "    execints++;\n",
        "  }\n",
        "  else{\n",
        "    secondMax=input;\n",
        "    execints++;\n",
        "  }\n",
        "  for(int i=0; i<n-2;i++){\n",
        "    cin>>input;\n",
        "    execints++;\n",
        "    if(input>secondMax){\n",
        "      if(input>max){\n",
        "        secondMax=max;\n",
        "        execints++;\n",
        "        max=input;\n",
        "        execints++;\n",
        "      }\n",
        "      else{\n",
        "        secondMax=input;\n",
        "        execints++;\n",
        "      }\n",
        "    }\n",
        "\n",
        "  }\n",
        "  cout<<max*secondMax<<\"\\n\";\n",
        "  execints++;\n",
        "  cout<<execints<<\"\\n\";\n",
        "  return 0;\n",
        "}"
      ]
    },
    {
      "cell_type": "code",
      "source": [
        "%%writefile max_pairwise_product_superefficient2.cpp\n",
        "#include <iostream>\n",
        "using namespace std;\n",
        "int main(){\n",
        "  int execints=0;\n",
        "  long max, secondMax, input, n;\n",
        "  cin>>n;                      #1\n",
        "  cin>>max;                    #1\n",
        "  cin>>input;                  #1\n",
        "  if(input>max){\n",
        "    secondMax=max;\n",
        "    max=input;                 #2  upper bound\n",
        "  }\n",
        "  else{\n",
        "    secondMax=input;\n",
        "  }\n",
        "  for(int i=0; i<n-2;i++){\n",
        "    cin>>input;                #n-2\n",
        "    if(input>secondMax){\n",
        "      if(input>max){\n",
        "        secondMax=max;\n",
        "        max=input;             #2(n-2) upper bound\n",
        "      }\n",
        "      else{\n",
        "        secondMax=input;\n",
        "      }\n",
        "    }\n",
        "\n",
        "  }\n",
        "  cout<<max*secondMax<<\"\\n\";   #1\n",
        "  return 0;\n",
        "}"
      ],
      "metadata": {
        "id": "KjwzsSSh6I_U",
        "colab": {
          "base_uri": "https://localhost:8080/"
        },
        "outputId": "06e77e31-26a2-4222-ea7b-baedc15647d4"
      },
      "execution_count": 193,
      "outputs": [
        {
          "output_type": "stream",
          "name": "stdout",
          "text": [
            "Overwriting max_pairwise_product_superefficient2.cpp\n"
          ]
        }
      ]
    },
    {
      "cell_type": "code",
      "source": [
        "!g++ -o max_pairwise_product_superefficient2 max_pairwise_product_superefficient2.cpp\n",
        "!chmod +x max_pairwise_product_superefficient2.cpp\n",
        "!ls -l max_pairwise_product_superefficient2.cpp max_pairwise_product_superefficient2"
      ],
      "metadata": {
        "colab": {
          "base_uri": "https://localhost:8080/"
        },
        "id": "PslVi_sRqPnZ",
        "outputId": "5b606910-1eb1-4176-f6e0-cb1148471d7c"
      },
      "execution_count": 194,
      "outputs": [
        {
          "output_type": "stream",
          "name": "stdout",
          "text": [
            "\u001b[01m\u001b[Kmax_pairwise_product_superefficient2.cpp:6:32:\u001b[m\u001b[K \u001b[01;31m\u001b[Kerror: \u001b[m\u001b[Kstray ‘\u001b[01m\u001b[K#\u001b[m\u001b[K’ in program\n",
            "    6 |   cin>>n;                      \u001b[01;31m\u001b[K#\u001b[m\u001b[K1\n",
            "      |                                \u001b[01;31m\u001b[K^\u001b[m\u001b[K\n",
            "\u001b[01m\u001b[Kmax_pairwise_product_superefficient2.cpp:7:32:\u001b[m\u001b[K \u001b[01;31m\u001b[Kerror: \u001b[m\u001b[Kstray ‘\u001b[01m\u001b[K#\u001b[m\u001b[K’ in program\n",
            "    7 |   cin>>max;                    \u001b[01;31m\u001b[K#\u001b[m\u001b[K1\n",
            "      |                                \u001b[01;31m\u001b[K^\u001b[m\u001b[K\n",
            "\u001b[01m\u001b[Kmax_pairwise_product_superefficient2.cpp:8:32:\u001b[m\u001b[K \u001b[01;31m\u001b[Kerror: \u001b[m\u001b[Kstray ‘\u001b[01m\u001b[K#\u001b[m\u001b[K’ in program\n",
            "    8 |   cin>>input;                  \u001b[01;31m\u001b[K#\u001b[m\u001b[K1\n",
            "      |                                \u001b[01;31m\u001b[K^\u001b[m\u001b[K\n",
            "\u001b[01m\u001b[Kmax_pairwise_product_superefficient2.cpp:11:32:\u001b[m\u001b[K \u001b[01;31m\u001b[Kerror: \u001b[m\u001b[Kstray ‘\u001b[01m\u001b[K#\u001b[m\u001b[K’ in program\n",
            "   11 |     max=input;                 \u001b[01;31m\u001b[K#\u001b[m\u001b[K2  upper bound\n",
            "      |                                \u001b[01;31m\u001b[K^\u001b[m\u001b[K\n",
            "\u001b[01m\u001b[Kmax_pairwise_product_superefficient2.cpp:17:32:\u001b[m\u001b[K \u001b[01;31m\u001b[Kerror: \u001b[m\u001b[Kstray ‘\u001b[01m\u001b[K#\u001b[m\u001b[K’ in program\n",
            "   17 |     cin>>input;                \u001b[01;31m\u001b[K#\u001b[m\u001b[Kn-2\n",
            "      |                                \u001b[01;31m\u001b[K^\u001b[m\u001b[K\n",
            "\u001b[01m\u001b[Kmax_pairwise_product_superefficient2.cpp:21:32:\u001b[m\u001b[K \u001b[01;31m\u001b[Kerror: \u001b[m\u001b[Kstray ‘\u001b[01m\u001b[K#\u001b[m\u001b[K’ in program\n",
            "   21 |         max=input;             \u001b[01;31m\u001b[K#\u001b[m\u001b[K2(n-2) upper bound\n",
            "      |                                \u001b[01;31m\u001b[K^\u001b[m\u001b[K\n",
            "\u001b[01m\u001b[Kmax_pairwise_product_superefficient2.cpp:29:32:\u001b[m\u001b[K \u001b[01;31m\u001b[Kerror: \u001b[m\u001b[Kstray ‘\u001b[01m\u001b[K#\u001b[m\u001b[K’ in program\n",
            "   29 |   cout<<max*secondMax<<\"\\n\";   \u001b[01;31m\u001b[K#\u001b[m\u001b[K1\n",
            "      |                                \u001b[01;31m\u001b[K^\u001b[m\u001b[K\n",
            "\u001b[01m\u001b[Kmax_pairwise_product_superefficient2.cpp:\u001b[m\u001b[K In function ‘\u001b[01m\u001b[Kint main()\u001b[m\u001b[K’:\n",
            "\u001b[01m\u001b[Kmax_pairwise_product_superefficient2.cpp:6:34:\u001b[m\u001b[K \u001b[01;31m\u001b[Kerror: \u001b[m\u001b[Kexpected ‘\u001b[01m\u001b[K;\u001b[m\u001b[K’ before ‘\u001b[01m\u001b[Kcin\u001b[m\u001b[K’\n",
            "    6 |   cin>>n;                      #1\n",
            "      |                                  \u001b[01;31m\u001b[K^\u001b[m\u001b[K\n",
            "      |                                  \u001b[32m\u001b[K;\u001b[m\u001b[K\n",
            "    7 |   \u001b[32m\u001b[Kcin\u001b[m\u001b[K>>max;                    #1\n",
            "      |   \u001b[32m\u001b[K~~~\u001b[m\u001b[K                             \n",
            "\u001b[01m\u001b[Kmax_pairwise_product_superefficient2.cpp:7:34:\u001b[m\u001b[K \u001b[01;31m\u001b[Kerror: \u001b[m\u001b[Kexpected ‘\u001b[01m\u001b[K;\u001b[m\u001b[K’ before ‘\u001b[01m\u001b[Kcin\u001b[m\u001b[K’\n",
            "    7 |   cin>>max;                    #1\n",
            "      |                                  \u001b[01;31m\u001b[K^\u001b[m\u001b[K\n",
            "      |                                  \u001b[32m\u001b[K;\u001b[m\u001b[K\n",
            "    8 |   \u001b[32m\u001b[Kcin\u001b[m\u001b[K>>input;                  #1\n",
            "      |   \u001b[32m\u001b[K~~~\u001b[m\u001b[K                             \n",
            "\u001b[01m\u001b[Kmax_pairwise_product_superefficient2.cpp:8:34:\u001b[m\u001b[K \u001b[01;31m\u001b[Kerror: \u001b[m\u001b[Kexpected ‘\u001b[01m\u001b[K;\u001b[m\u001b[K’ before ‘\u001b[01m\u001b[Kif\u001b[m\u001b[K’\n",
            "    8 |   cin>>input;                  #1\n",
            "      |                                  \u001b[01;31m\u001b[K^\u001b[m\u001b[K\n",
            "      |                                  \u001b[32m\u001b[K;\u001b[m\u001b[K\n",
            "    9 |   \u001b[32m\u001b[Kif\u001b[m\u001b[K(input>max){\n",
            "      |   \u001b[32m\u001b[K~~\u001b[m\u001b[K                              \n",
            "\u001b[01m\u001b[Kmax_pairwise_product_superefficient2.cpp:13:3:\u001b[m\u001b[K \u001b[01;31m\u001b[Kerror: \u001b[m\u001b[K‘\u001b[01m\u001b[Kelse\u001b[m\u001b[K’ without a previous ‘\u001b[01m\u001b[Kif\u001b[m\u001b[K’\n",
            "   13 |   \u001b[01;31m\u001b[Kelse\u001b[m\u001b[K{\n",
            "      |   \u001b[01;31m\u001b[K^~~~\u001b[m\u001b[K\n",
            "\u001b[01m\u001b[Kmax_pairwise_product_superefficient2.cpp:17:36:\u001b[m\u001b[K \u001b[01;31m\u001b[Kerror: \u001b[m\u001b[Kexpected ‘\u001b[01m\u001b[K;\u001b[m\u001b[K’ before ‘\u001b[01m\u001b[Kif\u001b[m\u001b[K’\n",
            "   17 |     cin>>input;                #n-2\n",
            "      |                                    \u001b[01;31m\u001b[K^\u001b[m\u001b[K\n",
            "      |                                    \u001b[32m\u001b[K;\u001b[m\u001b[K\n",
            "   18 |     \u001b[32m\u001b[Kif\u001b[m\u001b[K(input>secondMax){\n",
            "      |     \u001b[32m\u001b[K~~\u001b[m\u001b[K                              \n",
            "\u001b[01m\u001b[Kmax_pairwise_product_superefficient2.cpp:29:34:\u001b[m\u001b[K \u001b[01;31m\u001b[Kerror: \u001b[m\u001b[Kexpected ‘\u001b[01m\u001b[K;\u001b[m\u001b[K’ before ‘\u001b[01m\u001b[Kreturn\u001b[m\u001b[K’\n",
            "   29 |   cout<<max*secondMax<<\"\\n\";   #1\n",
            "      |                                  \u001b[01;31m\u001b[K^\u001b[m\u001b[K\n",
            "      |                                  \u001b[32m\u001b[K;\u001b[m\u001b[K\n",
            "   30 |   \u001b[32m\u001b[Kreturn\u001b[m\u001b[K 0;\n",
            "      |   \u001b[32m\u001b[K~~~~~~\u001b[m\u001b[K                          \n",
            "ls: cannot access 'max_pairwise_product_superefficient2': No such file or directory\n",
            "-rwxr-xr-x 1 root root 621 Mar 13 13:37 max_pairwise_product_superefficient2.cpp\n"
          ]
        }
      ]
    },
    {
      "cell_type": "code",
      "source": [
        "! ./max_pairwise_product_superefficient2 < input1.txt"
      ],
      "metadata": {
        "colab": {
          "base_uri": "https://localhost:8080/"
        },
        "id": "rfYUNfU-rRNI",
        "outputId": "94be50ea-6e22-4ee0-920a-c60b49c519eb"
      },
      "execution_count": 195,
      "outputs": [
        {
          "output_type": "stream",
          "name": "stdout",
          "text": [
            "/bin/bash: line 1: ./max_pairwise_product_superefficient2: No such file or directory\n"
          ]
        }
      ]
    },
    {
      "cell_type": "code",
      "source": [
        "! ./max_pairwise_product_superefficient2 < input2.txt"
      ],
      "metadata": {
        "colab": {
          "base_uri": "https://localhost:8080/"
        },
        "id": "E4PuucU7sduo",
        "outputId": "1eb84d64-6d4e-40ca-f7e4-ce434af515dc"
      },
      "execution_count": 196,
      "outputs": [
        {
          "output_type": "stream",
          "name": "stdout",
          "text": [
            "/bin/bash: line 1: ./max_pairwise_product_superefficient2: No such file or directory\n"
          ]
        }
      ]
    },
    {
      "cell_type": "code",
      "source": [
        "! ./max_pairwise_product_superefficient2 < input3.txt"
      ],
      "metadata": {
        "id": "HpzPrCh_siOQ",
        "outputId": "f3d9a0e2-41e8-4b3b-b2bf-00fc68a9d30f",
        "colab": {
          "base_uri": "https://localhost:8080/"
        }
      },
      "execution_count": 197,
      "outputs": [
        {
          "output_type": "stream",
          "name": "stdout",
          "text": [
            "/bin/bash: line 1: ./max_pairwise_product_superefficient2: No such file or directory\n"
          ]
        }
      ]
    },
    {
      "cell_type": "markdown",
      "source": [
        "##The total number of instructions (upper bound) is:\n",
        "$$ f(n)=3n $$\n",
        "So the algorithm complexity is O(n)"
      ],
      "metadata": {
        "id": "3tS7SI7M7IkC"
      }
    },
    {
      "cell_type": "markdown",
      "source": [
        "##For input1.txt n=10, f(n)=30, and our code counts exactly 30 instructions in the code, in input2.txt for n=10, our code counts 13 instructions which is within our stimates."
      ],
      "metadata": {
        "id": "N8udCMU08tm-"
      }
    },
    {
      "cell_type": "markdown",
      "metadata": {
        "id": "yae7sSm2IG9U"
      },
      "source": [
        "Calculate estimated time by instruction and number of instructions by second"
      ]
    },
    {
      "cell_type": "code",
      "source": [
        "%%writefile estimateInput.cpp\n",
        "#include <iostream>\n",
        "using namespace std;\n",
        "int main (){\n",
        "  cout << 11000<<\"\\n\";\n",
        "  for(int i=0; i<11000;i++){\n",
        "      cout <<i<<\" \";\n",
        "  }\n",
        "}"
      ],
      "metadata": {
        "colab": {
          "base_uri": "https://localhost:8080/"
        },
        "id": "N_-jYsJ1_8Vg",
        "outputId": "7e9f938d-2f3c-457a-f13e-656b2278a9b9"
      },
      "execution_count": 198,
      "outputs": [
        {
          "output_type": "stream",
          "name": "stdout",
          "text": [
            "Writing estimateInput.cpp\n"
          ]
        }
      ]
    },
    {
      "cell_type": "code",
      "source": [
        "!g++ -o estimateInput estimateInput.cpp\n",
        "!chmod +x estimateInput.cpp\n",
        "!ls -l estimateInput.cpp estimateInput"
      ],
      "metadata": {
        "colab": {
          "base_uri": "https://localhost:8080/"
        },
        "id": "7Ax1lxV-IhVY",
        "outputId": "c47c8c00-50fb-4ca9-c327-6ba7d2d7cf06"
      },
      "execution_count": 199,
      "outputs": [
        {
          "output_type": "stream",
          "name": "stdout",
          "text": [
            "-rwxr-xr-x 1 root root 16432 Mar 13 13:37 estimateInput\n",
            "-rwxr-xr-x 1 root root   133 Mar 13 13:37 estimateInput.cpp\n"
          ]
        }
      ]
    },
    {
      "cell_type": "code",
      "execution_count": 200,
      "metadata": {
        "id": "suouY7BYL2dz"
      },
      "outputs": [],
      "source": [
        "new_file=open(f\"results.txt\",\"w\")\n",
        "new_file=open(f\"superefficientInput.txt\",\"w\")"
      ]
    },
    {
      "cell_type": "code",
      "source": [
        "! ./estimateInput > superefficientInput.txt"
      ],
      "metadata": {
        "id": "sCV06ZjdJBBx"
      },
      "execution_count": 201,
      "outputs": []
    },
    {
      "cell_type": "code",
      "source": [
        "!time ./max_pairwise_product_superefficient2 < superefficientInput.txt"
      ],
      "metadata": {
        "colab": {
          "base_uri": "https://localhost:8080/"
        },
        "id": "ziX05F2W_AGS",
        "outputId": "4c847bb5-af3b-4f54-9e3b-25f1bdfa7dbf"
      },
      "execution_count": 202,
      "outputs": [
        {
          "output_type": "stream",
          "name": "stdout",
          "text": [
            "/bin/bash: line 1: ./max_pairwise_product_superefficient2: No such file or directory\n",
            "\n",
            "real\t0m0.001s\n",
            "user\t0m0.000s\n",
            "sys\t0m0.000s\n"
          ]
        }
      ]
    },
    {
      "cell_type": "code",
      "source": [
        "33000/0.001"
      ],
      "metadata": {
        "colab": {
          "base_uri": "https://localhost:8080/"
        },
        "id": "vdeyqwoL_o3G",
        "outputId": "d791b51a-41ea-4170-ac25-062853d89506"
      },
      "execution_count": 203,
      "outputs": [
        {
          "output_type": "execute_result",
          "data": {
            "text/plain": [
              "33000000.0"
            ]
          },
          "metadata": {},
          "execution_count": 203
        }
      ]
    },
    {
      "cell_type": "markdown",
      "metadata": {
        "id": "sy33CNNfPxcE"
      },
      "source": [
        "### Super efficient solution in Python\n",
        "\n",
        "Whitout storing the list in memory and whitout calling a function, add in each line a coment with the number of intstrcution that are executed in that line"
      ]
    },
    {
      "cell_type": "code",
      "execution_count": 204,
      "metadata": {
        "id": "_mOjJwKrPxcJ",
        "colab": {
          "base_uri": "https://localhost:8080/"
        },
        "outputId": "595a13bc-6c98-44e0-9115-7bcb691b7a02"
      },
      "outputs": [
        {
          "output_type": "stream",
          "name": "stdout",
          "text": [
            "Writing max_pairwise_product_sup.py\n"
          ]
        }
      ],
      "source": [
        "%%writefile max_pairwise_product_sup.py\n",
        "n = int(input())  # 1\n",
        "input_numbers = map(int, input().split())  # n\n",
        "max1 = float('-inf')  # 1\n",
        "max2 = float('-inf')  # 1\n",
        "\n",
        "for num in input_numbers:  # n\n",
        "  if num > max1:  # n\n",
        "    max2 = max1  # n\n",
        "    max1 = num  # n\n",
        "  elif num > max2:  # n\n",
        "    max2 = num  # n\n",
        "#prueba\n",
        "#print(max1,max2)\n",
        "result = max1 * max2  # 1\n",
        "\n",
        "print(result)  # 1\n",
        "\n",
        "#total: 7n+5"
      ]
    },
    {
      "cell_type": "markdown",
      "metadata": {
        "id": "K08Eow0hPxcJ"
      },
      "source": [
        "Test with inputs 1 and 2\n",
        "\n",
        "\n"
      ]
    },
    {
      "cell_type": "code",
      "source": [
        "!chmod +x max_pairwise_product_sup.py\n",
        "!ls -l max_pairwise_product_sup.py"
      ],
      "metadata": {
        "id": "g0a0RagfVNpr",
        "colab": {
          "base_uri": "https://localhost:8080/"
        },
        "outputId": "bbed9d06-9b26-4775-84fe-31ea74b521d3"
      },
      "execution_count": 205,
      "outputs": [
        {
          "output_type": "stream",
          "name": "stdout",
          "text": [
            "-rwxr-xr-x 1 root root 346 Mar 13 13:37 max_pairwise_product_sup.py\n"
          ]
        }
      ]
    },
    {
      "cell_type": "code",
      "execution_count": 206,
      "metadata": {
        "id": "1_mUee2cPxcJ",
        "colab": {
          "base_uri": "https://localhost:8080/"
        },
        "outputId": "d38a0bb1-9601-4a64-a340-7cd9a164f49a"
      },
      "outputs": [
        {
          "output_type": "stream",
          "name": "stdout",
          "text": [
            "0\n"
          ]
        }
      ],
      "source": [
        "!python ./max_pairwise_product_sup.py < input0.txt"
      ]
    },
    {
      "cell_type": "code",
      "source": [
        "!python ./max_pairwise_product_sup.py < input1.txt"
      ],
      "metadata": {
        "colab": {
          "base_uri": "https://localhost:8080/"
        },
        "id": "-QzEocyqXqBF",
        "outputId": "55d775ad-0034-45a6-a8ce-810eae2eb456"
      },
      "execution_count": 207,
      "outputs": [
        {
          "output_type": "stream",
          "name": "stdout",
          "text": [
            "90\n"
          ]
        }
      ]
    },
    {
      "cell_type": "code",
      "source": [
        "!python ./max_pairwise_product_sup.py < input2.txt"
      ],
      "metadata": {
        "id": "rCbJS4iWVOWM",
        "colab": {
          "base_uri": "https://localhost:8080/"
        },
        "outputId": "163c0294-2bc7-4e8b-f332-5bae82bd4f56"
      },
      "execution_count": 208,
      "outputs": [
        {
          "output_type": "stream",
          "name": "stdout",
          "text": [
            "90\n"
          ]
        }
      ]
    },
    {
      "cell_type": "markdown",
      "metadata": {
        "id": "CE5DB3CmPxcJ"
      },
      "source": [
        "Test and time it with input 3"
      ]
    },
    {
      "cell_type": "code",
      "execution_count": 209,
      "metadata": {
        "id": "lyLhFOoePxcJ",
        "colab": {
          "base_uri": "https://localhost:8080/"
        },
        "outputId": "2fff624a-2904-46a6-9f5f-34d95b15ba88"
      },
      "outputs": [
        {
          "output_type": "stream",
          "name": "stdout",
          "text": [
            "122071000\n",
            "\n",
            "real\t0m0.030s\n",
            "user\t0m0.021s\n",
            "sys\t0m0.008s\n"
          ]
        }
      ],
      "source": [
        "!time python ./max_pairwise_product_sup.py < input3.txt"
      ]
    },
    {
      "cell_type": "markdown",
      "metadata": {
        "id": "HZEI236lPxcK"
      },
      "source": [
        "20 stress tests"
      ]
    },
    {
      "cell_type": "code",
      "execution_count": 210,
      "metadata": {
        "id": "_LoV-p4zPxcK",
        "colab": {
          "base_uri": "https://localhost:8080/"
        },
        "outputId": "d6901225-1745-45a7-d43e-03f08f17a8aa"
      },
      "outputs": [
        {
          "output_type": "stream",
          "name": "stdout",
          "text": [
            "90\n",
            "90\n",
            "122071000\n",
            "32301629178\n",
            "5251420\n",
            "129803850\n",
            "71679153\n",
            "1568792156\n",
            "722650220\n",
            "1178413976\n",
            "9966320560\n",
            "9849452690\n",
            "9949813272\n",
            "9985401485\n",
            "9982301352\n",
            "9913140950\n",
            "9995600259\n",
            "9986303432\n",
            "4304057751048000396\n"
          ]
        }
      ],
      "source": [
        "!python ./max_pairwise_product_sup.py < input1.txt\n",
        "!python ./max_pairwise_product_sup.py < input2.txt\n",
        "!python ./max_pairwise_product_sup.py < input3.txt\n",
        "!python ./max_pairwise_product_sup.py < input4.txt\n",
        "!python ./max_pairwise_product_sup.py < input5.txt\n",
        "!python ./max_pairwise_product_sup.py < input6.txt\n",
        "!python ./max_pairwise_product_sup.py < input7.txt\n",
        "!python ./max_pairwise_product_sup.py < input8.txt\n",
        "!python ./max_pairwise_product_sup.py < input9.txt\n",
        "!python ./max_pairwise_product_sup.py < input10.txt\n",
        "!python ./max_pairwise_product_sup.py < input11.txt\n",
        "!python ./max_pairwise_product_sup.py < input12.txt\n",
        "!python ./max_pairwise_product_sup.py < input13.txt\n",
        "!python ./max_pairwise_product_sup.py < input15.txt\n",
        "!python ./max_pairwise_product_sup.py < input16.txt\n",
        "!python ./max_pairwise_product_sup.py < input17.txt\n",
        "!python ./max_pairwise_product_sup.py < input18.txt\n",
        "!python ./max_pairwise_product_sup.py < input19.txt\n",
        "!python ./max_pairwise_product_sup.py < input20.txt"
      ]
    },
    {
      "cell_type": "markdown",
      "metadata": {
        "id": "IRVdP3iuPxcK"
      },
      "source": [
        "Count executed instructions in code and verify with inputs 1,2 and 3"
      ]
    },
    {
      "cell_type": "code",
      "execution_count": 211,
      "metadata": {
        "id": "RghJOg78PxcK",
        "colab": {
          "base_uri": "https://localhost:8080/"
        },
        "outputId": "f5affa71-8b1b-407f-e827-db33049f913c"
      },
      "outputs": [
        {
          "output_type": "stream",
          "name": "stdout",
          "text": [
            "Writing max_pairwise_product_sup2.py\n"
          ]
        }
      ],
      "source": [
        "%%writefile max_pairwise_product_sup2.py\n",
        "execints = 0\n",
        "\n",
        "n = int(input())  # 1\n",
        "execints += 1\n",
        "input_numbers = map(int, input().split())  # n\n",
        "execints += 1\n",
        "max1 = float('-inf')  # 1\n",
        "execints += 1\n",
        "max2 = float('-inf')  # 1\n",
        "execints += 1\n",
        "\n",
        "for num in input_numbers:  # n\n",
        "    execints += 1\n",
        "    if num > max1:  # n\n",
        "        execints += 1\n",
        "        max2 = max1  # n\n",
        "        execints += 1\n",
        "        max1 = num  # n\n",
        "        execints += 1\n",
        "    elif num > max2:  # n\n",
        "        execints += 1\n",
        "        max2 = num  # n\n",
        "        execints += 1\n",
        "\n",
        "result = max1 * max2  # 1\n",
        "execints += 1\n",
        "\n",
        "print(result)  # 1\n",
        "execints += 1\n",
        "\n",
        "print(execints)\n"
      ]
    },
    {
      "cell_type": "code",
      "source": [
        "!chmod +x max_pairwise_product_sup2.py\n",
        "!ls -l max_pairwise_product_sup2.py"
      ],
      "metadata": {
        "colab": {
          "base_uri": "https://localhost:8080/"
        },
        "id": "iMoRA-w1bn9O",
        "outputId": "079fcad2-e257-456f-b10a-e4cb08661aec"
      },
      "execution_count": 212,
      "outputs": [
        {
          "output_type": "stream",
          "name": "stdout",
          "text": [
            "-rwxr-xr-x 1 root root 566 Mar 13 13:37 max_pairwise_product_sup2.py\n"
          ]
        }
      ]
    },
    {
      "cell_type": "code",
      "source": [
        "n=10\n",
        "print(7*n+5)"
      ],
      "metadata": {
        "colab": {
          "base_uri": "https://localhost:8080/"
        },
        "id": "hN2nQ1cSbqge",
        "outputId": "ae0cac95-2e8c-43e2-dc42-f99bea936638"
      },
      "execution_count": 213,
      "outputs": [
        {
          "output_type": "stream",
          "name": "stdout",
          "text": [
            "75\n"
          ]
        }
      ]
    },
    {
      "cell_type": "code",
      "source": [
        "!python ./max_pairwise_product_sup2.py < input1.txt"
      ],
      "metadata": {
        "colab": {
          "base_uri": "https://localhost:8080/"
        },
        "id": "ZnzF2qHGboxt",
        "outputId": "49ba2289-4882-4cc6-bf6e-358c7c164bcd"
      },
      "execution_count": 214,
      "outputs": [
        {
          "output_type": "stream",
          "name": "stdout",
          "text": [
            "90\n",
            "46\n"
          ]
        }
      ]
    },
    {
      "cell_type": "code",
      "source": [
        "!python ./max_pairwise_product_sup2.py < input2.txt"
      ],
      "metadata": {
        "colab": {
          "base_uri": "https://localhost:8080/"
        },
        "id": "qES6Fsh3bomR",
        "outputId": "002d9359-8036-4433-9b8f-358145a10f79"
      },
      "execution_count": 215,
      "outputs": [
        {
          "output_type": "stream",
          "name": "stdout",
          "text": [
            "90\n",
            "21\n"
          ]
        }
      ]
    },
    {
      "cell_type": "code",
      "source": [
        "!python ./max_pairwise_product_sup2.py < input3.txt"
      ],
      "metadata": {
        "colab": {
          "base_uri": "https://localhost:8080/"
        },
        "id": "rQ7tSBDAboal",
        "outputId": "a0c280c1-3719-4d04-dea9-6c13165caf7a"
      },
      "execution_count": 216,
      "outputs": [
        {
          "output_type": "stream",
          "name": "stdout",
          "text": [
            "122071000\n",
            "21\n"
          ]
        }
      ]
    },
    {
      "cell_type": "markdown",
      "metadata": {
        "id": "R6qeUjPaPxcK"
      },
      "source": [
        "Calculate estimated time by instruction and number of instructions by second"
      ]
    },
    {
      "cell_type": "code",
      "source": [
        "n = 200000\n",
        "numbers = \" \".join(map(str, range(1, 200001)))\n",
        "with open('input21.txt', 'w') as file:\n",
        "    file.write(f\"{n}\\n{numbers}\\n\")"
      ],
      "metadata": {
        "id": "vtmEZm5BWJ89"
      },
      "execution_count": 217,
      "outputs": []
    },
    {
      "cell_type": "code",
      "execution_count": 218,
      "metadata": {
        "id": "iLdXYvn3PxcK",
        "colab": {
          "base_uri": "https://localhost:8080/"
        },
        "outputId": "e3f85456-7be6-473d-8b13-fedc0c536bf4"
      },
      "outputs": [
        {
          "output_type": "stream",
          "name": "stdout",
          "text": [
            "39999800000\n",
            "800006\n",
            "\n",
            "real\t0m0.108s\n",
            "user\t0m0.089s\n",
            "sys\t0m0.016s\n"
          ]
        }
      ],
      "source": [
        "!time python ./max_pairwise_product_sup2.py < input21.txt"
      ]
    },
    {
      "cell_type": "code",
      "source": [
        "n=200000\n",
        "print(7*n+5)"
      ],
      "metadata": {
        "colab": {
          "base_uri": "https://localhost:8080/"
        },
        "id": "qMgDs1svcSiv",
        "outputId": "369ac5de-2884-4baa-c59c-3b0740041698"
      },
      "execution_count": 219,
      "outputs": [
        {
          "output_type": "stream",
          "name": "stdout",
          "text": [
            "1400005\n"
          ]
        }
      ]
    },
    {
      "cell_type": "code",
      "source": [
        "# Estimated time by instruction\n",
        "0.190/800006"
      ],
      "metadata": {
        "colab": {
          "base_uri": "https://localhost:8080/"
        },
        "id": "T0YcEk42cSa2",
        "outputId": "2f81e344-f61e-411a-a9c9-cbfabf817b36"
      },
      "execution_count": 220,
      "outputs": [
        {
          "output_type": "execute_result",
          "data": {
            "text/plain": [
              "2.3749821876335927e-07"
            ]
          },
          "metadata": {},
          "execution_count": 220
        }
      ]
    },
    {
      "cell_type": "code",
      "source": [
        "# Estimated number of instructions by second\n",
        "800006/0.190"
      ],
      "metadata": {
        "colab": {
          "base_uri": "https://localhost:8080/"
        },
        "id": "r6TR2p0EcSP-",
        "outputId": "1f143ae6-462d-420a-9601-a2b9ef3d9982"
      },
      "execution_count": 221,
      "outputs": [
        {
          "output_type": "execute_result",
          "data": {
            "text/plain": [
              "4210557.894736842"
            ]
          },
          "metadata": {},
          "execution_count": 221
        }
      ]
    },
    {
      "cell_type": "markdown",
      "source": [
        "### Estimate and verify the maximun n that can be solved in 1 second"
      ],
      "metadata": {
        "id": "MEZLERuvoUYa"
      }
    },
    {
      "cell_type": "markdown",
      "source": [
        "$$(7n+5) \\times 2.37*10^{-7} s = 1 s$$\n",
        "\n",
        "$$ n \\approx 6×10^5 $$"
      ],
      "metadata": {
        "id": "z914FoDsoUYb"
      }
    },
    {
      "cell_type": "markdown",
      "source": [
        "*T*(N)=(7n+5) is not the actual function of the code, given that the execution time is greater than 1 second with the given n, the value of n that results in an execution time of 1 second is: $$ \\approx 2*10 ^6$$"
      ],
      "metadata": {
        "id": "8LpvOq-NnEvy"
      }
    },
    {
      "cell_type": "code",
      "source": [
        "print(2000000*(2000000-1))"
      ],
      "metadata": {
        "colab": {
          "base_uri": "https://localhost:8080/"
        },
        "outputId": "90b9fccc-41ff-4ac6-91bb-bcce659c0702",
        "id": "jTuV4Ev6oUYb"
      },
      "execution_count": 222,
      "outputs": [
        {
          "output_type": "stream",
          "name": "stdout",
          "text": [
            "3999998000000\n"
          ]
        }
      ]
    },
    {
      "cell_type": "code",
      "source": [
        "n = (2000000)\n",
        "numbers = \" \".join(map(str, range(1, n+1)))\n",
        "with open('input22.txt', 'w') as file:\n",
        "    file.write(f\"{n}\\n{numbers}\\n\")"
      ],
      "metadata": {
        "id": "T13TgfAimATz"
      },
      "execution_count": 223,
      "outputs": []
    },
    {
      "cell_type": "code",
      "source": [
        "!time python ./max_pairwise_product_sup.py < input22.txt"
      ],
      "metadata": {
        "colab": {
          "base_uri": "https://localhost:8080/"
        },
        "id": "8hpcZxXlmGq8",
        "outputId": "0357312d-b8f2-45d0-e7e4-853ce81e19dc"
      },
      "execution_count": 224,
      "outputs": [
        {
          "output_type": "stream",
          "name": "stdout",
          "text": [
            "3999998000000\n",
            "\n",
            "real\t0m0.435s\n",
            "user\t0m0.346s\n",
            "sys\t0m0.080s\n"
          ]
        }
      ]
    },
    {
      "cell_type": "markdown",
      "source": [
        "## Perform 100 randomized automated tests in C++ and Python with a porgram  compares the answers,for the same 100 random input instances, of the super efficient solution $(T(n) < 10 n = O(n))$ against the sorting solution  $(T(n)  = O(n \\lg{n}))$,  if the answers are not the same stops and displays \"Error\" listing  the input and the two answers; if the 100 tests are completed without stoping displays \"Pass\"."
      ],
      "metadata": {
        "id": "4hHRQMXzW6oR"
      }
    },
    {
      "cell_type": "markdown",
      "source": [
        "Random Test for the super efficient solutions python and c++:"
      ],
      "metadata": {
        "id": "08QTBXO5soAf"
      }
    },
    {
      "cell_type": "code",
      "source": [
        "import random\n",
        "import math\n",
        "\n",
        "# Number of stress tests\n",
        "num_tests = 100\n",
        "\n",
        "for test_number in range(1, 101):\n",
        "    n = random.randint(2, 100000)\n",
        "    # Generating random values\n",
        "    numbers = [random.randint(1, 99999) for _ in range(n)]\n",
        "\n",
        "    #Writing the input in a file\n",
        "    with open(f\"inputltest{test_number}.txt\", \"w\") as file:\n",
        "        file.write(f\"{n}\\n\")\n",
        "        file.write(\" \".join(map(str, numbers)))\n",
        "\n",
        "    print(f\"Test {test_number}: N={n}\")"
      ],
      "metadata": {
        "colab": {
          "base_uri": "https://localhost:8080/"
        },
        "id": "KfjZWBO2iqK0",
        "outputId": "f31d2fa9-d2fc-4e4a-c1f7-1b5a08bda415"
      },
      "execution_count": 225,
      "outputs": [
        {
          "output_type": "stream",
          "name": "stdout",
          "text": [
            "Test 1: N=75081\n",
            "Test 2: N=45970\n",
            "Test 3: N=73901\n",
            "Test 4: N=72298\n",
            "Test 5: N=70179\n",
            "Test 6: N=74204\n",
            "Test 7: N=5958\n",
            "Test 8: N=15006\n",
            "Test 9: N=69834\n",
            "Test 10: N=24082\n",
            "Test 11: N=61794\n",
            "Test 12: N=94307\n",
            "Test 13: N=13345\n",
            "Test 14: N=57731\n",
            "Test 15: N=31646\n",
            "Test 16: N=83841\n",
            "Test 17: N=2399\n",
            "Test 18: N=7760\n",
            "Test 19: N=95202\n",
            "Test 20: N=27400\n",
            "Test 21: N=51774\n",
            "Test 22: N=88758\n",
            "Test 23: N=63881\n",
            "Test 24: N=29859\n",
            "Test 25: N=80593\n",
            "Test 26: N=41029\n",
            "Test 27: N=68339\n",
            "Test 28: N=41860\n",
            "Test 29: N=41050\n",
            "Test 30: N=91343\n",
            "Test 31: N=96171\n",
            "Test 32: N=24312\n",
            "Test 33: N=24038\n",
            "Test 34: N=64621\n",
            "Test 35: N=73771\n",
            "Test 36: N=58410\n",
            "Test 37: N=31003\n",
            "Test 38: N=13824\n",
            "Test 39: N=29718\n",
            "Test 40: N=21364\n",
            "Test 41: N=89796\n",
            "Test 42: N=5786\n",
            "Test 43: N=60719\n",
            "Test 44: N=28004\n",
            "Test 45: N=9991\n",
            "Test 46: N=55532\n",
            "Test 47: N=88351\n",
            "Test 48: N=88372\n",
            "Test 49: N=85400\n",
            "Test 50: N=78315\n",
            "Test 51: N=76250\n",
            "Test 52: N=69448\n",
            "Test 53: N=44827\n",
            "Test 54: N=17432\n",
            "Test 55: N=17781\n",
            "Test 56: N=39402\n",
            "Test 57: N=13488\n",
            "Test 58: N=89845\n",
            "Test 59: N=18415\n",
            "Test 60: N=15084\n",
            "Test 61: N=12257\n",
            "Test 62: N=27418\n",
            "Test 63: N=89635\n",
            "Test 64: N=66970\n",
            "Test 65: N=71557\n",
            "Test 66: N=93697\n",
            "Test 67: N=52815\n",
            "Test 68: N=14805\n",
            "Test 69: N=14535\n",
            "Test 70: N=6494\n",
            "Test 71: N=40046\n",
            "Test 72: N=68230\n",
            "Test 73: N=81179\n",
            "Test 74: N=43111\n",
            "Test 75: N=24628\n",
            "Test 76: N=29030\n",
            "Test 77: N=77010\n",
            "Test 78: N=1028\n",
            "Test 79: N=97014\n",
            "Test 80: N=4835\n",
            "Test 81: N=61000\n",
            "Test 82: N=42208\n",
            "Test 83: N=89502\n",
            "Test 84: N=764\n",
            "Test 85: N=63730\n",
            "Test 86: N=79763\n",
            "Test 87: N=96628\n",
            "Test 88: N=91835\n",
            "Test 89: N=21285\n",
            "Test 90: N=15193\n",
            "Test 91: N=50326\n",
            "Test 92: N=2857\n",
            "Test 93: N=67852\n",
            "Test 94: N=41762\n",
            "Test 95: N=16961\n",
            "Test 96: N=23931\n",
            "Test 97: N=62152\n",
            "Test 98: N=40413\n",
            "Test 99: N=71761\n",
            "Test 100: N=92673\n"
          ]
        }
      ]
    },
    {
      "cell_type": "markdown",
      "source": [
        "Python Super Efficient\n"
      ],
      "metadata": {
        "id": "Pc7VTEj-rVAZ"
      }
    },
    {
      "cell_type": "code",
      "source": [
        "# Crear un script de Python para generar líneas de comando\n",
        "script_content = \"\"\"\\\n",
        "#!/usr/bin/env python\n",
        "\n",
        "for i in range(1, 101):\n",
        "    input_file = f\"inputltest{i}.txt\"\n",
        "    output_file = f\"outputltest{i}.txt\"\n",
        "    command = f\"python3 max_pairwise_product_sup.py < {input_file} > {output_file}\"\n",
        "    print(command)\n",
        "\"\"\"\n",
        "\n",
        "# Guardar el script en un archivo\n",
        "with open(\"generate_commands.py\", \"w\") as script_file:\n",
        "    script_file.write(script_content)\n"
      ],
      "metadata": {
        "id": "k3EogzzblL9K"
      },
      "execution_count": 226,
      "outputs": []
    },
    {
      "cell_type": "code",
      "source": [
        "!python generate_commands.py > run_tests.sh\n",
        "!chmod +x run_tests.sh\n",
        "!./run_tests.sh"
      ],
      "metadata": {
        "id": "MWJo-mxmlyoo"
      },
      "execution_count": 227,
      "outputs": []
    },
    {
      "cell_type": "code",
      "source": [
        "!cat outputltest1.txt\n",
        "!cat outputltest100.txt"
      ],
      "metadata": {
        "colab": {
          "base_uri": "https://localhost:8080/"
        },
        "id": "bo_6VglDo-Ls",
        "outputId": "9d613bb8-2283-45d6-ebce-146dbbc188ad"
      },
      "execution_count": 228,
      "outputs": [
        {
          "output_type": "stream",
          "name": "stdout",
          "text": [
            "9999800001\n",
            "9999400008\n"
          ]
        }
      ]
    },
    {
      "cell_type": "markdown",
      "source": [
        "C++ Super Efficient"
      ],
      "metadata": {
        "id": "F9XtPbZurYNI"
      }
    },
    {
      "cell_type": "code",
      "source": [
        "script_content = \"\"\"\\\n",
        "#!/usr/bin/env python\n",
        "\n",
        "cpp_file = \"max_pairwise_product_superefficient.cpp\"\n",
        "executable = \"./max_pairwise_product_superefficient\"\n",
        "\n",
        "# Compilar el programa C++\n",
        "compile_command = f\"g++ {cpp_file} -o {executable}\"\n",
        "print(compile_command)\n",
        "\n",
        "for i in range(1, 101):\n",
        "    input_file = f\"inputltest{i}.txt\"\n",
        "    output_file = f\"outputctest{i}.txt\"\n",
        "\n",
        "    run_command = f\"{executable} < {input_file} > {output_file}\"\n",
        "    print(run_command)\n",
        "\"\"\"\n",
        "\n",
        "# Guardar el script en un archivo\n",
        "with open(\"generate_commands_cpp.py\", \"w\") as script_file:\n",
        "    script_file.write(script_content)\n"
      ],
      "metadata": {
        "id": "A58hsmDOqr1a"
      },
      "execution_count": 229,
      "outputs": []
    },
    {
      "cell_type": "code",
      "source": [
        "!python generate_commands_cpp.py > run_tests_c.sh\n",
        "!chmod +x run_tests_c.sh\n",
        "!./run_tests_c.sh"
      ],
      "metadata": {
        "id": "zumCGfMItdZe"
      },
      "execution_count": 230,
      "outputs": []
    },
    {
      "cell_type": "code",
      "source": [
        "!cat outputctest1.txt\n",
        "!cat outputctest100.txt"
      ],
      "metadata": {
        "colab": {
          "base_uri": "https://localhost:8080/"
        },
        "id": "pkQTVQIYvk46",
        "outputId": "82206e6f-5637-47c0-f6fc-3b766fe0a199"
      },
      "execution_count": 231,
      "outputs": [
        {
          "output_type": "stream",
          "name": "stdout",
          "text": [
            "9999800001\n",
            "Execution Time: 1\n",
            "9999400008\n",
            "Execution Time: 1\n"
          ]
        }
      ]
    },
    {
      "cell_type": "markdown",
      "source": [
        "Test for the sort solutions python and c++:"
      ],
      "metadata": {
        "id": "gxtArNM6w11s"
      }
    },
    {
      "cell_type": "markdown",
      "source": [
        "Python Sort"
      ],
      "metadata": {
        "id": "a2C_CKz6x5VU"
      }
    },
    {
      "cell_type": "code",
      "source": [
        "script_content = \"\"\"\\\n",
        "#!/usr/bin/env python\n",
        "\n",
        "for i in range(1, 101):\n",
        "    input_file = f\"inputltest{i}.txt\"\n",
        "    output_file = f\"outputpysorttest{i}.txt\"\n",
        "    command = f\"python3 max_pairwise_product_sort.py < {input_file} > {output_file}\"\n",
        "    print(command)\n",
        "\"\"\"\n",
        "\n",
        "# Guardar el script en un archivo\n",
        "with open(\"generate_commands_sort.py\", \"w\") as script_file:\n",
        "    script_file.write(script_content)\n"
      ],
      "metadata": {
        "id": "WcrszYP-46s2"
      },
      "execution_count": 232,
      "outputs": []
    },
    {
      "cell_type": "code",
      "source": [
        "!python generate_commands_sort.py > run_tests_pysort.sh\n",
        "!chmod +x run_tests_pysort.sh\n",
        "!./run_tests_pysort.sh"
      ],
      "metadata": {
        "id": "QI2A_Fdo5SwU"
      },
      "execution_count": 233,
      "outputs": []
    },
    {
      "cell_type": "code",
      "source": [
        "!cat outputpysorttest1.txt\n",
        "!cat outputpysorttest100.txt"
      ],
      "metadata": {
        "colab": {
          "base_uri": "https://localhost:8080/"
        },
        "id": "0lCxpEbM5cJ9",
        "outputId": "3b139993-d490-4953-be61-1db72b23c187"
      },
      "execution_count": 234,
      "outputs": [
        {
          "output_type": "stream",
          "name": "stdout",
          "text": [
            "9999800001\n",
            "9999400008\n"
          ]
        }
      ]
    },
    {
      "cell_type": "markdown",
      "source": [
        "C++ Sort"
      ],
      "metadata": {
        "id": "5W1g4lUTm9th"
      }
    },
    {
      "cell_type": "code",
      "source": [
        "script_content = \"\"\"\\\n",
        "#!/usr/bin/env python\n",
        "\n",
        "cpp_file = \"max_pairwise_product_sort.cpp\"\n",
        "executable = \"./max_pairwise_product_sort\"\n",
        "\n",
        "compile_command = f\"g++ {cpp_file} -o {executable}\"\n",
        "print(compile_command)\n",
        "\n",
        "for i in range(1, 101):\n",
        "    input_file = f\"inputltest{i}.txt\"\n",
        "    output_file = f\"outputcsorttest{i}.txt\"\n",
        "\n",
        "    run_command = f\"{executable} < {input_file} > {output_file}\"\n",
        "    print(run_command)\n",
        "\"\"\"\n",
        "\n",
        "# Guardar el script en un archivo\n",
        "with open(\"generate_cpp_sort.py\", \"w\") as script_file:\n",
        "    script_file.write(script_content)"
      ],
      "metadata": {
        "id": "Wm8UmlvxnCQH"
      },
      "execution_count": 235,
      "outputs": []
    },
    {
      "cell_type": "code",
      "source": [
        "!python generate_cpp_sort.py > run_tests_c_sort.sh\n",
        "!chmod +x run_tests_c_sort.sh\n",
        "!./run_tests_c_sort.sh"
      ],
      "metadata": {
        "id": "HlQK10P2CH9m"
      },
      "execution_count": 236,
      "outputs": []
    },
    {
      "cell_type": "code",
      "source": [
        "!cat outputcsorttest1.txt\n",
        "!cat outputcsorttest100.txt"
      ],
      "metadata": {
        "colab": {
          "base_uri": "https://localhost:8080/"
        },
        "outputId": "24d087b9-db8c-43c7-ed10-5ba1286cbaa2",
        "id": "fsN-SHupCUfe"
      },
      "execution_count": 237,
      "outputs": [
        {
          "output_type": "stream",
          "name": "stdout",
          "text": [
            "9999800001\n",
            "9999400008\n"
          ]
        }
      ]
    },
    {
      "cell_type": "markdown",
      "source": [
        "Compare C++ Sort and C++ Superefficient"
      ],
      "metadata": {
        "id": "pxmp2BzhDrzy"
      }
    },
    {
      "cell_type": "code",
      "source": [
        "def compare_outputs(output_file1, output_file2):\n",
        "    with open(output_file1, 'r') as file1, open(output_file2, 'r') as file2:\n",
        "        for line1, line2 in zip(file1, file2):\n",
        "            if line1.strip() != line2.strip():\n",
        "                return \"Error\"\n",
        "    return \"Passed\"\n",
        "\n",
        "for i in range(1, 101):\n",
        "    output_file1 = f\"outputctest{i}.txt\"\n",
        "    output_file2 = f\"outputcsorttest{i}.txt\"\n",
        "    result = compare_outputs(output_file1, output_file2)\n",
        "    print(f\"Test {i}: {result}\")\n"
      ],
      "metadata": {
        "colab": {
          "base_uri": "https://localhost:8080/"
        },
        "id": "giTavBaSDz2h",
        "outputId": "c8bc4e95-579e-4954-a41c-ffcbc05bdf8c"
      },
      "execution_count": 238,
      "outputs": [
        {
          "output_type": "stream",
          "name": "stdout",
          "text": [
            "Test 1: Passed\n",
            "Test 2: Passed\n",
            "Test 3: Passed\n",
            "Test 4: Passed\n",
            "Test 5: Passed\n",
            "Test 6: Passed\n",
            "Test 7: Passed\n",
            "Test 8: Passed\n",
            "Test 9: Passed\n",
            "Test 10: Passed\n",
            "Test 11: Passed\n",
            "Test 12: Passed\n",
            "Test 13: Passed\n",
            "Test 14: Passed\n",
            "Test 15: Passed\n",
            "Test 16: Passed\n",
            "Test 17: Passed\n",
            "Test 18: Passed\n",
            "Test 19: Passed\n",
            "Test 20: Passed\n",
            "Test 21: Passed\n",
            "Test 22: Passed\n",
            "Test 23: Passed\n",
            "Test 24: Passed\n",
            "Test 25: Passed\n",
            "Test 26: Passed\n",
            "Test 27: Passed\n",
            "Test 28: Passed\n",
            "Test 29: Passed\n",
            "Test 30: Passed\n",
            "Test 31: Passed\n",
            "Test 32: Passed\n",
            "Test 33: Passed\n",
            "Test 34: Passed\n",
            "Test 35: Passed\n",
            "Test 36: Passed\n",
            "Test 37: Passed\n",
            "Test 38: Passed\n",
            "Test 39: Passed\n",
            "Test 40: Passed\n",
            "Test 41: Passed\n",
            "Test 42: Passed\n",
            "Test 43: Passed\n",
            "Test 44: Passed\n",
            "Test 45: Passed\n",
            "Test 46: Passed\n",
            "Test 47: Passed\n",
            "Test 48: Passed\n",
            "Test 49: Passed\n",
            "Test 50: Passed\n",
            "Test 51: Passed\n",
            "Test 52: Passed\n",
            "Test 53: Passed\n",
            "Test 54: Passed\n",
            "Test 55: Passed\n",
            "Test 56: Passed\n",
            "Test 57: Passed\n",
            "Test 58: Passed\n",
            "Test 59: Passed\n",
            "Test 60: Passed\n",
            "Test 61: Passed\n",
            "Test 62: Passed\n",
            "Test 63: Passed\n",
            "Test 64: Passed\n",
            "Test 65: Passed\n",
            "Test 66: Passed\n",
            "Test 67: Passed\n",
            "Test 68: Passed\n",
            "Test 69: Passed\n",
            "Test 70: Passed\n",
            "Test 71: Passed\n",
            "Test 72: Passed\n",
            "Test 73: Passed\n",
            "Test 74: Passed\n",
            "Test 75: Passed\n",
            "Test 76: Passed\n",
            "Test 77: Passed\n",
            "Test 78: Passed\n",
            "Test 79: Passed\n",
            "Test 80: Passed\n",
            "Test 81: Passed\n",
            "Test 82: Passed\n",
            "Test 83: Passed\n",
            "Test 84: Passed\n",
            "Test 85: Passed\n",
            "Test 86: Passed\n",
            "Test 87: Passed\n",
            "Test 88: Passed\n",
            "Test 89: Passed\n",
            "Test 90: Passed\n",
            "Test 91: Passed\n",
            "Test 92: Passed\n",
            "Test 93: Passed\n",
            "Test 94: Passed\n",
            "Test 95: Passed\n",
            "Test 96: Passed\n",
            "Test 97: Passed\n",
            "Test 98: Passed\n",
            "Test 99: Passed\n",
            "Test 100: Passed\n"
          ]
        }
      ]
    },
    {
      "cell_type": "markdown",
      "source": [
        "Compare Python Sort and Python Superefficient"
      ],
      "metadata": {
        "id": "MtDafc6FHM4T"
      }
    },
    {
      "cell_type": "code",
      "source": [
        "def compare_outputs(output_file1, output_file2):\n",
        "    with open(output_file1, 'r') as file1, open(output_file2, 'r') as file2:\n",
        "        for line1, line2 in zip(file1, file2):\n",
        "            if line1.strip() != line2.strip():\n",
        "                return \"Error\"\n",
        "    return \"Pass\"\n",
        "\n",
        "# Comparar los 100 archivos de salida\n",
        "for i in range(1, 101):\n",
        "    output_file1 = f\"outputltest{i}.txt\"\n",
        "    output_file2 = f\"outputpysorttest{i}.txt\"\n",
        "    result = compare_outputs(output_file1, output_file2)\n",
        "    print(f\"Test {i}: {result}\")\n"
      ],
      "metadata": {
        "colab": {
          "base_uri": "https://localhost:8080/"
        },
        "id": "vY1PDRMtDz0a",
        "outputId": "a7c47512-4ba3-41e7-c0c1-dcecd1ea3500"
      },
      "execution_count": 239,
      "outputs": [
        {
          "output_type": "stream",
          "name": "stdout",
          "text": [
            "Test 1: Pass\n",
            "Test 2: Pass\n",
            "Test 3: Pass\n",
            "Test 4: Pass\n",
            "Test 5: Pass\n",
            "Test 6: Pass\n",
            "Test 7: Pass\n",
            "Test 8: Pass\n",
            "Test 9: Pass\n",
            "Test 10: Pass\n",
            "Test 11: Pass\n",
            "Test 12: Pass\n",
            "Test 13: Pass\n",
            "Test 14: Pass\n",
            "Test 15: Pass\n",
            "Test 16: Pass\n",
            "Test 17: Pass\n",
            "Test 18: Pass\n",
            "Test 19: Pass\n",
            "Test 20: Pass\n",
            "Test 21: Pass\n",
            "Test 22: Pass\n",
            "Test 23: Pass\n",
            "Test 24: Pass\n",
            "Test 25: Pass\n",
            "Test 26: Pass\n",
            "Test 27: Pass\n",
            "Test 28: Pass\n",
            "Test 29: Pass\n",
            "Test 30: Pass\n",
            "Test 31: Pass\n",
            "Test 32: Pass\n",
            "Test 33: Pass\n",
            "Test 34: Pass\n",
            "Test 35: Pass\n",
            "Test 36: Pass\n",
            "Test 37: Pass\n",
            "Test 38: Pass\n",
            "Test 39: Pass\n",
            "Test 40: Pass\n",
            "Test 41: Pass\n",
            "Test 42: Pass\n",
            "Test 43: Pass\n",
            "Test 44: Pass\n",
            "Test 45: Pass\n",
            "Test 46: Pass\n",
            "Test 47: Pass\n",
            "Test 48: Pass\n",
            "Test 49: Pass\n",
            "Test 50: Pass\n",
            "Test 51: Pass\n",
            "Test 52: Pass\n",
            "Test 53: Pass\n",
            "Test 54: Pass\n",
            "Test 55: Pass\n",
            "Test 56: Pass\n",
            "Test 57: Pass\n",
            "Test 58: Pass\n",
            "Test 59: Pass\n",
            "Test 60: Pass\n",
            "Test 61: Pass\n",
            "Test 62: Pass\n",
            "Test 63: Pass\n",
            "Test 64: Pass\n",
            "Test 65: Pass\n",
            "Test 66: Pass\n",
            "Test 67: Pass\n",
            "Test 68: Pass\n",
            "Test 69: Pass\n",
            "Test 70: Pass\n",
            "Test 71: Pass\n",
            "Test 72: Pass\n",
            "Test 73: Pass\n",
            "Test 74: Pass\n",
            "Test 75: Pass\n",
            "Test 76: Pass\n",
            "Test 77: Pass\n",
            "Test 78: Pass\n",
            "Test 79: Pass\n",
            "Test 80: Pass\n",
            "Test 81: Pass\n",
            "Test 82: Pass\n",
            "Test 83: Pass\n",
            "Test 84: Pass\n",
            "Test 85: Pass\n",
            "Test 86: Pass\n",
            "Test 87: Pass\n",
            "Test 88: Pass\n",
            "Test 89: Pass\n",
            "Test 90: Pass\n",
            "Test 91: Pass\n",
            "Test 92: Pass\n",
            "Test 93: Pass\n",
            "Test 94: Pass\n",
            "Test 95: Pass\n",
            "Test 96: Pass\n",
            "Test 97: Pass\n",
            "Test 98: Pass\n",
            "Test 99: Pass\n",
            "Test 100: Pass\n"
          ]
        }
      ]
    }
  ],
  "metadata": {
    "colab": {
      "provenance": [],
      "collapsed_sections": [
        "H2SC0Qt5HCzz",
        "gx-sEYdfQ8f8",
        "9z9yr5QkeyJF",
        "JB6f03qO-lj9",
        "FXClpBsUJuXC",
        "fEZR-3V4ZjCv",
        "aoQI8Gh4JzLy",
        "i2c4tGYyJBFp"
      ],
      "include_colab_link": true
    },
    "kernelspec": {
      "display_name": "Python 3",
      "name": "python3"
    },
    "language_info": {
      "name": "python"
    }
  },
  "nbformat": 4,
  "nbformat_minor": 0
}